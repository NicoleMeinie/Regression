{
  "nbformat": 4,
  "nbformat_minor": 0,
  "metadata": {
    "colab": {
      "name": "Zindi.ipynb",
      "provenance": [],
      "collapsed_sections": [
        "NzYL9JgtJagO",
        "K08Ju4qNJoGH",
        "-Y-b-iGVsy1m",
        "g_C5eyct1DFv",
        "AE7fuekI-KV7"
      ],
      "authorship_tag": "ABX9TyOckuKjjSkqsBPfYm0s2xcM",
      "include_colab_link": true
    },
    "kernelspec": {
      "name": "python3",
      "display_name": "Python 3"
    }
  },
  "cells": [
    {
      "cell_type": "markdown",
      "metadata": {
        "id": "view-in-github",
        "colab_type": "text"
      },
      "source": [
        "<a href=\"https://colab.research.google.com/github/NicoleMeinie/Zindi_Regression/blob/master/Zindi.ipynb\" target=\"_parent\"><img src=\"https://colab.research.google.com/assets/colab-badge.svg\" alt=\"Open In Colab\"/></a>"
      ]
    },
    {
      "cell_type": "markdown",
      "metadata": {
        "id": "NzYL9JgtJagO",
        "colab_type": "text"
      },
      "source": [
        "#Import libraries "
      ]
    },
    {
      "cell_type": "code",
      "metadata": {
        "id": "efiRplymJjnR",
        "colab_type": "code",
        "colab": {
          "base_uri": "https://localhost:8080/",
          "height": 0
        },
        "outputId": "657a4e09-e79a-4a95-a540-e21aa25c60e8"
      },
      "source": [
        "import numpy as np\n",
        "import pandas as pd\n",
        "import matplotlib.pyplot as plt\n",
        "import seaborn as sns\n",
        "import scipy.stats as stats\n",
        "%matplotlib inline"
      ],
      "execution_count": 2,
      "outputs": [
        {
          "output_type": "stream",
          "text": [
            "/usr/local/lib/python3.6/dist-packages/statsmodels/tools/_testing.py:19: FutureWarning: pandas.util.testing is deprecated. Use the functions in the public API at pandas.testing instead.\n",
            "  import pandas.util.testing as tm\n"
          ],
          "name": "stderr"
        }
      ]
    },
    {
      "cell_type": "markdown",
      "metadata": {
        "id": "K08Ju4qNJoGH",
        "colab_type": "text"
      },
      "source": [
        "#Import data"
      ]
    },
    {
      "cell_type": "code",
      "metadata": {
        "id": "8tHQu0mIJqCG",
        "colab_type": "code",
        "colab": {}
      },
      "source": [
        "Test = pd.read_csv('Test.csv')\n",
        "Train = pd.read_csv('Train.csv')\n",
        "#Riders = pd.read_csv('Riders.csv')\n",
        "#SampleSubmission = pd.read_csv('SampleSubmission.csv')\n",
        "#VariableDefinitions = pd.read_csv('VariableDefinitions.csv')"
      ],
      "execution_count": 0,
      "outputs": []
    },
    {
      "cell_type": "markdown",
      "metadata": {
        "id": "nKacSQ6HS5xx",
        "colab_type": "text"
      },
      "source": [
        "#Exploratory Data Analysis"
      ]
    },
    {
      "cell_type": "code",
      "metadata": {
        "id": "KQ2pbMJsKZb4",
        "colab_type": "code",
        "colab": {
          "base_uri": "https://localhost:8080/",
          "height": 629
        },
        "outputId": "e82d5cbb-a0bd-460b-a123-fb8acc12666e"
      },
      "source": [
        "Train.info()"
      ],
      "execution_count": 4,
      "outputs": [
        {
          "output_type": "stream",
          "text": [
            "<class 'pandas.core.frame.DataFrame'>\n",
            "RangeIndex: 21201 entries, 0 to 21200\n",
            "Data columns (total 29 columns):\n",
            " #   Column                                     Non-Null Count  Dtype  \n",
            "---  ------                                     --------------  -----  \n",
            " 0   Order No                                   21201 non-null  object \n",
            " 1   User Id                                    21201 non-null  object \n",
            " 2   Vehicle Type                               21201 non-null  object \n",
            " 3   Platform Type                              21201 non-null  int64  \n",
            " 4   Personal or Business                       21201 non-null  object \n",
            " 5   Placement - Day of Month                   21201 non-null  int64  \n",
            " 6   Placement - Weekday (Mo = 1)               21201 non-null  int64  \n",
            " 7   Placement - Time                           21201 non-null  object \n",
            " 8   Confirmation - Day of Month                21201 non-null  int64  \n",
            " 9   Confirmation - Weekday (Mo = 1)            21201 non-null  int64  \n",
            " 10  Confirmation - Time                        21201 non-null  object \n",
            " 11  Arrival at Pickup - Day of Month           21201 non-null  int64  \n",
            " 12  Arrival at Pickup - Weekday (Mo = 1)       21201 non-null  int64  \n",
            " 13  Arrival at Pickup - Time                   21201 non-null  object \n",
            " 14  Pickup - Day of Month                      21201 non-null  int64  \n",
            " 15  Pickup - Weekday (Mo = 1)                  21201 non-null  int64  \n",
            " 16  Pickup - Time                              21201 non-null  object \n",
            " 17  Arrival at Destination - Day of Month      21201 non-null  int64  \n",
            " 18  Arrival at Destination - Weekday (Mo = 1)  21201 non-null  int64  \n",
            " 19  Arrival at Destination - Time              21201 non-null  object \n",
            " 20  Distance (KM)                              21201 non-null  int64  \n",
            " 21  Temperature                                16835 non-null  float64\n",
            " 22  Precipitation in millimeters               552 non-null    float64\n",
            " 23  Pickup Lat                                 21201 non-null  float64\n",
            " 24  Pickup Long                                21201 non-null  float64\n",
            " 25  Destination Lat                            21201 non-null  float64\n",
            " 26  Destination Long                           21201 non-null  float64\n",
            " 27  Rider Id                                   21201 non-null  object \n",
            " 28  Time from Pickup to Arrival                21201 non-null  int64  \n",
            "dtypes: float64(6), int64(13), object(10)\n",
            "memory usage: 4.7+ MB\n"
          ],
          "name": "stdout"
        }
      ]
    },
    {
      "cell_type": "markdown",
      "metadata": {
        "id": "6pq55q8_wOvq",
        "colab_type": "text"
      },
      "source": [
        "Observations:\n",
        "\n",
        "*   The 'Time' columns are stored as object datatypes instead of date_time\n",
        "*   The 'Temperature' and 'Percipitation' columns contain Null values\n",
        "*   There are a few ID columns that can be dropped for the purpose of training the models\n",
        "* The 'Vehicle Type' column can be dropped since all the entries are 'Bike'\n",
        "* The 'Personal or Business' column only contains the strings 'personal'and 'business' this will have to be encoded before the data can be used to train the models \n",
        "\n",
        "\n",
        "\n",
        "\n"
      ]
    },
    {
      "cell_type": "code",
      "metadata": {
        "id": "4_aeCl3Sv-Y6",
        "colab_type": "code",
        "colab": {
          "base_uri": "https://localhost:8080/",
          "height": 638
        },
        "outputId": "dd2ddee5-3c20-47f5-bb41-5a2d8dfd8cf8"
      },
      "source": [
        "Train.describe().T"
      ],
      "execution_count": 5,
      "outputs": [
        {
          "output_type": "execute_result",
          "data": {
            "text/html": [
              "<div>\n",
              "<style scoped>\n",
              "    .dataframe tbody tr th:only-of-type {\n",
              "        vertical-align: middle;\n",
              "    }\n",
              "\n",
              "    .dataframe tbody tr th {\n",
              "        vertical-align: top;\n",
              "    }\n",
              "\n",
              "    .dataframe thead th {\n",
              "        text-align: right;\n",
              "    }\n",
              "</style>\n",
              "<table border=\"1\" class=\"dataframe\">\n",
              "  <thead>\n",
              "    <tr style=\"text-align: right;\">\n",
              "      <th></th>\n",
              "      <th>count</th>\n",
              "      <th>mean</th>\n",
              "      <th>std</th>\n",
              "      <th>min</th>\n",
              "      <th>25%</th>\n",
              "      <th>50%</th>\n",
              "      <th>75%</th>\n",
              "      <th>max</th>\n",
              "    </tr>\n",
              "  </thead>\n",
              "  <tbody>\n",
              "    <tr>\n",
              "      <th>Platform Type</th>\n",
              "      <td>21201.0</td>\n",
              "      <td>2.752182</td>\n",
              "      <td>0.625178</td>\n",
              "      <td>1.000000</td>\n",
              "      <td>3.000000</td>\n",
              "      <td>3.000000</td>\n",
              "      <td>3.000000</td>\n",
              "      <td>4.000000</td>\n",
              "    </tr>\n",
              "    <tr>\n",
              "      <th>Placement - Day of Month</th>\n",
              "      <td>21201.0</td>\n",
              "      <td>15.653696</td>\n",
              "      <td>8.798916</td>\n",
              "      <td>1.000000</td>\n",
              "      <td>8.000000</td>\n",
              "      <td>15.000000</td>\n",
              "      <td>23.000000</td>\n",
              "      <td>31.000000</td>\n",
              "    </tr>\n",
              "    <tr>\n",
              "      <th>Placement - Weekday (Mo = 1)</th>\n",
              "      <td>21201.0</td>\n",
              "      <td>3.240083</td>\n",
              "      <td>1.567295</td>\n",
              "      <td>1.000000</td>\n",
              "      <td>2.000000</td>\n",
              "      <td>3.000000</td>\n",
              "      <td>5.000000</td>\n",
              "      <td>7.000000</td>\n",
              "    </tr>\n",
              "    <tr>\n",
              "      <th>Confirmation - Day of Month</th>\n",
              "      <td>21201.0</td>\n",
              "      <td>15.653837</td>\n",
              "      <td>8.798886</td>\n",
              "      <td>1.000000</td>\n",
              "      <td>8.000000</td>\n",
              "      <td>15.000000</td>\n",
              "      <td>23.000000</td>\n",
              "      <td>31.000000</td>\n",
              "    </tr>\n",
              "    <tr>\n",
              "      <th>Confirmation - Weekday (Mo = 1)</th>\n",
              "      <td>21201.0</td>\n",
              "      <td>3.240225</td>\n",
              "      <td>1.567228</td>\n",
              "      <td>1.000000</td>\n",
              "      <td>2.000000</td>\n",
              "      <td>3.000000</td>\n",
              "      <td>5.000000</td>\n",
              "      <td>7.000000</td>\n",
              "    </tr>\n",
              "    <tr>\n",
              "      <th>Arrival at Pickup - Day of Month</th>\n",
              "      <td>21201.0</td>\n",
              "      <td>15.653837</td>\n",
              "      <td>8.798886</td>\n",
              "      <td>1.000000</td>\n",
              "      <td>8.000000</td>\n",
              "      <td>15.000000</td>\n",
              "      <td>23.000000</td>\n",
              "      <td>31.000000</td>\n",
              "    </tr>\n",
              "    <tr>\n",
              "      <th>Arrival at Pickup - Weekday (Mo = 1)</th>\n",
              "      <td>21201.0</td>\n",
              "      <td>3.240225</td>\n",
              "      <td>1.567228</td>\n",
              "      <td>1.000000</td>\n",
              "      <td>2.000000</td>\n",
              "      <td>3.000000</td>\n",
              "      <td>5.000000</td>\n",
              "      <td>7.000000</td>\n",
              "    </tr>\n",
              "    <tr>\n",
              "      <th>Pickup - Day of Month</th>\n",
              "      <td>21201.0</td>\n",
              "      <td>15.653837</td>\n",
              "      <td>8.798886</td>\n",
              "      <td>1.000000</td>\n",
              "      <td>8.000000</td>\n",
              "      <td>15.000000</td>\n",
              "      <td>23.000000</td>\n",
              "      <td>31.000000</td>\n",
              "    </tr>\n",
              "    <tr>\n",
              "      <th>Pickup - Weekday (Mo = 1)</th>\n",
              "      <td>21201.0</td>\n",
              "      <td>3.240225</td>\n",
              "      <td>1.567228</td>\n",
              "      <td>1.000000</td>\n",
              "      <td>2.000000</td>\n",
              "      <td>3.000000</td>\n",
              "      <td>5.000000</td>\n",
              "      <td>7.000000</td>\n",
              "    </tr>\n",
              "    <tr>\n",
              "      <th>Arrival at Destination - Day of Month</th>\n",
              "      <td>21201.0</td>\n",
              "      <td>15.653837</td>\n",
              "      <td>8.798886</td>\n",
              "      <td>1.000000</td>\n",
              "      <td>8.000000</td>\n",
              "      <td>15.000000</td>\n",
              "      <td>23.000000</td>\n",
              "      <td>31.000000</td>\n",
              "    </tr>\n",
              "    <tr>\n",
              "      <th>Arrival at Destination - Weekday (Mo = 1)</th>\n",
              "      <td>21201.0</td>\n",
              "      <td>3.240225</td>\n",
              "      <td>1.567228</td>\n",
              "      <td>1.000000</td>\n",
              "      <td>2.000000</td>\n",
              "      <td>3.000000</td>\n",
              "      <td>5.000000</td>\n",
              "      <td>7.000000</td>\n",
              "    </tr>\n",
              "    <tr>\n",
              "      <th>Distance (KM)</th>\n",
              "      <td>21201.0</td>\n",
              "      <td>9.506533</td>\n",
              "      <td>5.668963</td>\n",
              "      <td>1.000000</td>\n",
              "      <td>5.000000</td>\n",
              "      <td>8.000000</td>\n",
              "      <td>13.000000</td>\n",
              "      <td>49.000000</td>\n",
              "    </tr>\n",
              "    <tr>\n",
              "      <th>Temperature</th>\n",
              "      <td>16835.0</td>\n",
              "      <td>23.258889</td>\n",
              "      <td>3.615768</td>\n",
              "      <td>11.200000</td>\n",
              "      <td>20.600000</td>\n",
              "      <td>23.500000</td>\n",
              "      <td>26.000000</td>\n",
              "      <td>32.100000</td>\n",
              "    </tr>\n",
              "    <tr>\n",
              "      <th>Precipitation in millimeters</th>\n",
              "      <td>552.0</td>\n",
              "      <td>7.905797</td>\n",
              "      <td>17.089971</td>\n",
              "      <td>0.100000</td>\n",
              "      <td>1.075000</td>\n",
              "      <td>2.900000</td>\n",
              "      <td>4.900000</td>\n",
              "      <td>99.100000</td>\n",
              "    </tr>\n",
              "    <tr>\n",
              "      <th>Pickup Lat</th>\n",
              "      <td>21201.0</td>\n",
              "      <td>-1.281470</td>\n",
              "      <td>0.030507</td>\n",
              "      <td>-1.438302</td>\n",
              "      <td>-1.300921</td>\n",
              "      <td>-1.279395</td>\n",
              "      <td>-1.257147</td>\n",
              "      <td>-1.147170</td>\n",
              "    </tr>\n",
              "    <tr>\n",
              "      <th>Pickup Long</th>\n",
              "      <td>21201.0</td>\n",
              "      <td>36.811264</td>\n",
              "      <td>0.037473</td>\n",
              "      <td>36.653621</td>\n",
              "      <td>36.784605</td>\n",
              "      <td>36.807040</td>\n",
              "      <td>36.829741</td>\n",
              "      <td>36.991046</td>\n",
              "    </tr>\n",
              "    <tr>\n",
              "      <th>Destination Lat</th>\n",
              "      <td>21201.0</td>\n",
              "      <td>-1.282581</td>\n",
              "      <td>0.034824</td>\n",
              "      <td>-1.430298</td>\n",
              "      <td>-1.301201</td>\n",
              "      <td>-1.284382</td>\n",
              "      <td>-1.261177</td>\n",
              "      <td>-1.030225</td>\n",
              "    </tr>\n",
              "    <tr>\n",
              "      <th>Destination Long</th>\n",
              "      <td>21201.0</td>\n",
              "      <td>36.811220</td>\n",
              "      <td>0.044721</td>\n",
              "      <td>36.606594</td>\n",
              "      <td>36.785661</td>\n",
              "      <td>36.808002</td>\n",
              "      <td>36.829477</td>\n",
              "      <td>37.016779</td>\n",
              "    </tr>\n",
              "    <tr>\n",
              "      <th>Time from Pickup to Arrival</th>\n",
              "      <td>21201.0</td>\n",
              "      <td>1556.920947</td>\n",
              "      <td>987.270788</td>\n",
              "      <td>1.000000</td>\n",
              "      <td>882.000000</td>\n",
              "      <td>1369.000000</td>\n",
              "      <td>2040.000000</td>\n",
              "      <td>7883.000000</td>\n",
              "    </tr>\n",
              "  </tbody>\n",
              "</table>\n",
              "</div>"
            ],
            "text/plain": [
              "                                             count  ...          max\n",
              "Platform Type                              21201.0  ...     4.000000\n",
              "Placement - Day of Month                   21201.0  ...    31.000000\n",
              "Placement - Weekday (Mo = 1)               21201.0  ...     7.000000\n",
              "Confirmation - Day of Month                21201.0  ...    31.000000\n",
              "Confirmation - Weekday (Mo = 1)            21201.0  ...     7.000000\n",
              "Arrival at Pickup - Day of Month           21201.0  ...    31.000000\n",
              "Arrival at Pickup - Weekday (Mo = 1)       21201.0  ...     7.000000\n",
              "Pickup - Day of Month                      21201.0  ...    31.000000\n",
              "Pickup - Weekday (Mo = 1)                  21201.0  ...     7.000000\n",
              "Arrival at Destination - Day of Month      21201.0  ...    31.000000\n",
              "Arrival at Destination - Weekday (Mo = 1)  21201.0  ...     7.000000\n",
              "Distance (KM)                              21201.0  ...    49.000000\n",
              "Temperature                                16835.0  ...    32.100000\n",
              "Precipitation in millimeters                 552.0  ...    99.100000\n",
              "Pickup Lat                                 21201.0  ...    -1.147170\n",
              "Pickup Long                                21201.0  ...    36.991046\n",
              "Destination Lat                            21201.0  ...    -1.030225\n",
              "Destination Long                           21201.0  ...    37.016779\n",
              "Time from Pickup to Arrival                21201.0  ...  7883.000000\n",
              "\n",
              "[19 rows x 8 columns]"
            ]
          },
          "metadata": {
            "tags": []
          },
          "execution_count": 5
        }
      ]
    },
    {
      "cell_type": "markdown",
      "metadata": {
        "id": "eweZvdZfyNJO",
        "colab_type": "text"
      },
      "source": [
        "Observations:\n",
        "\n",
        "*   The 'Platform Type' column only contains the numbers 1 - 4, which corresponds to the different platforms customers can use to place their orders.\n",
        "*   The average distance travelled to deliver an order is 9.5km with a std of 5.7km.\n",
        "* The arverage Temperature at the time of delivery is 23 degrees celcius with a std of 3.2.\n",
        "\n"
      ]
    },
    {
      "cell_type": "code",
      "metadata": {
        "id": "WeH2VbxXdSqB",
        "colab_type": "code",
        "colab": {
          "base_uri": "https://localhost:8080/",
          "height": 339
        },
        "outputId": "e64e348b-956d-4bc7-ee34-3a844ad77fc8"
      },
      "source": [
        "# Plotting a histogram of delivery times and outlier threshold\n",
        "\n",
        "mu = Train.iloc[:,28].mean()\n",
        "sd = Train.iloc[:,28].std()\n",
        "li = mu + 3*sd\n",
        "\n",
        "sns.set()\n",
        "_ = plt.figure(figsize = (10,5))\n",
        "_ = plt.hist(Train.iloc[:,28], bins = 70, color = 'blue')\n",
        "_ = plt.xlabel('Delivery Time (seconds)')\n",
        "_ = plt.ylabel('Number of orders')\n",
        "_ = plt.axvline(li, color = 'gray', linestyle = 'dashed', linewidth = 1)\n",
        "plt.show()\n"
      ],
      "execution_count": 17,
      "outputs": [
        {
          "output_type": "display_data",
          "data": {
            "image/png": "[encoded data removed]",
            "text/plain": [
              "<Figure size 720x360 with 1 Axes>"
            ]
          },
          "metadata": {
            "tags": []
          }
        }
      ]
    },
    {
      "cell_type": "markdown",
      "metadata": {
        "id": "moBLi0IfkjAH",
        "colab_type": "text"
      },
      "source": [
        "From the histogram plot above it’s clear that the delivery times are skewed, with the majority of orders being delivered in about 16 minutes \n",
        "\n",
        "The grey dotted line above indicates the threshold for existance of outliers (measured by the presence of values 3 standard deviation away from the mean.)"
      ]
    },
    {
      "cell_type": "code",
      "metadata": {
        "id": "YqO2ypj9XMt1",
        "colab_type": "code",
        "colab": {
          "base_uri": "https://localhost:8080/",
          "height": 355
        },
        "outputId": "c41b976e-a7fa-4e0c-8482-dd8306566ecb"
      },
      "source": [
        "# Plotting the relationship between the delivery time and distance travelled\n",
        "\n",
        "sns.set()\n",
        "_ = plt.figure(figsize = (10,5))\n",
        "_ = plt.scatter(Train.iloc[:,20],Train.iloc[:,28], color = 'blue')\n",
        "_ = plt.title('Delivery time vs Distance travelled')\n",
        "_ = plt.xlabel('Distance(KM)')\n",
        "_ = plt.ylabel('Delivery Time (seconds)')\n",
        "plt.show()\n"
      ],
      "execution_count": 19,
      "outputs": [
        {
          "output_type": "display_data",
          "data": {
            "image/png": "[encoded data removed]",
            "text/plain": [
              "<Figure size 720x360 with 1 Axes>"
            ]
          },
          "metadata": {
            "tags": []
          }
        }
      ]
    },
    {
      "cell_type": "markdown",
      "metadata": {
        "id": "-Y-b-iGVsy1m",
        "colab_type": "text"
      },
      "source": [
        "# Checking for Multicolinearity"
      ]
    },
    {
      "cell_type": "code",
      "metadata": {
        "id": "SC7dpMQWs2q2",
        "colab_type": "code",
        "colab": {}
      },
      "source": [
        "features = Train.iloc[:,:-1]\n",
        "targets = Train.iloc[:,-1]\n",
        "\n",
        "#creating pairwise correlation of columns using Pearson's R,\n",
        "corr = features.corr(method='pearson') \n",
        "\n",
        "#plotting the correlation coefficients on a seasborn heatmap matrix\n",
        "fig, ax = plt.subplots(figsize=(6,5))\n",
        "sns.heatmap(corr, xticklabels=corr.columns, \n",
        "            yticklabels=corr.columns, ax=ax, linewidths=.5, \n",
        "            vmin = -1, vmax=1, center=0)\n",
        "\n",
        "plt.title('Correlation HeatMap')\n",
        "plt.show()"
      ],
      "execution_count": 0,
      "outputs": []
    },
    {
      "cell_type": "markdown",
      "metadata": {
        "id": "g_C5eyct1DFv",
        "colab_type": "text"
      },
      "source": [
        "# Converting data types and dealing with missing values"
      ]
    },
    {
      "cell_type": "code",
      "metadata": {
        "id": "0ThpMpmQORpk",
        "colab_type": "code",
        "colab": {}
      },
      "source": [
        "# converting object data types to date_time \n",
        "Train['Placement - Time'] = pd.to_datetime(Train['Placement - Time'])\n",
        "Train['Confirmation - Time'] = pd.to_datetime(Train['Confirmation - Time'])\n",
        "Train['Arrival at Pickup - Time'] = pd.to_datetime(Train['Arrival at Pickup - Time'])\n",
        "Train['Pickup - Time'] = pd.to_datetime(Train['Pickup - Time'])\n",
        "Train['Arrival at Destination - Time'] = pd.to_datetime(Train['Arrival at Destination - Time'])\n",
        "\n",
        "# Replacing Null values in the temperature column with the average value \n",
        "from sklearn.impute import SimpleImputer\n",
        "imputer_temp = SimpleImputer(missing_values = np.NaN, strategy = 'mean')\n",
        "imputer_temp.fit(Train.iloc[:,20:22])\n",
        "Train.iloc[:,20:22] = imputer_temp.transform(Train.iloc[:,20:22])\n",
        "\n",
        "# Replacing the Null values in the precipitation column with 0\n",
        "imputer_prec = SimpleImputer(missing_values = np.NaN, strategy = 'constant', fill_value = 0)\n",
        "imputer_prec.fit(Train.iloc[:,22:])\n",
        "Train.iloc[:,22:] = imputer_prec.transform(Train.iloc[:,22:])         \n",
        "\n",
        "# Drop Vehcle type column since we are only dealing with bikes \n",
        "# Train.drop('Vehicle Type', axis=1, inplace=True)\n",
        "Train.info()"
      ],
      "execution_count": 0,
      "outputs": []
    },
    {
      "cell_type": "markdown",
      "metadata": {
        "id": "AE7fuekI-KV7",
        "colab_type": "text"
      },
      "source": [
        "# Encode Categorical data\n",
        "The 'business or personal' column needs to be converted to 1's and 0's\n",
        "\n",
        "> Business = 1\n",
        "\n",
        "> Personal = 0\n",
        "\n"
      ]
    },
    {
      "cell_type": "code",
      "metadata": {
        "id": "ENL003sv-7uZ",
        "colab_type": "code",
        "colab": {}
      },
      "source": [
        "#from sklearn.preprocessing import OneHotEncoder\n",
        "#from sklearn.compose import ColumnTransformer\n",
        "\n",
        "#ct = ColumnTransformer(transformers = [('encoder', OneHotEncoder(), [4])], remainder = 'passthrough')\n",
        "#Train = np.array(ct.fit_transform(Train))"
      ],
      "execution_count": 0,
      "outputs": []
    },
    {
      "cell_type": "markdown",
      "metadata": {
        "id": "PkoocvDEkM7D",
        "colab_type": "text"
      },
      "source": [
        "# Building the different models\n",
        "\n",
        "* Multiple linear regression\n",
        "* polynomial regression \n",
        "* Decision Tree Regression\n",
        "* Random Forest Regression\n",
        "\n",
        "\n",
        "\n"
      ]
    },
    {
      "cell_type": "code",
      "metadata": {
        "id": "9HUI1tjt6_QP",
        "colab_type": "code",
        "colab": {}
      },
      "source": [
        "# Thinning the train data set - only want the variables that actually have an effect on the delivery time \n",
        "Train_lin = Train.iloc[:,20:]\n",
        "Train_lin.drop('Rider Id', axis=1, inplace=True)\n",
        "Train_lin.drop('Pickup Long', axis=1, inplace=True)\n",
        "Train_lin.drop('Pickup Lat', axis=1, inplace=True)\n",
        "Train_lin.drop('Destination Lat', axis=1, inplace=True)\n",
        "Train_lin.drop('Destination Long', axis=1, inplace=True)\n",
        "Train_lin.info()\n",
        "X = Train_lin.iloc[:,:-1]\n",
        "y = Train_lin.iloc[:,-1]\n",
        "\n",
        "# splitting the data in a test and train set\n",
        "from sklearn.model_selection import train_test_split\n",
        "X_train, X_test, y_train, y_test = train_test_split(X, y, test_size = 0.2)\n",
        "\n",
        "# Building a linear regression model \n",
        "from sklearn.linear_model import LinearRegression\n",
        "lm = LinearRegression()\n",
        "lm.fit(X_train,y_train)\n",
        "\n",
        "# Building a decision tree regression model \n",
        "from sklearn.tree import DecisionTreeRegressor\n",
        "tree = DecisionTreeRegressor()\n",
        "tree.fit(X_train, y_train)\n",
        "\n",
        "# Building a random forest regression model \n",
        "from sklearn.ensemble import RandomForestRegressor\n",
        "forest = RandomForestRegressor(n_estimators = 25)\n",
        "forest.fit(X_test, y_test)"
      ],
      "execution_count": 0,
      "outputs": []
    },
    {
      "cell_type": "markdown",
      "metadata": {
        "id": "n54GZIzHDxAJ",
        "colab_type": "text"
      },
      "source": [
        "#Calculating RMSE"
      ]
    },
    {
      "cell_type": "code",
      "metadata": {
        "id": "XGePXZBoDRNl",
        "colab_type": "code",
        "colab": {}
      },
      "source": [
        "from sklearn.metrics import mean_squared_error\n",
        "\n",
        "# Multiple linear regression\n",
        "y_pred_test = lm.predict(X_test)\n",
        "y_pred_train = lm.predict(X_train)\n",
        "rmse_test = np.sqrt(mean_squared_error(y_test, y_pred_test))\n",
        "rmse_train = np.sqrt(mean_squared_error(y_train, y_pred_train))\n",
        "\n",
        "# Decision Tree regression\n",
        "y_pred_test_tree = tree.predict(X_test)\n",
        "y_pred_train_tree = tree.predict(X_train)\n",
        "rmse_test_tree = np.sqrt(mean_squared_error(y_test, y_pred_test_tree))\n",
        "rmse_train_tree = np.sqrt(mean_squared_error(y_train, y_pred_train_tree))\n",
        "\n",
        "# Random forrest regression \n",
        "y_pred_test_forest = forest.predict(X_test)\n",
        "y_pred_train_forest = forest.predict(X_train)\n",
        "rmse_test_forest = np.sqrt(mean_squared_error(y_test, y_pred_test_forest))\n",
        "rmse_train_forest = np.sqrt(mean_squared_error(y_train, y_pred_train_forest))\n",
        "\n",
        "\n",
        "print(\"Multiple linear regression:\")\n",
        "print(\"Root Mean Squared Error of Training Set: {}\".format(rmse_train))\n",
        "print(\"Root Mean Squared Error of Testing Set: {}\".format(rmse_test))"
      ],
      "execution_count": 0,
      "outputs": []
    }
  ]
}