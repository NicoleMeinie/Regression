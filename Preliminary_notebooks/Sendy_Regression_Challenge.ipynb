{
 "cells": [
  {
   "cell_type": "markdown",
   "metadata": {
    "colab_type": "text",
    "id": "CazISR8X_HUG"
   },
   "source": [
    "# Sendy Regression Challenge"
   ]
  },
  {
   "cell_type": "markdown",
   "metadata": {},
   "source": [
    "## Introduction"
   ]
  },
  {
   "cell_type": "markdown",
   "metadata": {
    "colab_type": "text",
    "id": "pOyqYHTk_Q57"
   },
   "source": [
    "## Importing the libraries"
   ]
  },
  {
   "cell_type": "code",
   "execution_count": 952,
   "metadata": {
    "colab": {},
    "colab_type": "code",
    "id": "T_YHJjnD_Tja"
   },
   "outputs": [],
   "source": [
    "import numpy as np\n",
    "import matplotlib.pyplot as plt\n",
    "import pandas as pd\n",
    "import scipy.stats as stats\n",
    "import seaborn as sns\n",
    "%matplotlib inline"
   ]
  },
  {
   "cell_type": "markdown",
   "metadata": {
    "colab_type": "text",
    "id": "vgC61-ah_WIz"
   },
   "source": [
    "## Importing the dataset"
   ]
  },
  {
   "cell_type": "code",
   "execution_count": 786,
   "metadata": {
    "colab": {},
    "colab_type": "code",
    "id": "UrxyEKGn_ez7"
   },
   "outputs": [],
   "source": [
    "Train = pd.read_csv('Train.csv')\n",
    "Riders = pd.read_csv('Riders.csv')\n",
    "Test = pd.read_csv('Test.csv')"
   ]
  },
  {
   "cell_type": "markdown",
   "metadata": {},
   "source": [
    "## EDA"
   ]
  },
  {
   "cell_type": "code",
   "execution_count": 946,
   "metadata": {},
   "outputs": [
    {
     "name": "stdout",
     "output_type": "stream",
     "text": [
      "<class 'pandas.core.frame.DataFrame'>\n",
      "RangeIndex: 21201 entries, 0 to 21200\n",
      "Data columns (total 29 columns):\n",
      " #   Column                                     Non-Null Count  Dtype  \n",
      "---  ------                                     --------------  -----  \n",
      " 0   Order No                                   21201 non-null  object \n",
      " 1   User Id                                    21201 non-null  object \n",
      " 2   Vehicle Type                               21201 non-null  object \n",
      " 3   Platform Type                              21201 non-null  int64  \n",
      " 4   Personal or Business                       21201 non-null  object \n",
      " 5   Placement - Day of Month                   21201 non-null  int64  \n",
      " 6   Placement - Weekday (Mo = 1)               21201 non-null  int64  \n",
      " 7   Placement - Time                           21201 non-null  object \n",
      " 8   Confirmation - Day of Month                21201 non-null  int64  \n",
      " 9   Confirmation - Weekday (Mo = 1)            21201 non-null  int64  \n",
      " 10  Confirmation - Time                        21201 non-null  object \n",
      " 11  Arrival at Pickup - Day of Month           21201 non-null  int64  \n",
      " 12  Arrival at Pickup - Weekday (Mo = 1)       21201 non-null  int64  \n",
      " 13  Arrival at Pickup - Time                   21201 non-null  object \n",
      " 14  Pickup - Day of Month                      21201 non-null  int64  \n",
      " 15  Pickup - Weekday (Mo = 1)                  21201 non-null  int64  \n",
      " 16  Pickup - Time                              21201 non-null  object \n",
      " 17  Arrival at Destination - Day of Month      21201 non-null  int64  \n",
      " 18  Arrival at Destination - Weekday (Mo = 1)  21201 non-null  int64  \n",
      " 19  Arrival at Destination - Time              21201 non-null  object \n",
      " 20  Distance (KM)                              21201 non-null  int64  \n",
      " 21  Temperature                                16835 non-null  float64\n",
      " 22  Precipitation in millimeters               552 non-null    float64\n",
      " 23  Pickup Lat                                 21201 non-null  float64\n",
      " 24  Pickup Long                                21201 non-null  float64\n",
      " 25  Destination Lat                            21201 non-null  float64\n",
      " 26  Destination Long                           21201 non-null  float64\n",
      " 27  Rider Id                                   21201 non-null  object \n",
      " 28  Time from Pickup to Arrival                21201 non-null  int64  \n",
      "dtypes: float64(6), int64(13), object(10)\n",
      "memory usage: 4.7+ MB\n"
     ]
    }
   ],
   "source": [
    "Train.info()"
   ]
  },
  {
   "cell_type": "raw",
   "metadata": {},
   "source": [
    "-The Test.csv has a missing column, Time from Pickup to arrival, which is a variable that will be predicted in this project.\n",
    "\n",
    "Simillarities between the Train and Test data:\n",
    "The 'Time' columns are stored as object datatypes instead of date_time\n",
    "The 'Temperature' and 'Percipitation' columns contain Null values\n",
    "There user ID column can be dropped for from the datasets the purpose of training the model\n",
    "The 'Vehicle Type' column can be dropped as it contains only one type - 'Bike'\n",
    "The 'Personal or Business' column contains strings which will be encoded before use to train the model.\n",
    "The 'Platform Type' column contains numbers 1 - 4, which corresponds to the different platforms customers can use to place their orders.\n"
   ]
  },
  {
   "cell_type": "code",
   "execution_count": 948,
   "metadata": {},
   "outputs": [
    {
     "name": "stdout",
     "output_type": "stream",
     "text": [
      "<class 'pandas.core.frame.DataFrame'>\n",
      "RangeIndex: 960 entries, 0 to 959\n",
      "Data columns (total 5 columns):\n",
      " #   Column          Non-Null Count  Dtype  \n",
      "---  ------          --------------  -----  \n",
      " 0   Rider Id        960 non-null    object \n",
      " 1   No_Of_Orders    960 non-null    int64  \n",
      " 2   Age             960 non-null    int64  \n",
      " 3   Average_Rating  960 non-null    float64\n",
      " 4   No_of_Ratings   960 non-null    int64  \n",
      "dtypes: float64(1), int64(3), object(1)\n",
      "memory usage: 37.6+ KB\n"
     ]
    }
   ],
   "source": [
    "Riders.info()"
   ]
  },
  {
   "cell_type": "raw",
   "metadata": {},
   "source": [
    "Important information on riders that make the deliveries was provided. This dataset has no missing values and datatypes are in a correct format. "
   ]
  },
  {
   "cell_type": "markdown",
   "metadata": {},
   "source": [
    "## Merging the Train and Riders set for more analysis."
   ]
  },
  {
   "cell_type": "code",
   "execution_count": 787,
   "metadata": {},
   "outputs": [],
   "source": [
    "total = Train.merge(Riders, how='left', on='Rider Id')"
   ]
  },
  {
   "cell_type": "code",
   "execution_count": 788,
   "metadata": {},
   "outputs": [],
   "source": [
    "#Creating New Column(I want Dependant variable to be last column of the dataframe)\n",
    "total['Time from Pickup to Arrival New']= total['Time from Pickup to Arrival']\n",
    "\n",
    "#Dropping the Old-duplicate Y column\n",
    "total = total.drop(['Time from Pickup to Arrival'], axis=1)\n",
    "\n",
    "#Renaming the column back to Time from Pickup to Arrival\n",
    "total.rename(columns={'Time from Pickup to Arrival New':'Time from Pickup to Arrival'}, inplace=True)"
   ]
  },
  {
   "cell_type": "code",
   "execution_count": 789,
   "metadata": {},
   "outputs": [],
   "source": [
    "#Dropping other unneeded columns [Vehihle Type(Only Bikes), User Id(Object)]\n",
    "total = total.drop(['Vehicle Type'], axis=1)\n",
    "total = total.drop(['User Id'], axis=1)"
   ]
  },
  {
   "cell_type": "code",
   "execution_count": 953,
   "metadata": {},
   "outputs": [
    {
     "name": "stdout",
     "output_type": "stream",
     "text": [
      "<class 'pandas.core.frame.DataFrame'>\n",
      "Int64Index: 21201 entries, 0 to 21200\n",
      "Data columns (total 31 columns):\n",
      " #   Column                                     Non-Null Count  Dtype         \n",
      "---  ------                                     --------------  -----         \n",
      " 0   Order No                                   21201 non-null  object        \n",
      " 1   Platform Type                              21201 non-null  int64         \n",
      " 2   Personal or Business                       21201 non-null  object        \n",
      " 3   Placement - Day of Month                   21201 non-null  int64         \n",
      " 4   Placement - Weekday (Mo = 1)               21201 non-null  int64         \n",
      " 5   Placement - Time                           21201 non-null  datetime64[ns]\n",
      " 6   Confirmation - Day of Month                21201 non-null  int64         \n",
      " 7   Confirmation - Weekday (Mo = 1)            21201 non-null  int64         \n",
      " 8   Confirmation - Time                        21201 non-null  datetime64[ns]\n",
      " 9   Arrival at Pickup - Day of Month           21201 non-null  int64         \n",
      " 10  Arrival at Pickup - Weekday (Mo = 1)       21201 non-null  int64         \n",
      " 11  Arrival at Pickup - Time                   21201 non-null  datetime64[ns]\n",
      " 12  Pickup - Day of Month                      21201 non-null  int64         \n",
      " 13  Pickup - Weekday (Mo = 1)                  21201 non-null  int64         \n",
      " 14  Pickup - Time                              21201 non-null  datetime64[ns]\n",
      " 15  Arrival at Destination - Day of Month      21201 non-null  int64         \n",
      " 16  Arrival at Destination - Weekday (Mo = 1)  21201 non-null  int64         \n",
      " 17  Arrival at Destination - Time              21201 non-null  datetime64[ns]\n",
      " 18  Distance (KM)                              21201 non-null  float64       \n",
      " 19  Temperature                                21201 non-null  float64       \n",
      " 20  Precipitation in millimeters               21201 non-null  float64       \n",
      " 21  Pickup Lat                                 21201 non-null  float64       \n",
      " 22  Pickup Long                                21201 non-null  float64       \n",
      " 23  Destination Lat                            21201 non-null  float64       \n",
      " 24  Destination Long                           21201 non-null  float64       \n",
      " 25  Rider Id                                   21201 non-null  object        \n",
      " 26  No_Of_Orders                               21201 non-null  int64         \n",
      " 27  Age                                        21201 non-null  int64         \n",
      " 28  Average_Rating                             21201 non-null  float64       \n",
      " 29  No_of_Ratings                              21201 non-null  int64         \n",
      " 30  Time from Pickup to Arrival                21201 non-null  int64         \n",
      "dtypes: datetime64[ns](5), float64(8), int64(15), object(3)\n",
      "memory usage: 5.2+ MB\n"
     ]
    }
   ],
   "source": [
    "total.info()"
   ]
  },
  {
   "cell_type": "code",
   "execution_count": 950,
   "metadata": {},
   "outputs": [
    {
     "data": {
      "text/html": [
       "<div>\n",
       "<style scoped>\n",
       "    .dataframe tbody tr th:only-of-type {\n",
       "        vertical-align: middle;\n",
       "    }\n",
       "\n",
       "    .dataframe tbody tr th {\n",
       "        vertical-align: top;\n",
       "    }\n",
       "\n",
       "    .dataframe thead th {\n",
       "        text-align: right;\n",
       "    }\n",
       "</style>\n",
       "<table border=\"1\" class=\"dataframe\">\n",
       "  <thead>\n",
       "    <tr style=\"text-align: right;\">\n",
       "      <th></th>\n",
       "      <th>count</th>\n",
       "      <th>mean</th>\n",
       "      <th>std</th>\n",
       "      <th>min</th>\n",
       "      <th>25%</th>\n",
       "      <th>50%</th>\n",
       "      <th>75%</th>\n",
       "      <th>max</th>\n",
       "    </tr>\n",
       "  </thead>\n",
       "  <tbody>\n",
       "    <tr>\n",
       "      <th>Platform Type</th>\n",
       "      <td>21201.0</td>\n",
       "      <td>2.752182</td>\n",
       "      <td>0.625178</td>\n",
       "      <td>1.000000</td>\n",
       "      <td>3.000000</td>\n",
       "      <td>3.000000</td>\n",
       "      <td>3.000000</td>\n",
       "      <td>4.000000</td>\n",
       "    </tr>\n",
       "    <tr>\n",
       "      <th>Placement - Day of Month</th>\n",
       "      <td>21201.0</td>\n",
       "      <td>15.653696</td>\n",
       "      <td>8.798916</td>\n",
       "      <td>1.000000</td>\n",
       "      <td>8.000000</td>\n",
       "      <td>15.000000</td>\n",
       "      <td>23.000000</td>\n",
       "      <td>31.000000</td>\n",
       "    </tr>\n",
       "    <tr>\n",
       "      <th>Placement - Weekday (Mo = 1)</th>\n",
       "      <td>21201.0</td>\n",
       "      <td>3.240083</td>\n",
       "      <td>1.567295</td>\n",
       "      <td>1.000000</td>\n",
       "      <td>2.000000</td>\n",
       "      <td>3.000000</td>\n",
       "      <td>5.000000</td>\n",
       "      <td>7.000000</td>\n",
       "    </tr>\n",
       "    <tr>\n",
       "      <th>Confirmation - Day of Month</th>\n",
       "      <td>21201.0</td>\n",
       "      <td>15.653837</td>\n",
       "      <td>8.798886</td>\n",
       "      <td>1.000000</td>\n",
       "      <td>8.000000</td>\n",
       "      <td>15.000000</td>\n",
       "      <td>23.000000</td>\n",
       "      <td>31.000000</td>\n",
       "    </tr>\n",
       "    <tr>\n",
       "      <th>Confirmation - Weekday (Mo = 1)</th>\n",
       "      <td>21201.0</td>\n",
       "      <td>3.240225</td>\n",
       "      <td>1.567228</td>\n",
       "      <td>1.000000</td>\n",
       "      <td>2.000000</td>\n",
       "      <td>3.000000</td>\n",
       "      <td>5.000000</td>\n",
       "      <td>7.000000</td>\n",
       "    </tr>\n",
       "    <tr>\n",
       "      <th>Arrival at Pickup - Day of Month</th>\n",
       "      <td>21201.0</td>\n",
       "      <td>15.653837</td>\n",
       "      <td>8.798886</td>\n",
       "      <td>1.000000</td>\n",
       "      <td>8.000000</td>\n",
       "      <td>15.000000</td>\n",
       "      <td>23.000000</td>\n",
       "      <td>31.000000</td>\n",
       "    </tr>\n",
       "    <tr>\n",
       "      <th>Arrival at Pickup - Weekday (Mo = 1)</th>\n",
       "      <td>21201.0</td>\n",
       "      <td>3.240225</td>\n",
       "      <td>1.567228</td>\n",
       "      <td>1.000000</td>\n",
       "      <td>2.000000</td>\n",
       "      <td>3.000000</td>\n",
       "      <td>5.000000</td>\n",
       "      <td>7.000000</td>\n",
       "    </tr>\n",
       "    <tr>\n",
       "      <th>Pickup - Day of Month</th>\n",
       "      <td>21201.0</td>\n",
       "      <td>15.653837</td>\n",
       "      <td>8.798886</td>\n",
       "      <td>1.000000</td>\n",
       "      <td>8.000000</td>\n",
       "      <td>15.000000</td>\n",
       "      <td>23.000000</td>\n",
       "      <td>31.000000</td>\n",
       "    </tr>\n",
       "    <tr>\n",
       "      <th>Pickup - Weekday (Mo = 1)</th>\n",
       "      <td>21201.0</td>\n",
       "      <td>3.240225</td>\n",
       "      <td>1.567228</td>\n",
       "      <td>1.000000</td>\n",
       "      <td>2.000000</td>\n",
       "      <td>3.000000</td>\n",
       "      <td>5.000000</td>\n",
       "      <td>7.000000</td>\n",
       "    </tr>\n",
       "    <tr>\n",
       "      <th>Arrival at Destination - Day of Month</th>\n",
       "      <td>21201.0</td>\n",
       "      <td>15.653837</td>\n",
       "      <td>8.798886</td>\n",
       "      <td>1.000000</td>\n",
       "      <td>8.000000</td>\n",
       "      <td>15.000000</td>\n",
       "      <td>23.000000</td>\n",
       "      <td>31.000000</td>\n",
       "    </tr>\n",
       "    <tr>\n",
       "      <th>Arrival at Destination - Weekday (Mo = 1)</th>\n",
       "      <td>21201.0</td>\n",
       "      <td>3.240225</td>\n",
       "      <td>1.567228</td>\n",
       "      <td>1.000000</td>\n",
       "      <td>2.000000</td>\n",
       "      <td>3.000000</td>\n",
       "      <td>5.000000</td>\n",
       "      <td>7.000000</td>\n",
       "    </tr>\n",
       "    <tr>\n",
       "      <th>Distance (KM)</th>\n",
       "      <td>21201.0</td>\n",
       "      <td>9.506533</td>\n",
       "      <td>5.668963</td>\n",
       "      <td>1.000000</td>\n",
       "      <td>5.000000</td>\n",
       "      <td>8.000000</td>\n",
       "      <td>13.000000</td>\n",
       "      <td>49.000000</td>\n",
       "    </tr>\n",
       "    <tr>\n",
       "      <th>Temperature</th>\n",
       "      <td>21201.0</td>\n",
       "      <td>23.258889</td>\n",
       "      <td>3.222006</td>\n",
       "      <td>11.200000</td>\n",
       "      <td>21.400000</td>\n",
       "      <td>23.258889</td>\n",
       "      <td>25.300000</td>\n",
       "      <td>32.100000</td>\n",
       "    </tr>\n",
       "    <tr>\n",
       "      <th>Precipitation in millimeters</th>\n",
       "      <td>21201.0</td>\n",
       "      <td>0.205839</td>\n",
       "      <td>3.029194</td>\n",
       "      <td>0.000000</td>\n",
       "      <td>0.000000</td>\n",
       "      <td>0.000000</td>\n",
       "      <td>0.000000</td>\n",
       "      <td>99.100000</td>\n",
       "    </tr>\n",
       "    <tr>\n",
       "      <th>Pickup Lat</th>\n",
       "      <td>21201.0</td>\n",
       "      <td>-1.281470</td>\n",
       "      <td>0.030507</td>\n",
       "      <td>-1.438302</td>\n",
       "      <td>-1.300921</td>\n",
       "      <td>-1.279395</td>\n",
       "      <td>-1.257147</td>\n",
       "      <td>-1.147170</td>\n",
       "    </tr>\n",
       "    <tr>\n",
       "      <th>Pickup Long</th>\n",
       "      <td>21201.0</td>\n",
       "      <td>36.811264</td>\n",
       "      <td>0.037473</td>\n",
       "      <td>36.653621</td>\n",
       "      <td>36.784605</td>\n",
       "      <td>36.807040</td>\n",
       "      <td>36.829741</td>\n",
       "      <td>36.991046</td>\n",
       "    </tr>\n",
       "    <tr>\n",
       "      <th>Destination Lat</th>\n",
       "      <td>21201.0</td>\n",
       "      <td>-1.282581</td>\n",
       "      <td>0.034824</td>\n",
       "      <td>-1.430298</td>\n",
       "      <td>-1.301201</td>\n",
       "      <td>-1.284382</td>\n",
       "      <td>-1.261177</td>\n",
       "      <td>-1.030225</td>\n",
       "    </tr>\n",
       "    <tr>\n",
       "      <th>Destination Long</th>\n",
       "      <td>21201.0</td>\n",
       "      <td>36.811220</td>\n",
       "      <td>0.044721</td>\n",
       "      <td>36.606594</td>\n",
       "      <td>36.785661</td>\n",
       "      <td>36.808002</td>\n",
       "      <td>36.829477</td>\n",
       "      <td>37.016779</td>\n",
       "    </tr>\n",
       "    <tr>\n",
       "      <th>No_Of_Orders</th>\n",
       "      <td>21201.0</td>\n",
       "      <td>1692.423706</td>\n",
       "      <td>1574.308302</td>\n",
       "      <td>2.000000</td>\n",
       "      <td>557.000000</td>\n",
       "      <td>1212.000000</td>\n",
       "      <td>2311.000000</td>\n",
       "      <td>9756.000000</td>\n",
       "    </tr>\n",
       "    <tr>\n",
       "      <th>Age</th>\n",
       "      <td>21201.0</td>\n",
       "      <td>984.742842</td>\n",
       "      <td>646.652835</td>\n",
       "      <td>96.000000</td>\n",
       "      <td>495.000000</td>\n",
       "      <td>872.000000</td>\n",
       "      <td>1236.000000</td>\n",
       "      <td>3764.000000</td>\n",
       "    </tr>\n",
       "    <tr>\n",
       "      <th>Average_Rating</th>\n",
       "      <td>21201.0</td>\n",
       "      <td>13.882520</td>\n",
       "      <td>0.916071</td>\n",
       "      <td>0.000000</td>\n",
       "      <td>13.600000</td>\n",
       "      <td>14.000000</td>\n",
       "      <td>14.300000</td>\n",
       "      <td>15.200000</td>\n",
       "    </tr>\n",
       "    <tr>\n",
       "      <th>No_of_Ratings</th>\n",
       "      <td>21201.0</td>\n",
       "      <td>341.067119</td>\n",
       "      <td>402.867746</td>\n",
       "      <td>0.000000</td>\n",
       "      <td>61.000000</td>\n",
       "      <td>161.000000</td>\n",
       "      <td>495.000000</td>\n",
       "      <td>2298.000000</td>\n",
       "    </tr>\n",
       "    <tr>\n",
       "      <th>Time from Pickup to Arrival</th>\n",
       "      <td>21201.0</td>\n",
       "      <td>1556.920947</td>\n",
       "      <td>987.270788</td>\n",
       "      <td>1.000000</td>\n",
       "      <td>882.000000</td>\n",
       "      <td>1369.000000</td>\n",
       "      <td>2040.000000</td>\n",
       "      <td>7883.000000</td>\n",
       "    </tr>\n",
       "  </tbody>\n",
       "</table>\n",
       "</div>"
      ],
      "text/plain": [
       "                                             count         mean          std  \\\n",
       "Platform Type                              21201.0     2.752182     0.625178   \n",
       "Placement - Day of Month                   21201.0    15.653696     8.798916   \n",
       "Placement - Weekday (Mo = 1)               21201.0     3.240083     1.567295   \n",
       "Confirmation - Day of Month                21201.0    15.653837     8.798886   \n",
       "Confirmation - Weekday (Mo = 1)            21201.0     3.240225     1.567228   \n",
       "Arrival at Pickup - Day of Month           21201.0    15.653837     8.798886   \n",
       "Arrival at Pickup - Weekday (Mo = 1)       21201.0     3.240225     1.567228   \n",
       "Pickup - Day of Month                      21201.0    15.653837     8.798886   \n",
       "Pickup - Weekday (Mo = 1)                  21201.0     3.240225     1.567228   \n",
       "Arrival at Destination - Day of Month      21201.0    15.653837     8.798886   \n",
       "Arrival at Destination - Weekday (Mo = 1)  21201.0     3.240225     1.567228   \n",
       "Distance (KM)                              21201.0     9.506533     5.668963   \n",
       "Temperature                                21201.0    23.258889     3.222006   \n",
       "Precipitation in millimeters               21201.0     0.205839     3.029194   \n",
       "Pickup Lat                                 21201.0    -1.281470     0.030507   \n",
       "Pickup Long                                21201.0    36.811264     0.037473   \n",
       "Destination Lat                            21201.0    -1.282581     0.034824   \n",
       "Destination Long                           21201.0    36.811220     0.044721   \n",
       "No_Of_Orders                               21201.0  1692.423706  1574.308302   \n",
       "Age                                        21201.0   984.742842   646.652835   \n",
       "Average_Rating                             21201.0    13.882520     0.916071   \n",
       "No_of_Ratings                              21201.0   341.067119   402.867746   \n",
       "Time from Pickup to Arrival                21201.0  1556.920947   987.270788   \n",
       "\n",
       "                                                 min         25%          50%  \\\n",
       "Platform Type                               1.000000    3.000000     3.000000   \n",
       "Placement - Day of Month                    1.000000    8.000000    15.000000   \n",
       "Placement - Weekday (Mo = 1)                1.000000    2.000000     3.000000   \n",
       "Confirmation - Day of Month                 1.000000    8.000000    15.000000   \n",
       "Confirmation - Weekday (Mo = 1)             1.000000    2.000000     3.000000   \n",
       "Arrival at Pickup - Day of Month            1.000000    8.000000    15.000000   \n",
       "Arrival at Pickup - Weekday (Mo = 1)        1.000000    2.000000     3.000000   \n",
       "Pickup - Day of Month                       1.000000    8.000000    15.000000   \n",
       "Pickup - Weekday (Mo = 1)                   1.000000    2.000000     3.000000   \n",
       "Arrival at Destination - Day of Month       1.000000    8.000000    15.000000   \n",
       "Arrival at Destination - Weekday (Mo = 1)   1.000000    2.000000     3.000000   \n",
       "Distance (KM)                               1.000000    5.000000     8.000000   \n",
       "Temperature                                11.200000   21.400000    23.258889   \n",
       "Precipitation in millimeters                0.000000    0.000000     0.000000   \n",
       "Pickup Lat                                 -1.438302   -1.300921    -1.279395   \n",
       "Pickup Long                                36.653621   36.784605    36.807040   \n",
       "Destination Lat                            -1.430298   -1.301201    -1.284382   \n",
       "Destination Long                           36.606594   36.785661    36.808002   \n",
       "No_Of_Orders                                2.000000  557.000000  1212.000000   \n",
       "Age                                        96.000000  495.000000   872.000000   \n",
       "Average_Rating                              0.000000   13.600000    14.000000   \n",
       "No_of_Ratings                               0.000000   61.000000   161.000000   \n",
       "Time from Pickup to Arrival                 1.000000  882.000000  1369.000000   \n",
       "\n",
       "                                                   75%          max  \n",
       "Platform Type                                 3.000000     4.000000  \n",
       "Placement - Day of Month                     23.000000    31.000000  \n",
       "Placement - Weekday (Mo = 1)                  5.000000     7.000000  \n",
       "Confirmation - Day of Month                  23.000000    31.000000  \n",
       "Confirmation - Weekday (Mo = 1)               5.000000     7.000000  \n",
       "Arrival at Pickup - Day of Month             23.000000    31.000000  \n",
       "Arrival at Pickup - Weekday (Mo = 1)          5.000000     7.000000  \n",
       "Pickup - Day of Month                        23.000000    31.000000  \n",
       "Pickup - Weekday (Mo = 1)                     5.000000     7.000000  \n",
       "Arrival at Destination - Day of Month        23.000000    31.000000  \n",
       "Arrival at Destination - Weekday (Mo = 1)     5.000000     7.000000  \n",
       "Distance (KM)                                13.000000    49.000000  \n",
       "Temperature                                  25.300000    32.100000  \n",
       "Precipitation in millimeters                  0.000000    99.100000  \n",
       "Pickup Lat                                   -1.257147    -1.147170  \n",
       "Pickup Long                                  36.829741    36.991046  \n",
       "Destination Lat                              -1.261177    -1.030225  \n",
       "Destination Long                             36.829477    37.016779  \n",
       "No_Of_Orders                               2311.000000  9756.000000  \n",
       "Age                                        1236.000000  3764.000000  \n",
       "Average_Rating                               14.300000    15.200000  \n",
       "No_of_Ratings                               495.000000  2298.000000  \n",
       "Time from Pickup to Arrival                2040.000000  7883.000000  "
      ]
     },
     "execution_count": 950,
     "metadata": {},
     "output_type": "execute_result"
    }
   ],
   "source": [
    "total.describe().T"
   ]
  },
  {
   "cell_type": "code",
   "execution_count": 956,
   "metadata": {},
   "outputs": [
    {
     "data": {
      "image/png": "[encoded data removed]",
      "text/plain": [
       "<Figure size 720x360 with 1 Axes>"
      ]
     },
     "metadata": {},
     "output_type": "display_data"
    }
   ],
   "source": [
    "# Plotting the relationship between Time from Pickup to Arrival and distance(KM)\n",
    "\n",
    "sns.set()\n",
    "_ = plt.figure(figsize = (10,5))\n",
    "_ = plt.scatter(total.iloc[:,18],total.iloc[:,30], color = 'green')\n",
    "_ = plt.title('Time from Pick to Arrival vs Distance (KM) ')\n",
    "_ = plt.xlabel('Distance(KM)')\n",
    "_ = plt.ylabel('Time from Pickup to Arrival (seconds)')\n",
    "plt.show()"
   ]
  },
  {
   "cell_type": "code",
   "execution_count": 791,
   "metadata": {},
   "outputs": [],
   "source": [
    "X = total.iloc[:, :-1].values\n",
    "y = total.iloc[:, -1].values"
   ]
  },
  {
   "cell_type": "markdown",
   "metadata": {},
   "source": [
    "## Taking care of missing data"
   ]
  },
  {
   "cell_type": "code",
   "execution_count": 793,
   "metadata": {},
   "outputs": [],
   "source": [
    "#Distance and Temperature -Replace null values with mean of the column\n",
    "from sklearn.impute import SimpleImputer\n",
    "imp_temp = SimpleImputer(missing_values = np.nan, strategy='mean')\n",
    "imp_temp.fit(total.iloc[:, 18:20]) \n",
    "total.iloc[:, 18:20] = imp_temp.transform(total.iloc[:, 18:20])"
   ]
  },
  {
   "cell_type": "code",
   "execution_count": 794,
   "metadata": {},
   "outputs": [],
   "source": [
    "#Precipitation(ml) - Replace null values with Zero(0 ml railfall)\n",
    "from sklearn.impute import SimpleImputer\n",
    "imp_prec = SimpleImputer(missing_values=np.nan, strategy='constant', fill_value = 0)\n",
    "imp_prec.fit(total.iloc[:,20:]) \n",
    "total.iloc[:,20:] = imp_prec.transform(total.iloc[:,20:])"
   ]
  },
  {
   "cell_type": "markdown",
   "metadata": {},
   "source": [
    "## Changing datatype\n"
   ]
  },
  {
   "cell_type": "code",
   "execution_count": 795,
   "metadata": {},
   "outputs": [],
   "source": [
    "#Changing times columns into datetime datatype\n",
    "total['Placement - Time'] = pd.to_datetime(total['Placement - Time'])\n",
    "total['Confirmation - Time'] = pd.to_datetime(total['Confirmation - Time'])\n",
    "total['Arrival at Pickup - Time'] = pd.to_datetime(total['Arrival at Pickup - Time'])\n",
    "total['Pickup - Time'] = pd.to_datetime(total['Pickup - Time'])\n",
    "total['Arrival at Destination - Time'] = pd.to_datetime(total['Arrival at Destination - Time'])"
   ]
  },
  {
   "cell_type": "markdown",
   "metadata": {
    "colab_type": "text",
    "id": "VadrvE7s_lS9"
   },
   "source": [
    "## Encoding categorical data"
   ]
  },
  {
   "cell_type": "code",
   "execution_count": 796,
   "metadata": {},
   "outputs": [],
   "source": [
    "#1 Hot Encode the Personal or Business column - Business=1 and Personal=0\n",
    "from sklearn.compose import ColumnTransformer\n",
    "from sklearn.preprocessing import OneHotEncoder\n",
    "ct = ColumnTransformer(transformers=[('encoder', OneHotEncoder(), [2])], remainder='passthrough')\n",
    "X = np.array(ct.fit_transform(X))"
   ]
  },
  {
   "cell_type": "markdown",
   "metadata": {
    "colab_type": "text",
    "id": "WemVnqgeA70k"
   },
   "source": [
    "## Splitting the dataset into the Training set and Test set"
   ]
  },
  {
   "cell_type": "code",
   "execution_count": 855,
   "metadata": {},
   "outputs": [
    {
     "name": "stdout",
     "output_type": "stream",
     "text": [
      "<class 'pandas.core.frame.DataFrame'>\n",
      "Int64Index: 21201 entries, 0 to 21200\n",
      "Data columns (total 15 columns):\n",
      " #   Column                                     Non-Null Count  Dtype  \n",
      "---  ------                                     --------------  -----  \n",
      " 0   Pickup - Day of Month                      21201 non-null  int64  \n",
      " 1   Pickup - Weekday (Mo = 1)                  21201 non-null  int64  \n",
      " 2   Arrival at Destination - Day of Month      21201 non-null  int64  \n",
      " 3   Arrival at Destination - Weekday (Mo = 1)  21201 non-null  int64  \n",
      " 4   Distance (KM)                              21201 non-null  float64\n",
      " 5   Temperature                                21201 non-null  float64\n",
      " 6   Precipitation in millimeters               21201 non-null  float64\n",
      " 7   Pickup Lat                                 21201 non-null  float64\n",
      " 8   Pickup Long                                21201 non-null  float64\n",
      " 9   Destination Lat                            21201 non-null  float64\n",
      " 10  Destination Long                           21201 non-null  float64\n",
      " 11  No_Of_Orders                               21201 non-null  int64  \n",
      " 12  Average_Rating                             21201 non-null  float64\n",
      " 13  No_of_Ratings                              21201 non-null  int64  \n",
      " 14  Time from Pickup to Arrival                21201 non-null  int64  \n",
      "dtypes: float64(8), int64(7)\n",
      "memory usage: 2.6 MB\n"
     ]
    }
   ],
   "source": [
    "#Drop columns not wanted to be part of the model\n",
    "total_model = total.iloc[:, 12:]\n",
    "total_model.drop('Rider Id', axis=1, inplace=True)\n",
    "total_model.drop('Arrival at Destination - Time', axis=1, inplace=True)\n",
    "total_model.drop('Pickup - Time', axis=1, inplace=True)\n",
    "#total_model.drop('Pickup Long', axis=1, inplace=True)\n",
    "#total_model.drop('Pickup Lat', axis=1, inplace=True)\n",
    "#total_model.drop('Destination Lat', axis=1, inplace=True)\n",
    "#total_model.drop('Destination Long', axis=1, inplace=True)\n",
    "#total_model.drop('No_Of_Orders', axis=1, inplace=True)\n",
    "total_model.drop('Age', axis=1, inplace=True)\n",
    "#total_model.drop('Average_Rating', axis=1, inplace=True)\n",
    "total_model.drop('No_of_Ratings', axis=1, inplace=True)\n",
    "\n",
    "#Create Metrics of features(Independant Variables- X) and Dependant Variable(y)\n",
    "X = total_model.iloc[:,:-1]\n",
    "y = total_model.iloc[:,-1]\n",
    "\n",
    "total_model.info()"
   ]
  },
  {
   "cell_type": "code",
   "execution_count": 856,
   "metadata": {},
   "outputs": [],
   "source": [
    "#from sklearn.model_selection import train_test_split\n",
    "#X_train, X_test, y_train, y_test = train_test_split(X, y, test_size = 0.2, random_state = 1)"
   ]
  },
  {
   "cell_type": "markdown",
   "metadata": {},
   "source": [
    "## Feature scaling"
   ]
  },
  {
   "cell_type": "code",
   "execution_count": 881,
   "metadata": {},
   "outputs": [],
   "source": [
    "from sklearn.preprocessing import StandardScaler\n",
    "sc = StandardScaler()\n",
    "X_scaled = sc.fit_transform(X[:])\n",
    "X_train = sc.fit_transform(X_train[:])\n",
    "X_test = sc.transform(X_test[:])"
   ]
  },
  {
   "cell_type": "code",
   "execution_count": 882,
   "metadata": {},
   "outputs": [
    {
     "data": {
      "text/html": [
       "<div>\n",
       "<style scoped>\n",
       "    .dataframe tbody tr th:only-of-type {\n",
       "        vertical-align: middle;\n",
       "    }\n",
       "\n",
       "    .dataframe tbody tr th {\n",
       "        vertical-align: top;\n",
       "    }\n",
       "\n",
       "    .dataframe thead th {\n",
       "        text-align: right;\n",
       "    }\n",
       "</style>\n",
       "<table border=\"1\" class=\"dataframe\">\n",
       "  <thead>\n",
       "    <tr style=\"text-align: right;\">\n",
       "      <th></th>\n",
       "      <th>Pickup - Day of Month</th>\n",
       "      <th>Pickup - Weekday (Mo = 1)</th>\n",
       "      <th>Arrival at Destination - Day of Month</th>\n",
       "      <th>Arrival at Destination - Weekday (Mo = 1)</th>\n",
       "      <th>Distance (KM)</th>\n",
       "      <th>Temperature</th>\n",
       "      <th>Precipitation in millimeters</th>\n",
       "      <th>Pickup Lat</th>\n",
       "      <th>Pickup Long</th>\n",
       "      <th>Destination Lat</th>\n",
       "      <th>Destination Long</th>\n",
       "      <th>No_Of_Orders</th>\n",
       "      <th>Average_Rating</th>\n",
       "      <th>No_of_Ratings</th>\n",
       "    </tr>\n",
       "  </thead>\n",
       "  <tbody>\n",
       "    <tr>\n",
       "      <th>0</th>\n",
       "      <td>-0.756231</td>\n",
       "      <td>1.122885</td>\n",
       "      <td>-0.756231</td>\n",
       "      <td>1.122885</td>\n",
       "      <td>-0.971370</td>\n",
       "      <td>-8.873220e-01</td>\n",
       "      <td>-0.067953</td>\n",
       "      <td>-1.189424</td>\n",
       "      <td>0.509897</td>\n",
       "      <td>-0.511888</td>\n",
       "      <td>0.414159</td>\n",
       "      <td>-0.035206</td>\n",
       "      <td>-0.090082</td>\n",
       "      <td>0.516144</td>\n",
       "    </tr>\n",
       "    <tr>\n",
       "      <th>1</th>\n",
       "      <td>-0.415271</td>\n",
       "      <td>1.122885</td>\n",
       "      <td>-0.415271</td>\n",
       "      <td>1.122885</td>\n",
       "      <td>1.145469</td>\n",
       "      <td>9.749159e-01</td>\n",
       "      <td>-0.067953</td>\n",
       "      <td>-2.294056</td>\n",
       "      <td>2.349813</td>\n",
       "      <td>-0.356757</td>\n",
       "      <td>0.070177</td>\n",
       "      <td>-0.823507</td>\n",
       "      <td>-0.308411</td>\n",
       "      <td>-0.675342</td>\n",
       "    </tr>\n",
       "    <tr>\n",
       "      <th>2</th>\n",
       "      <td>1.630491</td>\n",
       "      <td>-0.791368</td>\n",
       "      <td>1.630491</td>\n",
       "      <td>-0.791368</td>\n",
       "      <td>-1.147774</td>\n",
       "      <td>1.102666e-15</td>\n",
       "      <td>-0.067953</td>\n",
       "      <td>-0.878981</td>\n",
       "      <td>0.858136</td>\n",
       "      <td>-0.526672</td>\n",
       "      <td>0.379588</td>\n",
       "      <td>-0.425228</td>\n",
       "      <td>-1.509220</td>\n",
       "      <td>-0.563640</td>\n",
       "    </tr>\n",
       "    <tr>\n",
       "      <th>3</th>\n",
       "      <td>-0.074311</td>\n",
       "      <td>1.122885</td>\n",
       "      <td>-0.074311</td>\n",
       "      <td>1.122885</td>\n",
       "      <td>-0.089354</td>\n",
       "      <td>-1.259770e+00</td>\n",
       "      <td>-0.067953</td>\n",
       "      <td>0.005523</td>\n",
       "      <td>0.563962</td>\n",
       "      <td>0.730374</td>\n",
       "      <td>-0.361289</td>\n",
       "      <td>-0.512252</td>\n",
       "      <td>0.674069</td>\n",
       "      <td>-0.566123</td>\n",
       "    </tr>\n",
       "    <tr>\n",
       "      <th>4</th>\n",
       "      <td>-0.301618</td>\n",
       "      <td>-1.429452</td>\n",
       "      <td>-0.301618</td>\n",
       "      <td>-1.429452</td>\n",
       "      <td>-0.089354</td>\n",
       "      <td>-2.439187e+00</td>\n",
       "      <td>-0.067953</td>\n",
       "      <td>0.487515</td>\n",
       "      <td>-0.510932</td>\n",
       "      <td>-0.357811</td>\n",
       "      <td>-0.031369</td>\n",
       "      <td>0.392929</td>\n",
       "      <td>0.237411</td>\n",
       "      <td>0.476428</td>\n",
       "    </tr>\n",
       "  </tbody>\n",
       "</table>\n",
       "</div>"
      ],
      "text/plain": [
       "   Pickup - Day of Month  Pickup - Weekday (Mo = 1)  \\\n",
       "0              -0.756231                   1.122885   \n",
       "1              -0.415271                   1.122885   \n",
       "2               1.630491                  -0.791368   \n",
       "3              -0.074311                   1.122885   \n",
       "4              -0.301618                  -1.429452   \n",
       "\n",
       "   Arrival at Destination - Day of Month  \\\n",
       "0                              -0.756231   \n",
       "1                              -0.415271   \n",
       "2                               1.630491   \n",
       "3                              -0.074311   \n",
       "4                              -0.301618   \n",
       "\n",
       "   Arrival at Destination - Weekday (Mo = 1)  Distance (KM)   Temperature  \\\n",
       "0                                   1.122885      -0.971370 -8.873220e-01   \n",
       "1                                   1.122885       1.145469  9.749159e-01   \n",
       "2                                  -0.791368      -1.147774  1.102666e-15   \n",
       "3                                   1.122885      -0.089354 -1.259770e+00   \n",
       "4                                  -1.429452      -0.089354 -2.439187e+00   \n",
       "\n",
       "   Precipitation in millimeters  Pickup Lat  Pickup Long  Destination Lat  \\\n",
       "0                     -0.067953   -1.189424     0.509897        -0.511888   \n",
       "1                     -0.067953   -2.294056     2.349813        -0.356757   \n",
       "2                     -0.067953   -0.878981     0.858136        -0.526672   \n",
       "3                     -0.067953    0.005523     0.563962         0.730374   \n",
       "4                     -0.067953    0.487515    -0.510932        -0.357811   \n",
       "\n",
       "   Destination Long  No_Of_Orders  Average_Rating  No_of_Ratings  \n",
       "0          0.414159     -0.035206       -0.090082       0.516144  \n",
       "1          0.070177     -0.823507       -0.308411      -0.675342  \n",
       "2          0.379588     -0.425228       -1.509220      -0.563640  \n",
       "3         -0.361289     -0.512252        0.674069      -0.566123  \n",
       "4         -0.031369      0.392929        0.237411       0.476428  "
      ]
     },
     "execution_count": 882,
     "metadata": {},
     "output_type": "execute_result"
    }
   ],
   "source": [
    "X_standardise = pd.DataFrame(X_scaled,columns=X.columns)\n",
    "X_standardise.head()"
   ]
  },
  {
   "cell_type": "markdown",
   "metadata": {},
   "source": [
    "## Split into Train and Test sets"
   ]
  },
  {
   "cell_type": "code",
   "execution_count": null,
   "metadata": {},
   "outputs": [],
   "source": [
    "from sklearn.model_selection import train_test_split\n",
    "X_train, X_test, y_train, y_test = train_test_split(X_standardise, y, test_size = 0.2, random_state=1, shuffle=False)"
   ]
  },
  {
   "cell_type": "markdown",
   "metadata": {},
   "source": [
    "## Ridge Regression"
   ]
  },
  {
   "cell_type": "code",
   "execution_count": 929,
   "metadata": {},
   "outputs": [],
   "source": [
    "# import the ridge regression module from sklearn\n",
    "from sklearn.linear_model import Ridge\n",
    "# create ridge model\n",
    "ridge = Ridge()"
   ]
  },
  {
   "cell_type": "markdown",
   "metadata": {},
   "source": [
    "## Lasso Regression"
   ]
  },
  {
   "cell_type": "code",
   "execution_count": 930,
   "metadata": {},
   "outputs": [],
   "source": [
    "# import LASSO module from sklearn\n",
    "from sklearn.linear_model import Lasso\n",
    "# create LASSO model object, setting alpha to 0.01\n",
    "lasso = Lasso(alpha=0.01)\n"
   ]
  },
  {
   "cell_type": "markdown",
   "metadata": {
    "colab_type": "text",
    "id": "k-McZVsQBINc"
   },
   "source": [
    "## Training the Regression models on the Training set"
   ]
  },
  {
   "cell_type": "code",
   "execution_count": 931,
   "metadata": {
    "colab": {
     "base_uri": "https://localhost:8080/",
     "height": 34
    },
    "colab_type": "code",
    "executionInfo": {
     "elapsed": 757,
     "status": "ok",
     "timestamp": 1586353664008,
     "user": {
      "displayName": "Hadelin de Ponteves",
      "photoUrl": "https://lh3.googleusercontent.com/a-/AOh14GhEuXdT7eQweUmRPW8_laJuPggSK6hfvpl5a6WBaA=s64",
      "userId": "15047218817161520419"
     },
     "user_tz": -240
    },
    "id": "ywPjx0L1BMiD",
    "outputId": "099836bc-4d85-4b4f-a488-093faf02e8cb"
   },
   "outputs": [
    {
     "data": {
      "text/plain": [
       "LinearRegression(copy_X=True, fit_intercept=True, n_jobs=None, normalize=False)"
      ]
     },
     "execution_count": 931,
     "metadata": {},
     "output_type": "execute_result"
    }
   ],
   "source": [
    "# Multiple Linear regression model \n",
    "from sklearn.linear_model import LinearRegression\n",
    "mlr = LinearRegression()\n",
    "mlr = mlr.fit(X_train, y_train)\n",
    "mlr"
   ]
  },
  {
   "cell_type": "code",
   "execution_count": 932,
   "metadata": {},
   "outputs": [
    {
     "data": {
      "text/plain": [
       "DecisionTreeRegressor(ccp_alpha=0.0, criterion='mse', max_depth=None,\n",
       "                      max_features=None, max_leaf_nodes=None,\n",
       "                      min_impurity_decrease=0.0, min_impurity_split=None,\n",
       "                      min_samples_leaf=1, min_samples_split=2,\n",
       "                      min_weight_fraction_leaf=0.0, presort='deprecated',\n",
       "                      random_state=None, splitter='best')"
      ]
     },
     "execution_count": 932,
     "metadata": {},
     "output_type": "execute_result"
    }
   ],
   "source": [
    "#Decision tree regression model \n",
    "from sklearn.tree import DecisionTreeRegressor\n",
    "tree = DecisionTreeRegressor()\n",
    "tree = tree.fit(X_train, y_train)\n",
    "tree"
   ]
  },
  {
   "cell_type": "code",
   "execution_count": 933,
   "metadata": {},
   "outputs": [
    {
     "data": {
      "text/plain": [
       "RandomForestRegressor(bootstrap=True, ccp_alpha=0.0, criterion='mse',\n",
       "                      max_depth=None, max_features='auto', max_leaf_nodes=None,\n",
       "                      max_samples=None, min_impurity_decrease=0.0,\n",
       "                      min_impurity_split=None, min_samples_leaf=1,\n",
       "                      min_samples_split=2, min_weight_fraction_leaf=0.0,\n",
       "                      n_estimators=25, n_jobs=None, oob_score=False,\n",
       "                      random_state=None, verbose=0, warm_start=False)"
      ]
     },
     "execution_count": 933,
     "metadata": {},
     "output_type": "execute_result"
    }
   ],
   "source": [
    "#Random forest regression model \n",
    "from sklearn.ensemble import RandomForestRegressor\n",
    "forest = RandomForestRegressor(n_estimators = 25)\n",
    "forest = forest.fit(X_test, y_test)\n",
    "forest"
   ]
  },
  {
   "cell_type": "code",
   "execution_count": 934,
   "metadata": {},
   "outputs": [
    {
     "data": {
      "text/plain": [
       "Lasso(alpha=0.01, copy_X=True, fit_intercept=True, max_iter=1000,\n",
       "      normalize=False, positive=False, precompute=False, random_state=None,\n",
       "      selection='cyclic', tol=0.0001, warm_start=False)"
      ]
     },
     "execution_count": 934,
     "metadata": {},
     "output_type": "execute_result"
    }
   ],
   "source": [
    "# LASSO model\n",
    "lasso.fit(X_train, y_train)\n",
    "lasso"
   ]
  },
  {
   "cell_type": "code",
   "execution_count": 935,
   "metadata": {},
   "outputs": [
    {
     "data": {
      "text/plain": [
       "Ridge(alpha=1.0, copy_X=True, fit_intercept=True, max_iter=None,\n",
       "      normalize=False, random_state=None, solver='auto', tol=0.001)"
      ]
     },
     "execution_count": 935,
     "metadata": {},
     "output_type": "execute_result"
    }
   ],
   "source": [
    "# Ridge model\n",
    "ridge.fit(X_train, y_train)\n",
    "ridge"
   ]
  },
  {
   "cell_type": "markdown",
   "metadata": {
    "colab_type": "text",
    "id": "xNkXL1YQBiBT"
   },
   "source": [
    "## Predicting the results"
   ]
  },
  {
   "cell_type": "code",
   "execution_count": 936,
   "metadata": {},
   "outputs": [],
   "source": [
    "from sklearn import metrics\n",
    "import math\n",
    "\n",
    "#Multiple Linear Regression\n",
    "rmse_test = round(math.sqrt(metrics.mean_squared_error(y_test, mlr.predict(X_test))),2)\n",
    "rmse_train = round(math.sqrt(metrics.mean_squared_error(y_train, mlr.predict(X_train))),2)"
   ]
  },
  {
   "cell_type": "code",
   "execution_count": 937,
   "metadata": {},
   "outputs": [],
   "source": [
    "# Decision Tree regression\n",
    "\n",
    "rmse_test1 = round(math.sqrt(metrics.mean_squared_error(y_test, tree.predict(X_test))),2)\n",
    "rmse_train1 = round(math.sqrt(metrics.mean_squared_error(y_train, tree.predict(X_train))),2)"
   ]
  },
  {
   "cell_type": "code",
   "execution_count": 938,
   "metadata": {},
   "outputs": [],
   "source": [
    "# Random forrest regression \n",
    "\n",
    "rmse_test2 = round(math.sqrt(metrics.mean_squared_error(y_test, forest.predict(X_test))),2)\n",
    "rmse_train2 = round(math.sqrt(metrics.mean_squared_error(y_train, forest.predict(X_train))),2)                    "
   ]
  },
  {
   "cell_type": "code",
   "execution_count": 939,
   "metadata": {},
   "outputs": [],
   "source": [
    "#Lasso Regression\n",
    "\n",
    "rmse_test3 = round(math.sqrt(metrics.mean_squared_error(y_test, lasso.predict(X_test))),2)\n",
    "rmse_train3 = round(math.sqrt(metrics.mean_squared_error(y_train, lasso.predict(X_train))),2) "
   ]
  },
  {
   "cell_type": "code",
   "execution_count": 940,
   "metadata": {},
   "outputs": [],
   "source": [
    "#Ridge Regression\n",
    "\n",
    "rmse_test4 = round(math.sqrt(metrics.mean_squared_error(y_test, ridge.predict(X_test))),2)\n",
    "rmse_train4 = round(math.sqrt(metrics.mean_squared_error(y_train, ridge.predict(X_train))),2) "
   ]
  },
  {
   "cell_type": "code",
   "execution_count": 941,
   "metadata": {
    "scrolled": true
   },
   "outputs": [
    {
     "name": "stdout",
     "output_type": "stream",
     "text": [
      "  Regression model  RMSE Training  RMSE Testing\n",
      "0              MLR         802.52        774.16\n",
      "1           D.Tree           7.96       1092.09\n",
      "2         R.Forest         805.10        309.52\n",
      "3            Lasso         802.52        774.16\n",
      "4            Ridge         802.52        774.16\n"
     ]
    }
   ],
   "source": [
    "data = {'Regression model':  ['MLR', 'D.Tree', 'R.Forest', 'Lasso', 'Ridge'],\n",
    "        'RMSE Training': [rmse_train, rmse_train1, rmse_train2, rmse_train3, rmse_train4],\n",
    "        'RMSE Testing' : [rmse_test, rmse_test1, rmse_test2, rmse_test3, rmse_test4]\n",
    "        }\n",
    "\n",
    "df = pd.DataFrame (data, columns = ['Regression model', 'RMSE Training', 'RMSE Testing'])\n",
    "print(df)"
   ]
  },
  {
   "cell_type": "markdown",
   "metadata": {},
   "source": [
    "## Assesing model accurecy"
   ]
  },
  {
   "cell_type": "code",
   "execution_count": 942,
   "metadata": {},
   "outputs": [],
   "source": [
    "# import metrics module\n",
    "from sklearn import metrics"
   ]
  },
  {
   "cell_type": "code",
   "execution_count": 943,
   "metadata": {},
   "outputs": [
    {
     "name": "stdout",
     "output_type": "stream",
     "text": [
      "Training MSE\n",
      "Linear: 644042.5663573907\n",
      "Ridge : 644042.5685493185\n",
      "Lasso : 644042.5689331809\n"
     ]
    }
   ],
   "source": [
    "# check training accuracy\n",
    "train_mlr = mlr.predict(X_train)\n",
    "train_ridge = ridge.predict(X_train)\n",
    "\n",
    "print('Training MSE')\n",
    "print('Linear:', metrics.mean_squared_error(y_train, train_mlr))\n",
    "print('Ridge :', metrics.mean_squared_error(y_train, train_ridge))\n",
    "print('Lasso :', metrics.mean_squared_error(y_train, train_lasso))"
   ]
  },
  {
   "cell_type": "code",
   "execution_count": 944,
   "metadata": {},
   "outputs": [
    {
     "name": "stdout",
     "output_type": "stream",
     "text": [
      "Testing MSE\n",
      "Linear: 599330.6686594393\n",
      "Ridge : 599330.6675817544\n",
      "Lasso : 599330.6404862081\n"
     ]
    }
   ],
   "source": [
    "#Check testing accuracy\n",
    "test_mlr = mlr.predict(X_test)\n",
    "test_ridge = ridge.predict(X_test)\n",
    "\n",
    "print('Testing MSE')\n",
    "print('Linear:', metrics.mean_squared_error(y_test, test_mlr))\n",
    "print('Ridge :', metrics.mean_squared_error(y_test, test_ridge))\n",
    "print('Lasso :', metrics.mean_squared_error(y_test, test_lasso))"
   ]
  },
  {
   "cell_type": "markdown",
   "metadata": {},
   "source": [
    "## In comes the Test Dataset"
   ]
  },
  {
   "cell_type": "code",
   "execution_count": 904,
   "metadata": {},
   "outputs": [],
   "source": [
    "#Prepare Test Data to be tested- Merge with Riders information\n",
    "testing = Test.merge(Riders, how='left', on='Rider Id')\n",
    "\n",
    "#Drop unneeded columns\n",
    "testing = testing.drop(['Vehicle Type'], axis=1)\n",
    "testing = testing.drop(['User Id'], axis=1)\n",
    "\n",
    "#Set All columns as independant variables\n",
    "X2 = testing.iloc[:, :].values\n",
    "\n",
    "# Distance/Temperature - Replace Null values with Column Mean\n",
    "from sklearn.impute import SimpleImputer\n",
    "imp_temp1 = SimpleImputer(missing_values = np.nan, strategy='mean')\n",
    "imp_temp1.fit(testing.iloc[:, 15:17]) \n",
    "testing.iloc[:, 15:17] = imp_temp1.transform(testing.iloc[:, 15:17])\n",
    "\n",
    "#Precipitation(ml) -replace null with ZERO\n",
    "from sklearn.impute import SimpleImputer\n",
    "imp_prec1 = SimpleImputer(missing_values=np.nan, strategy='constant', fill_value = 0)\n",
    "imp_prec1.fit(testing.iloc[:,17:]) \n",
    "testing.iloc[:,17:] = imp_prec1.transform(testing.iloc[:,17:])\n",
    "\n",
    "#Change datatypes\n",
    "testing['Placement - Time'] = pd.to_datetime(testing['Placement - Time'])\n",
    "testing['Confirmation - Time'] = pd.to_datetime(testing['Confirmation - Time'])\n",
    "testing['Arrival at Pickup - Time'] = pd.to_datetime(testing['Arrival at Pickup - Time'])\n",
    "testing['Pickup - Time'] = pd.to_datetime(testing['Pickup - Time'])\n",
    "\n",
    "# 1 HOT Encode - Personal or Business\n",
    "from sklearn.compose import ColumnTransformer\n",
    "from sklearn.preprocessing import OneHotEncoder\n",
    "ct1 = ColumnTransformer(transformers=[('encoder', OneHotEncoder(), [2])], remainder='passthrough')\n",
    "X2 = np.array(ct1.fit_transform(X2))"
   ]
  },
  {
   "cell_type": "code",
   "execution_count": 915,
   "metadata": {},
   "outputs": [
    {
     "data": {
      "text/html": [
       "<div>\n",
       "<style scoped>\n",
       "    .dataframe tbody tr th:only-of-type {\n",
       "        vertical-align: middle;\n",
       "    }\n",
       "\n",
       "    .dataframe tbody tr th {\n",
       "        vertical-align: top;\n",
       "    }\n",
       "\n",
       "    .dataframe thead th {\n",
       "        text-align: right;\n",
       "    }\n",
       "</style>\n",
       "<table border=\"1\" class=\"dataframe\">\n",
       "  <thead>\n",
       "    <tr style=\"text-align: right;\">\n",
       "      <th></th>\n",
       "      <th>Time from Pickup to Arrival</th>\n",
       "    </tr>\n",
       "  </thead>\n",
       "  <tbody>\n",
       "    <tr>\n",
       "      <th>0</th>\n",
       "      <td>1376.669659</td>\n",
       "    </tr>\n",
       "    <tr>\n",
       "      <th>1</th>\n",
       "      <td>1142.725875</td>\n",
       "    </tr>\n",
       "    <tr>\n",
       "      <th>2</th>\n",
       "      <td>1118.359373</td>\n",
       "    </tr>\n",
       "    <tr>\n",
       "      <th>3</th>\n",
       "      <td>1147.213180</td>\n",
       "    </tr>\n",
       "    <tr>\n",
       "      <th>4</th>\n",
       "      <td>1065.394444</td>\n",
       "    </tr>\n",
       "    <tr>\n",
       "      <th>...</th>\n",
       "      <td>...</td>\n",
       "    </tr>\n",
       "    <tr>\n",
       "      <th>7063</th>\n",
       "      <td>1171.152610</td>\n",
       "    </tr>\n",
       "    <tr>\n",
       "      <th>7064</th>\n",
       "      <td>2717.350328</td>\n",
       "    </tr>\n",
       "    <tr>\n",
       "      <th>7065</th>\n",
       "      <td>1665.981411</td>\n",
       "    </tr>\n",
       "    <tr>\n",
       "      <th>7066</th>\n",
       "      <td>2614.479291</td>\n",
       "    </tr>\n",
       "    <tr>\n",
       "      <th>7067</th>\n",
       "      <td>1481.721274</td>\n",
       "    </tr>\n",
       "  </tbody>\n",
       "</table>\n",
       "<p>7068 rows × 1 columns</p>\n",
       "</div>"
      ],
      "text/plain": [
       "      Time from Pickup to Arrival\n",
       "0                     1376.669659\n",
       "1                     1142.725875\n",
       "2                     1118.359373\n",
       "3                     1147.213180\n",
       "4                     1065.394444\n",
       "...                           ...\n",
       "7063                  1171.152610\n",
       "7064                  2717.350328\n",
       "7065                  1665.981411\n",
       "7066                  2614.479291\n",
       "7067                  1481.721274\n",
       "\n",
       "[7068 rows x 1 columns]"
      ]
     },
     "execution_count": 915,
     "metadata": {},
     "output_type": "execute_result"
    }
   ],
   "source": [
    "#TESTING MODEL ON TEST DATA(CSV)\n",
    "\n",
    "#factors that will predict Time from Pickup to Arrival\n",
    "desired_factors = ['Distance (KM)','Temperature','Precipitation in millimeters'\n",
    "                   ,'No_Of_Orders','Pickup - Day of Month', 'Average_Rating','Pickup - Weekday (Mo = 1)'\n",
    "                   ,'Pickup Lat','Pickup Long','Destination Lat','Destination Long']\n",
    "\n",
    " \n",
    "#set my model to DecisionTree\n",
    "model = ridge\n",
    "\n",
    "#set prediction data to factors that will predict, and set target to (time Arrival from Pick up to Arrival)\n",
    "train_data = total_model[desired_factors]\n",
    "test_data = testing[desired_factors]\n",
    "target = total_model['Time from Pickup to Arrival']\n",
    "\n",
    "#fitting model with prediction data and telling it my target\n",
    "model.fit(train_data, target)\n",
    "\n",
    "results = model.predict(test_data)\n",
    "df = pd.DataFrame (results, columns = ['Time from Pickup to Arrival'])\n",
    "df"
   ]
  },
  {
   "cell_type": "markdown",
   "metadata": {},
   "source": [
    "# "
   ]
  },
  {
   "cell_type": "code",
   "execution_count": 916,
   "metadata": {},
   "outputs": [
    {
     "data": {
      "text/html": [
       "<div>\n",
       "<style scoped>\n",
       "    .dataframe tbody tr th:only-of-type {\n",
       "        vertical-align: middle;\n",
       "    }\n",
       "\n",
       "    .dataframe tbody tr th {\n",
       "        vertical-align: top;\n",
       "    }\n",
       "\n",
       "    .dataframe thead th {\n",
       "        text-align: right;\n",
       "    }\n",
       "</style>\n",
       "<table border=\"1\" class=\"dataframe\">\n",
       "  <thead>\n",
       "    <tr style=\"text-align: right;\">\n",
       "      <th></th>\n",
       "      <th>Order_No</th>\n",
       "      <th>Time from Pickup to Arrival</th>\n",
       "    </tr>\n",
       "  </thead>\n",
       "  <tbody>\n",
       "    <tr>\n",
       "      <th>0</th>\n",
       "      <td>Order_No_19248</td>\n",
       "      <td>1376.67</td>\n",
       "    </tr>\n",
       "    <tr>\n",
       "      <th>1</th>\n",
       "      <td>Order_No_12736</td>\n",
       "      <td>1142.73</td>\n",
       "    </tr>\n",
       "    <tr>\n",
       "      <th>2</th>\n",
       "      <td>Order_No_768</td>\n",
       "      <td>1118.36</td>\n",
       "    </tr>\n",
       "    <tr>\n",
       "      <th>3</th>\n",
       "      <td>Order_No_15332</td>\n",
       "      <td>1147.21</td>\n",
       "    </tr>\n",
       "    <tr>\n",
       "      <th>4</th>\n",
       "      <td>Order_No_21373</td>\n",
       "      <td>1065.39</td>\n",
       "    </tr>\n",
       "    <tr>\n",
       "      <th>...</th>\n",
       "      <td>...</td>\n",
       "      <td>...</td>\n",
       "    </tr>\n",
       "    <tr>\n",
       "      <th>7063</th>\n",
       "      <td>Order_No_3612</td>\n",
       "      <td>1171.15</td>\n",
       "    </tr>\n",
       "    <tr>\n",
       "      <th>7064</th>\n",
       "      <td>Order_No_7657</td>\n",
       "      <td>2717.35</td>\n",
       "    </tr>\n",
       "    <tr>\n",
       "      <th>7065</th>\n",
       "      <td>Order_No_1969</td>\n",
       "      <td>1665.98</td>\n",
       "    </tr>\n",
       "    <tr>\n",
       "      <th>7066</th>\n",
       "      <td>Order_No_10591</td>\n",
       "      <td>2614.48</td>\n",
       "    </tr>\n",
       "    <tr>\n",
       "      <th>7067</th>\n",
       "      <td>Order_No_1603</td>\n",
       "      <td>1481.72</td>\n",
       "    </tr>\n",
       "  </tbody>\n",
       "</table>\n",
       "<p>7068 rows × 2 columns</p>\n",
       "</div>"
      ],
      "text/plain": [
       "            Order_No Time from Pickup to Arrival\n",
       "0     Order_No_19248                     1376.67\n",
       "1     Order_No_12736                     1142.73\n",
       "2       Order_No_768                     1118.36\n",
       "3     Order_No_15332                     1147.21\n",
       "4     Order_No_21373                     1065.39\n",
       "...              ...                         ...\n",
       "7063   Order_No_3612                     1171.15\n",
       "7064   Order_No_7657                     2717.35\n",
       "7065   Order_No_1969                     1665.98\n",
       "7066  Order_No_10591                     2614.48\n",
       "7067   Order_No_1603                     1481.72\n",
       "\n",
       "[7068 rows x 2 columns]"
      ]
     },
     "execution_count": 916,
     "metadata": {},
     "output_type": "execute_result"
    }
   ],
   "source": [
    "new = pd.DataFrame([Test['Order No'], df['Time from Pickup to Arrival']]).transpose()\n",
    "new.rename(columns={'Order No':'Order_No'}, inplace=True)\n",
    "new"
   ]
  },
  {
   "cell_type": "code",
   "execution_count": 917,
   "metadata": {},
   "outputs": [],
   "source": [
    "new.to_csv(r'C:\\Users\\confi\\Documents\\ridge_added.csv', index=None)"
   ]
  },
  {
   "cell_type": "code",
   "execution_count": null,
   "metadata": {},
   "outputs": [],
   "source": []
  }
 ],
 "metadata": {
  "colab": {
   "authorship_tag": "ABX9TyPhYhte6t7H4wEK4xPpDWT7",
   "name": "Multiple Linear Regression",
   "provenance": [],
   "toc_visible": true
  },
  "kernelspec": {
   "display_name": "Python 3",
   "language": "python",
   "name": "python3"
  },
  "language_info": {
   "codemirror_mode": {
    "name": "ipython",
    "version": 3
   },
   "file_extension": ".py",
   "mimetype": "text/x-python",
   "name": "python",
   "nbconvert_exporter": "python",
   "pygments_lexer": "ipython3",
   "version": "3.7.6"
  }
 },
 "nbformat": 4,
 "nbformat_minor": 1
}
