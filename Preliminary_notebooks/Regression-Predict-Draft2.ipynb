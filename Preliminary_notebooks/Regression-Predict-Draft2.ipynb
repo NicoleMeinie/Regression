{
 "cells": [
  {
   "cell_type": "markdown",
   "metadata": {
    "colab_type": "text",
    "id": "CazISR8X_HUG"
   },
   "source": [
    "# Sendy Regression Challenge Predict"
   ]
  },
  {
   "cell_type": "markdown",
   "metadata": {
    "colab_type": "text",
    "id": "pOyqYHTk_Q57"
   },
   "source": [
    "## Importing the libraries"
   ]
  },
  {
   "cell_type": "code",
   "execution_count": 86,
   "metadata": {
    "colab": {},
    "colab_type": "code",
    "id": "T_YHJjnD_Tja"
   },
   "outputs": [],
   "source": [
    "import numpy as np\n",
    "import matplotlib.pyplot as plt\n",
    "import pandas as pd\n",
    "import scipy.stats as stats"
   ]
  },
  {
   "cell_type": "markdown",
   "metadata": {
    "colab_type": "text",
    "id": "vgC61-ah_WIz"
   },
   "source": [
    "## Importing the dataset"
   ]
  },
  {
   "cell_type": "code",
   "execution_count": 87,
   "metadata": {
    "colab": {},
    "colab_type": "code",
    "id": "UrxyEKGn_ez7"
   },
   "outputs": [],
   "source": [
    "Train = pd.read_csv('Train.csv')\n",
    "Riders = pd.read_csv('Riders.csv')\n",
    "Test = pd.read_csv('Test.csv')"
   ]
  },
  {
   "cell_type": "code",
   "execution_count": 88,
   "metadata": {},
   "outputs": [],
   "source": [
    "#Merging the datasets\n",
    "total=Train.merge(Riders, how='left', on='Rider Id')"
   ]
  },
  {
   "cell_type": "code",
   "execution_count": 89,
   "metadata": {},
   "outputs": [],
   "source": [
    "#Creating New Column\n",
    "total['Time from Pickup to Arrival New']= total['Time from Pickup to Arrival']"
   ]
  },
  {
   "cell_type": "code",
   "execution_count": 90,
   "metadata": {},
   "outputs": [],
   "source": [
    "#Dropping unneeded columns(Vehihle Type, User Id)\n",
    "total = total.drop(['Vehicle Type'], axis=1)\n",
    "total = total.drop(['User Id'], axis=1)"
   ]
  },
  {
   "cell_type": "code",
   "execution_count": 91,
   "metadata": {},
   "outputs": [],
   "source": [
    "total = total.drop(['Time from Pickup to Arrival'], axis=1)"
   ]
  },
  {
   "cell_type": "code",
   "execution_count": 92,
   "metadata": {},
   "outputs": [],
   "source": [
    "#Renaming the dependent variable column back to Time from Pickup to Arrival\n",
    "total.rename(columns={'Time from Pickup to Arrival New':'Time from Pickup to Arrival'},inplace=True)"
   ]
  },
  {
   "cell_type": "code",
   "execution_count": 93,
   "metadata": {},
   "outputs": [
    {
     "data": {
      "text/html": [
       "<div>\n",
       "<style scoped>\n",
       "    .dataframe tbody tr th:only-of-type {\n",
       "        vertical-align: middle;\n",
       "    }\n",
       "\n",
       "    .dataframe tbody tr th {\n",
       "        vertical-align: top;\n",
       "    }\n",
       "\n",
       "    .dataframe thead th {\n",
       "        text-align: right;\n",
       "    }\n",
       "</style>\n",
       "<table border=\"1\" class=\"dataframe\">\n",
       "  <thead>\n",
       "    <tr style=\"text-align: right;\">\n",
       "      <th></th>\n",
       "      <th>Order No</th>\n",
       "      <th>Platform Type</th>\n",
       "      <th>Personal or Business</th>\n",
       "      <th>Placement - Day of Month</th>\n",
       "      <th>Placement - Weekday (Mo = 1)</th>\n",
       "      <th>Placement - Time</th>\n",
       "      <th>Confirmation - Day of Month</th>\n",
       "      <th>Confirmation - Weekday (Mo = 1)</th>\n",
       "      <th>Confirmation - Time</th>\n",
       "      <th>Arrival at Pickup - Day of Month</th>\n",
       "      <th>...</th>\n",
       "      <th>Pickup Lat</th>\n",
       "      <th>Pickup Long</th>\n",
       "      <th>Destination Lat</th>\n",
       "      <th>Destination Long</th>\n",
       "      <th>Rider Id</th>\n",
       "      <th>No_Of_Orders</th>\n",
       "      <th>Age</th>\n",
       "      <th>Average_Rating</th>\n",
       "      <th>No_of_Ratings</th>\n",
       "      <th>Time from Pickup to Arrival</th>\n",
       "    </tr>\n",
       "  </thead>\n",
       "  <tbody>\n",
       "    <tr>\n",
       "      <th>0</th>\n",
       "      <td>Order_No_4211</td>\n",
       "      <td>3</td>\n",
       "      <td>Business</td>\n",
       "      <td>9</td>\n",
       "      <td>5</td>\n",
       "      <td>9:35:46 AM</td>\n",
       "      <td>9</td>\n",
       "      <td>5</td>\n",
       "      <td>9:40:10 AM</td>\n",
       "      <td>9</td>\n",
       "      <td>...</td>\n",
       "      <td>-1.317755</td>\n",
       "      <td>36.830370</td>\n",
       "      <td>-1.300406</td>\n",
       "      <td>36.829741</td>\n",
       "      <td>Rider_Id_432</td>\n",
       "      <td>1637</td>\n",
       "      <td>1309</td>\n",
       "      <td>13.8</td>\n",
       "      <td>549</td>\n",
       "      <td>745</td>\n",
       "    </tr>\n",
       "    <tr>\n",
       "      <th>1</th>\n",
       "      <td>Order_No_25375</td>\n",
       "      <td>3</td>\n",
       "      <td>Personal</td>\n",
       "      <td>12</td>\n",
       "      <td>5</td>\n",
       "      <td>11:16:16 AM</td>\n",
       "      <td>12</td>\n",
       "      <td>5</td>\n",
       "      <td>11:23:21 AM</td>\n",
       "      <td>12</td>\n",
       "      <td>...</td>\n",
       "      <td>-1.351453</td>\n",
       "      <td>36.899315</td>\n",
       "      <td>-1.295004</td>\n",
       "      <td>36.814358</td>\n",
       "      <td>Rider_Id_856</td>\n",
       "      <td>396</td>\n",
       "      <td>339</td>\n",
       "      <td>13.6</td>\n",
       "      <td>69</td>\n",
       "      <td>1993</td>\n",
       "    </tr>\n",
       "    <tr>\n",
       "      <th>2</th>\n",
       "      <td>Order_No_1899</td>\n",
       "      <td>3</td>\n",
       "      <td>Business</td>\n",
       "      <td>30</td>\n",
       "      <td>2</td>\n",
       "      <td>12:39:25 PM</td>\n",
       "      <td>30</td>\n",
       "      <td>2</td>\n",
       "      <td>12:42:44 PM</td>\n",
       "      <td>30</td>\n",
       "      <td>...</td>\n",
       "      <td>-1.308284</td>\n",
       "      <td>36.843419</td>\n",
       "      <td>-1.300921</td>\n",
       "      <td>36.828195</td>\n",
       "      <td>Rider_Id_155</td>\n",
       "      <td>1023</td>\n",
       "      <td>242</td>\n",
       "      <td>12.5</td>\n",
       "      <td>114</td>\n",
       "      <td>455</td>\n",
       "    </tr>\n",
       "    <tr>\n",
       "      <th>3</th>\n",
       "      <td>Order_No_9336</td>\n",
       "      <td>3</td>\n",
       "      <td>Business</td>\n",
       "      <td>15</td>\n",
       "      <td>5</td>\n",
       "      <td>9:25:34 AM</td>\n",
       "      <td>15</td>\n",
       "      <td>5</td>\n",
       "      <td>9:26:05 AM</td>\n",
       "      <td>15</td>\n",
       "      <td>...</td>\n",
       "      <td>-1.281301</td>\n",
       "      <td>36.832396</td>\n",
       "      <td>-1.257147</td>\n",
       "      <td>36.795063</td>\n",
       "      <td>Rider_Id_855</td>\n",
       "      <td>886</td>\n",
       "      <td>283</td>\n",
       "      <td>14.5</td>\n",
       "      <td>113</td>\n",
       "      <td>1341</td>\n",
       "    </tr>\n",
       "    <tr>\n",
       "      <th>4</th>\n",
       "      <td>Order_No_27883</td>\n",
       "      <td>1</td>\n",
       "      <td>Personal</td>\n",
       "      <td>13</td>\n",
       "      <td>1</td>\n",
       "      <td>9:55:18 AM</td>\n",
       "      <td>13</td>\n",
       "      <td>1</td>\n",
       "      <td>9:56:18 AM</td>\n",
       "      <td>13</td>\n",
       "      <td>...</td>\n",
       "      <td>-1.266597</td>\n",
       "      <td>36.792118</td>\n",
       "      <td>-1.295041</td>\n",
       "      <td>36.809817</td>\n",
       "      <td>Rider_Id_770</td>\n",
       "      <td>2311</td>\n",
       "      <td>872</td>\n",
       "      <td>14.1</td>\n",
       "      <td>533</td>\n",
       "      <td>1214</td>\n",
       "    </tr>\n",
       "  </tbody>\n",
       "</table>\n",
       "<p>5 rows × 31 columns</p>\n",
       "</div>"
      ],
      "text/plain": [
       "         Order No  Platform Type Personal or Business  \\\n",
       "0   Order_No_4211              3             Business   \n",
       "1  Order_No_25375              3             Personal   \n",
       "2   Order_No_1899              3             Business   \n",
       "3   Order_No_9336              3             Business   \n",
       "4  Order_No_27883              1             Personal   \n",
       "\n",
       "   Placement - Day of Month  Placement - Weekday (Mo = 1) Placement - Time  \\\n",
       "0                         9                             5       9:35:46 AM   \n",
       "1                        12                             5      11:16:16 AM   \n",
       "2                        30                             2      12:39:25 PM   \n",
       "3                        15                             5       9:25:34 AM   \n",
       "4                        13                             1       9:55:18 AM   \n",
       "\n",
       "   Confirmation - Day of Month  Confirmation - Weekday (Mo = 1)  \\\n",
       "0                            9                                5   \n",
       "1                           12                                5   \n",
       "2                           30                                2   \n",
       "3                           15                                5   \n",
       "4                           13                                1   \n",
       "\n",
       "  Confirmation - Time  Arrival at Pickup - Day of Month  ...  Pickup Lat  \\\n",
       "0          9:40:10 AM                                 9  ...   -1.317755   \n",
       "1         11:23:21 AM                                12  ...   -1.351453   \n",
       "2         12:42:44 PM                                30  ...   -1.308284   \n",
       "3          9:26:05 AM                                15  ...   -1.281301   \n",
       "4          9:56:18 AM                                13  ...   -1.266597   \n",
       "\n",
       "  Pickup Long  Destination Lat  Destination Long      Rider Id  No_Of_Orders  \\\n",
       "0   36.830370        -1.300406         36.829741  Rider_Id_432          1637   \n",
       "1   36.899315        -1.295004         36.814358  Rider_Id_856           396   \n",
       "2   36.843419        -1.300921         36.828195  Rider_Id_155          1023   \n",
       "3   36.832396        -1.257147         36.795063  Rider_Id_855           886   \n",
       "4   36.792118        -1.295041         36.809817  Rider_Id_770          2311   \n",
       "\n",
       "    Age Average_Rating  No_of_Ratings  Time from Pickup to Arrival  \n",
       "0  1309           13.8            549                          745  \n",
       "1   339           13.6             69                         1993  \n",
       "2   242           12.5            114                          455  \n",
       "3   283           14.5            113                         1341  \n",
       "4   872           14.1            533                         1214  \n",
       "\n",
       "[5 rows x 31 columns]"
      ]
     },
     "execution_count": 93,
     "metadata": {},
     "output_type": "execute_result"
    }
   ],
   "source": [
    "total.head()"
   ]
  },
  {
   "cell_type": "code",
   "execution_count": 94,
   "metadata": {},
   "outputs": [
    {
     "name": "stdout",
     "output_type": "stream",
     "text": [
      "<class 'pandas.core.frame.DataFrame'>\n",
      "Int64Index: 21201 entries, 0 to 21200\n",
      "Data columns (total 31 columns):\n",
      " #   Column                                     Non-Null Count  Dtype  \n",
      "---  ------                                     --------------  -----  \n",
      " 0   Order No                                   21201 non-null  object \n",
      " 1   Platform Type                              21201 non-null  int64  \n",
      " 2   Personal or Business                       21201 non-null  object \n",
      " 3   Placement - Day of Month                   21201 non-null  int64  \n",
      " 4   Placement - Weekday (Mo = 1)               21201 non-null  int64  \n",
      " 5   Placement - Time                           21201 non-null  object \n",
      " 6   Confirmation - Day of Month                21201 non-null  int64  \n",
      " 7   Confirmation - Weekday (Mo = 1)            21201 non-null  int64  \n",
      " 8   Confirmation - Time                        21201 non-null  object \n",
      " 9   Arrival at Pickup - Day of Month           21201 non-null  int64  \n",
      " 10  Arrival at Pickup - Weekday (Mo = 1)       21201 non-null  int64  \n",
      " 11  Arrival at Pickup - Time                   21201 non-null  object \n",
      " 12  Pickup - Day of Month                      21201 non-null  int64  \n",
      " 13  Pickup - Weekday (Mo = 1)                  21201 non-null  int64  \n",
      " 14  Pickup - Time                              21201 non-null  object \n",
      " 15  Arrival at Destination - Day of Month      21201 non-null  int64  \n",
      " 16  Arrival at Destination - Weekday (Mo = 1)  21201 non-null  int64  \n",
      " 17  Arrival at Destination - Time              21201 non-null  object \n",
      " 18  Distance (KM)                              21201 non-null  int64  \n",
      " 19  Temperature                                16835 non-null  float64\n",
      " 20  Precipitation in millimeters               552 non-null    float64\n",
      " 21  Pickup Lat                                 21201 non-null  float64\n",
      " 22  Pickup Long                                21201 non-null  float64\n",
      " 23  Destination Lat                            21201 non-null  float64\n",
      " 24  Destination Long                           21201 non-null  float64\n",
      " 25  Rider Id                                   21201 non-null  object \n",
      " 26  No_Of_Orders                               21201 non-null  int64  \n",
      " 27  Age                                        21201 non-null  int64  \n",
      " 28  Average_Rating                             21201 non-null  float64\n",
      " 29  No_of_Ratings                              21201 non-null  int64  \n",
      " 30  Time from Pickup to Arrival                21201 non-null  int64  \n",
      "dtypes: float64(7), int64(16), object(8)\n",
      "memory usage: 5.2+ MB\n"
     ]
    }
   ],
   "source": [
    "total.info()"
   ]
  },
  {
   "cell_type": "code",
   "execution_count": 95,
   "metadata": {},
   "outputs": [],
   "source": [
    "X = total.iloc[:, :-1].values\n",
    "y = total.iloc[:, -1].values"
   ]
  },
  {
   "cell_type": "markdown",
   "metadata": {},
   "source": [
    "## Taking care of missing data"
   ]
  },
  {
   "cell_type": "code",
   "execution_count": 97,
   "metadata": {},
   "outputs": [],
   "source": [
    "#Temperature - replace null values with mean of the columns\n",
    "from sklearn.impute import SimpleImputer\n",
    "imp_temp = SimpleImputer(missing_values = np.nan, strategy='mean')\n",
    "imp_temp.fit(total.iloc[:, 18:20]) \n",
    "total.iloc[:, 18:20] = imp_temp.transform(total.iloc[:, 18:20])"
   ]
  },
  {
   "cell_type": "code",
   "execution_count": 98,
   "metadata": {},
   "outputs": [],
   "source": [
    "#Precipitation(ml) - replace null values with 0\n",
    "from sklearn.impute import SimpleImputer\n",
    "imp_prec = SimpleImputer(missing_values=np.nan, strategy='constant', fill_value = 0)\n",
    "imp_prec.fit(total.iloc[:,20:]) \n",
    "total.iloc[:,20:] = imp_prec.transform(total.iloc[:,20:])"
   ]
  },
  {
   "cell_type": "markdown",
   "metadata": {},
   "source": [
    "## Changing datatype for Time columns\n"
   ]
  },
  {
   "cell_type": "code",
   "execution_count": 99,
   "metadata": {},
   "outputs": [],
   "source": [
    "total['Placement - Time'] = pd.to_datetime(total['Placement - Time'])"
   ]
  },
  {
   "cell_type": "code",
   "execution_count": 100,
   "metadata": {},
   "outputs": [],
   "source": [
    "total['Confirmation - Time'] = pd.to_datetime(total['Confirmation - Time'])"
   ]
  },
  {
   "cell_type": "code",
   "execution_count": 101,
   "metadata": {},
   "outputs": [],
   "source": [
    "total['Arrival at Pickup - Time'] = pd.to_datetime(total['Arrival at Pickup - Time'])"
   ]
  },
  {
   "cell_type": "code",
   "execution_count": 102,
   "metadata": {},
   "outputs": [],
   "source": [
    "total['Pickup - Time'] = pd.to_datetime(total['Pickup - Time'])"
   ]
  },
  {
   "cell_type": "code",
   "execution_count": 103,
   "metadata": {},
   "outputs": [],
   "source": [
    "total['Arrival at Destination - Time'] = pd.to_datetime(total['Arrival at Destination - Time'])"
   ]
  },
  {
   "cell_type": "markdown",
   "metadata": {
    "colab_type": "text",
    "id": "VadrvE7s_lS9"
   },
   "source": [
    "## Encoding categorical data"
   ]
  },
  {
   "cell_type": "code",
   "execution_count": 104,
   "metadata": {},
   "outputs": [],
   "source": [
    "#Personal or Business Business=1 and Personal=0\n",
    "from sklearn.compose import ColumnTransformer\n",
    "from sklearn.preprocessing import OneHotEncoder\n",
    "ct = ColumnTransformer(transformers=[('encoder', OneHotEncoder(), [2])], remainder='passthrough')\n",
    "X = np.array(ct.fit_transform(X))"
   ]
  },
  {
   "cell_type": "code",
   "execution_count": 105,
   "metadata": {},
   "outputs": [
    {
     "data": {
      "text/plain": [
       "array([1.0, 0.0, 'Order_No_4211', 3, 9, 5, '9:35:46 AM', 9, 5,\n",
       "       '9:40:10 AM', 9, 5, '10:04:47 AM', 9, 5, '10:27:30 AM', 9, 5,\n",
       "       '10:39:55 AM', 4, 20.4, nan, -1.3177546999999998, 36.8303703,\n",
       "       -1.3004062, 36.829741, 'Rider_Id_432', 1637, 1309, 13.8, 549],\n",
       "      dtype=object)"
      ]
     },
     "execution_count": 105,
     "metadata": {},
     "output_type": "execute_result"
    }
   ],
   "source": [
    "X[0]"
   ]
  },
  {
   "cell_type": "markdown",
   "metadata": {
    "colab_type": "text",
    "id": "WemVnqgeA70k"
   },
   "source": [
    "## Splitting the dataset into the Training set and Test set"
   ]
  },
  {
   "cell_type": "code",
   "execution_count": 107,
   "metadata": {},
   "outputs": [
    {
     "name": "stdout",
     "output_type": "stream",
     "text": [
      "<class 'pandas.core.frame.DataFrame'>\n",
      "Int64Index: 21201 entries, 0 to 21200\n",
      "Data columns (total 10 columns):\n",
      " #   Column                                     Non-Null Count  Dtype  \n",
      "---  ------                                     --------------  -----  \n",
      " 0   Pickup - Day of Month                      21201 non-null  int64  \n",
      " 1   Pickup - Weekday (Mo = 1)                  21201 non-null  int64  \n",
      " 2   Arrival at Destination - Day of Month      21201 non-null  int64  \n",
      " 3   Arrival at Destination - Weekday (Mo = 1)  21201 non-null  int64  \n",
      " 4   Distance (KM)                              21201 non-null  float64\n",
      " 5   Temperature                                21201 non-null  float64\n",
      " 6   Precipitation in millimeters               21201 non-null  float64\n",
      " 7   No_Of_Orders                               21201 non-null  int64  \n",
      " 8   Average_Rating                             21201 non-null  float64\n",
      " 9   Time from Pickup to Arrival                21201 non-null  int64  \n",
      "dtypes: float64(4), int64(6)\n",
      "memory usage: 1.8 MB\n"
     ]
    }
   ],
   "source": [
    "#Drop columns not wanted to be part of the model\n",
    "total_ln = total.iloc[:, 12:]\n",
    "total_ln.drop('Rider Id', axis=1, inplace=True)\n",
    "total_ln.drop('Pickup Long', axis=1, inplace=True)\n",
    "total_ln.drop('Pickup Lat', axis=1, inplace=True)\n",
    "total_ln.drop('Arrival at Destination - Time', axis=1, inplace=True)\n",
    "total_ln.drop('Pickup - Time', axis=1, inplace=True) \n",
    "total_ln.drop('Destination Lat', axis=1, inplace=True)\n",
    "total_ln.drop('Destination Long', axis=1, inplace=True)\n",
    "#total_ln.drop('No_Of_Orders', axis=1, inplace=True)\n",
    "total_ln.drop('Age', axis=1, inplace=True)\n",
    "#total_ln.drop('Average_Rating', axis=1, inplace=True)\n",
    "total_ln.drop('No_of_Ratings', axis=1, inplace=True)\n",
    "\n",
    "\n",
    "total_ln.info()\n",
    "X = total_ln.iloc[:,:-1]\n",
    "y = total_ln.iloc[:,-1]"
   ]
  },
  {
   "cell_type": "code",
   "execution_count": 108,
   "metadata": {
    "colab": {},
    "colab_type": "code",
    "id": "Kb_v_ae-A-20"
   },
   "outputs": [],
   "source": [
    "from sklearn.model_selection import train_test_split\n",
    "X_train, X_test, y_train, y_test = train_test_split(X, y, test_size = 0.2, random_state = 0)"
   ]
  },
  {
   "cell_type": "markdown",
   "metadata": {
    "colab_type": "text",
    "id": "k-McZVsQBINc"
   },
   "source": [
    "## Training the Multiple Linear Regression model on the Training set"
   ]
  },
  {
   "cell_type": "code",
   "execution_count": 109,
   "metadata": {
    "colab": {
     "base_uri": "https://localhost:8080/",
     "height": 34
    },
    "colab_type": "code",
    "executionInfo": {
     "elapsed": 757,
     "status": "ok",
     "timestamp": 1586353664008,
     "user": {
      "displayName": "Hadelin de Ponteves",
      "photoUrl": "https://lh3.googleusercontent.com/a-/AOh14GhEuXdT7eQweUmRPW8_laJuPggSK6hfvpl5a6WBaA=s64",
      "userId": "15047218817161520419"
     },
     "user_tz": -240
    },
    "id": "ywPjx0L1BMiD",
    "outputId": "099836bc-4d85-4b4f-a488-093faf02e8cb"
   },
   "outputs": [
    {
     "data": {
      "text/plain": [
       "LinearRegression(copy_X=True, fit_intercept=True, n_jobs=None, normalize=False)"
      ]
     },
     "execution_count": 109,
     "metadata": {},
     "output_type": "execute_result"
    }
   ],
   "source": [
    "# Multiple Linear regression model \n",
    "from sklearn.linear_model import LinearRegression\n",
    "mlr = LinearRegression()\n",
    "mlr.fit(X_train, y_train)"
   ]
  },
  {
   "cell_type": "code",
   "execution_count": 110,
   "metadata": {},
   "outputs": [
    {
     "data": {
      "text/plain": [
       "DecisionTreeRegressor(ccp_alpha=0.0, criterion='mse', max_depth=None,\n",
       "                      max_features=None, max_leaf_nodes=None,\n",
       "                      min_impurity_decrease=0.0, min_impurity_split=None,\n",
       "                      min_samples_leaf=1, min_samples_split=2,\n",
       "                      min_weight_fraction_leaf=0.0, presort='deprecated',\n",
       "                      random_state=None, splitter='best')"
      ]
     },
     "execution_count": 110,
     "metadata": {},
     "output_type": "execute_result"
    }
   ],
   "source": [
    "#Decision tree regression model \n",
    "from sklearn.tree import DecisionTreeRegressor\n",
    "tree = DecisionTreeRegressor()\n",
    "tree.fit(X_train, y_train)\n"
   ]
  },
  {
   "cell_type": "code",
   "execution_count": 111,
   "metadata": {},
   "outputs": [
    {
     "data": {
      "text/plain": [
       "RandomForestRegressor(bootstrap=True, ccp_alpha=0.0, criterion='mse',\n",
       "                      max_depth=None, max_features='auto', max_leaf_nodes=None,\n",
       "                      max_samples=None, min_impurity_decrease=0.0,\n",
       "                      min_impurity_split=None, min_samples_leaf=1,\n",
       "                      min_samples_split=2, min_weight_fraction_leaf=0.0,\n",
       "                      n_estimators=25, n_jobs=None, oob_score=False,\n",
       "                      random_state=None, verbose=0, warm_start=False)"
      ]
     },
     "execution_count": 111,
     "metadata": {},
     "output_type": "execute_result"
    }
   ],
   "source": [
    "#Random forest regression model \n",
    "from sklearn.ensemble import RandomForestRegressor\n",
    "forest = RandomForestRegressor(n_estimators = 25)\n",
    "forest.fit(X_test, y_test)"
   ]
  },
  {
   "cell_type": "markdown",
   "metadata": {
    "colab_type": "text",
    "id": "xNkXL1YQBiBT"
   },
   "source": [
    "## Predicting the Test set results"
   ]
  },
  {
   "cell_type": "code",
   "execution_count": 112,
   "metadata": {},
   "outputs": [
    {
     "data": {
      "text/plain": [
       "[798.32, 801.09]"
      ]
     },
     "execution_count": 112,
     "metadata": {},
     "output_type": "execute_result"
    }
   ],
   "source": [
    "from sklearn import metrics\n",
    "import math\n",
    "\n",
    "rmse_test = round(math.sqrt(metrics.mean_squared_error(y_test, mlr.predict(X_test))),2)\n",
    "rmse_train = round(math.sqrt(metrics.mean_squared_error(y_train, mlr.predict(X_train))),2)\n",
    "\n",
    "[rmse_test, rmse_train]"
   ]
  },
  {
   "cell_type": "code",
   "execution_count": 113,
   "metadata": {},
   "outputs": [
    {
     "data": {
      "text/plain": [
       "[1119.0, 55.62]"
      ]
     },
     "execution_count": 113,
     "metadata": {},
     "output_type": "execute_result"
    }
   ],
   "source": [
    "# Decision Tree regression\n",
    "from sklearn import metrics\n",
    "import math\n",
    "\n",
    "rmse_test1 = round(math.sqrt(metrics.mean_squared_error(y_test, tree.predict(X_test))),2)\n",
    "rmse_train1 = round(math.sqrt(metrics.mean_squared_error(y_train, tree.predict(X_train))),2)\n",
    "\n",
    "[rmse_test1, rmse_train1]"
   ]
  },
  {
   "cell_type": "code",
   "execution_count": 114,
   "metadata": {},
   "outputs": [
    {
     "data": {
      "text/plain": [
       "[320.98, 830.33]"
      ]
     },
     "execution_count": 114,
     "metadata": {},
     "output_type": "execute_result"
    }
   ],
   "source": [
    "# Random forrest regression \n",
    "\n",
    "rmse_test2 = round(math.sqrt(metrics.mean_squared_error(y_test, forest.predict(X_test))),2)\n",
    "        \n",
    "rmse_train2 = round(math.sqrt(metrics.mean_squared_error(y_train, forest.predict(X_train))),2)\n",
    "\n",
    "[rmse_test2, rmse_train2]\n",
    "                    "
   ]
  },
  {
   "cell_type": "code",
   "execution_count": 116,
   "metadata": {},
   "outputs": [
    {
     "name": "stdout",
     "output_type": "stream",
     "text": [
      "  Regression model  RMSE Training  RMSE Testing\n",
      "0              MLR         801.09        798.32\n",
      "1           D.Tree          55.62       1119.00\n",
      "2         R.Forest         830.33        320.98\n"
     ]
    }
   ],
   "source": [
    "data = {'Regression model':  ['MLR', 'D.Tree', 'R.Forest'],\n",
    "        'RMSE Training': [rmse_train, rmse_train1, rmse_train2],\n",
    "        'RMSE Testing' : [rmse_test, rmse_test1, rmse_test2]\n",
    "        }\n",
    "\n",
    "df = pd.DataFrame (data, columns = ['Regression model', 'RMSE Training', 'RMSE Testing'])\n",
    "print(df)"
   ]
  },
  {
   "cell_type": "markdown",
   "metadata": {},
   "source": [
    "## MLR coefficients\n"
   ]
  },
  {
   "cell_type": "code",
   "execution_count": 76,
   "metadata": {},
   "outputs": [],
   "source": [
    "beta_0 = float(mlr.intercept_)"
   ]
  },
  {
   "cell_type": "code",
   "execution_count": 77,
   "metadata": {},
   "outputs": [],
   "source": [
    "beta_js = pd.DataFrame(mlr.coef_, X.columns, columns=['Coefficient'])"
   ]
  },
  {
   "cell_type": "code",
   "execution_count": 78,
   "metadata": {},
   "outputs": [
    {
     "name": "stdout",
     "output_type": "stream",
     "text": [
      "Intercept: 1077.837507479573\n"
     ]
    }
   ],
   "source": [
    "print(\"Intercept:\", beta_0)"
   ]
  },
  {
   "cell_type": "code",
   "execution_count": 79,
   "metadata": {},
   "outputs": [
    {
     "data": {
      "text/html": [
       "<div>\n",
       "<style scoped>\n",
       "    .dataframe tbody tr th:only-of-type {\n",
       "        vertical-align: middle;\n",
       "    }\n",
       "\n",
       "    .dataframe tbody tr th {\n",
       "        vertical-align: top;\n",
       "    }\n",
       "\n",
       "    .dataframe thead th {\n",
       "        text-align: right;\n",
       "    }\n",
       "</style>\n",
       "<table border=\"1\" class=\"dataframe\">\n",
       "  <thead>\n",
       "    <tr style=\"text-align: right;\">\n",
       "      <th></th>\n",
       "      <th>Coefficient</th>\n",
       "    </tr>\n",
       "  </thead>\n",
       "  <tbody>\n",
       "    <tr>\n",
       "      <th>Pickup - Day of Month</th>\n",
       "      <td>-0.793672</td>\n",
       "    </tr>\n",
       "    <tr>\n",
       "      <th>Pickup - Weekday (Mo = 1)</th>\n",
       "      <td>1.421320</td>\n",
       "    </tr>\n",
       "    <tr>\n",
       "      <th>Arrival at Destination - Day of Month</th>\n",
       "      <td>-0.793672</td>\n",
       "    </tr>\n",
       "    <tr>\n",
       "      <th>Arrival at Destination - Weekday (Mo = 1)</th>\n",
       "      <td>1.421320</td>\n",
       "    </tr>\n",
       "    <tr>\n",
       "      <th>Distance (KM)</th>\n",
       "      <td>100.642723</td>\n",
       "    </tr>\n",
       "    <tr>\n",
       "      <th>Temperature</th>\n",
       "      <td>5.334063</td>\n",
       "    </tr>\n",
       "    <tr>\n",
       "      <th>Precipitation in millimeters</th>\n",
       "      <td>2.650221</td>\n",
       "    </tr>\n",
       "    <tr>\n",
       "      <th>No_Of_Orders</th>\n",
       "      <td>-0.102678</td>\n",
       "    </tr>\n",
       "    <tr>\n",
       "      <th>Age</th>\n",
       "      <td>0.009802</td>\n",
       "    </tr>\n",
       "    <tr>\n",
       "      <th>Average_Rating</th>\n",
       "      <td>-37.254328</td>\n",
       "    </tr>\n",
       "    <tr>\n",
       "      <th>No_of_Ratings</th>\n",
       "      <td>0.280528</td>\n",
       "    </tr>\n",
       "  </tbody>\n",
       "</table>\n",
       "</div>"
      ],
      "text/plain": [
       "                                           Coefficient\n",
       "Pickup - Day of Month                        -0.793672\n",
       "Pickup - Weekday (Mo = 1)                     1.421320\n",
       "Arrival at Destination - Day of Month        -0.793672\n",
       "Arrival at Destination - Weekday (Mo = 1)     1.421320\n",
       "Distance (KM)                               100.642723\n",
       "Temperature                                   5.334063\n",
       "Precipitation in millimeters                  2.650221\n",
       "No_Of_Orders                                 -0.102678\n",
       "Age                                           0.009802\n",
       "Average_Rating                              -37.254328\n",
       "No_of_Ratings                                 0.280528"
      ]
     },
     "execution_count": 79,
     "metadata": {},
     "output_type": "execute_result"
    }
   ],
   "source": [
    "beta_js"
   ]
  },
  {
   "cell_type": "code",
   "execution_count": 80,
   "metadata": {},
   "outputs": [],
   "source": [
    "# dictionary of results\n",
    "results_dict = {'Training MSE':\n",
    "                    {\n",
    "                        \"MLR\": metrics.mean_squared_error(y_train, mlr.predict(X_train))\n",
    "                    },\n",
    "                'Test MSE':\n",
    "                    {\n",
    "                        \"MLR\": metrics.mean_squared_error(y_test, mlr.predict(X_test))\n",
    "                    },\n",
    "                'Test RMSE':\n",
    "                    {\n",
    "                        \"MLR\": math.sqrt(metrics.mean_squared_error(y_test, mlr.predict(X_test)))\n",
    "                    }\n",
    "                }"
   ]
  },
  {
   "cell_type": "code",
   "execution_count": 81,
   "metadata": {},
   "outputs": [
    {
     "data": {
      "text/html": [
       "<div>\n",
       "<style scoped>\n",
       "    .dataframe tbody tr th:only-of-type {\n",
       "        vertical-align: middle;\n",
       "    }\n",
       "\n",
       "    .dataframe tbody tr th {\n",
       "        vertical-align: top;\n",
       "    }\n",
       "\n",
       "    .dataframe thead th {\n",
       "        text-align: right;\n",
       "    }\n",
       "</style>\n",
       "<table border=\"1\" class=\"dataframe\">\n",
       "  <thead>\n",
       "    <tr style=\"text-align: right;\">\n",
       "      <th></th>\n",
       "      <th>Training MSE</th>\n",
       "      <th>Test MSE</th>\n",
       "      <th>Test RMSE</th>\n",
       "    </tr>\n",
       "  </thead>\n",
       "  <tbody>\n",
       "    <tr>\n",
       "      <th>MLR</th>\n",
       "      <td>638298.894941</td>\n",
       "      <td>633157.584306</td>\n",
       "      <td>795.711998</td>\n",
       "    </tr>\n",
       "  </tbody>\n",
       "</table>\n",
       "</div>"
      ],
      "text/plain": [
       "      Training MSE       Test MSE   Test RMSE\n",
       "MLR  638298.894941  633157.584306  795.711998"
      ]
     },
     "execution_count": 81,
     "metadata": {},
     "output_type": "execute_result"
    }
   ],
   "source": [
    "results_df = pd.DataFrame(data=(results_dict))\n",
    "results_df"
   ]
  },
  {
   "cell_type": "code",
   "execution_count": 82,
   "metadata": {},
   "outputs": [],
   "source": [
    "testing = Test.merge(Riders, how='left', on='Rider Id')\n",
    "\n",
    "#Test Data\n",
    "testing = testing.drop(['Vehicle Type'], axis=1)\n",
    "testing = testing.drop(['User Id'], axis=1)\n",
    "\n",
    "X1 = testing.iloc[:, :].values\n",
    "\n",
    "#Distance/Temperature\n",
    "from sklearn.impute import SimpleImputer\n",
    "imp_temp = SimpleImputer(missing_values = np.nan, strategy='mean')\n",
    "imp_temp.fit(testing.iloc[:, 15:17]) \n",
    "testing.iloc[:, 15:17] = imp_temp.transform(testing.iloc[:, 15:17])\n",
    "\n",
    "#Precipitation(ml)\n",
    "from sklearn.impute import SimpleImputer\n",
    "imp_prec = SimpleImputer(missing_values=np.nan, strategy='constant', fill_value = 0)\n",
    "imp_prec.fit(testing.iloc[:,17:]) \n",
    "testing.iloc[:,17:] = imp_prec.transform(testing.iloc[:,17:])\n",
    "\n",
    "testing['Placement - Time'] = pd.to_datetime(testing['Placement - Time'])\n",
    "testing['Confirmation - Time'] = pd.to_datetime(testing['Confirmation - Time'])\n",
    "testing['Arrival at Pickup - Time'] = pd.to_datetime(testing['Arrival at Pickup - Time'])\n",
    "testing['Pickup - Time'] = pd.to_datetime(testing['Pickup - Time'])\n",
    "\n",
    "#Personal or Business\n",
    "from sklearn.compose import ColumnTransformer\n",
    "from sklearn.preprocessing import OneHotEncoder\n",
    "ct = ColumnTransformer(transformers=[('encoder', OneHotEncoder(), [2])], remainder='passthrough')\n",
    "X1 = np.array(ct.fit_transform(X1))"
   ]
  },
  {
   "cell_type": "code",
   "execution_count": 83,
   "metadata": {},
   "outputs": [
    {
     "data": {
      "text/plain": [
       "array([[1.0, 0.0, 'Order_No_19248', ..., 1511, 13.3, 171],\n",
       "       [1.0, 0.0, 'Order_No_12736', ..., 273, 14.4, 45],\n",
       "       [1.0, 0.0, 'Order_No_768', ..., 460, 13.1, 67],\n",
       "       ...,\n",
       "       [1.0, 0.0, 'Order_No_1969', ..., 1337, 13.7, 441],\n",
       "       [0.0, 1.0, 'Order_No_10591', ..., 878, 14.1, 66],\n",
       "       [1.0, 0.0, 'Order_No_1603', ..., 297, 14.0, 108]], dtype=object)"
      ]
     },
     "execution_count": 83,
     "metadata": {},
     "output_type": "execute_result"
    }
   ],
   "source": [
    "X1"
   ]
  },
  {
   "cell_type": "code",
   "execution_count": 84,
   "metadata": {},
   "outputs": [
    {
     "data": {
      "text/html": [
       "<div>\n",
       "<style scoped>\n",
       "    .dataframe tbody tr th:only-of-type {\n",
       "        vertical-align: middle;\n",
       "    }\n",
       "\n",
       "    .dataframe tbody tr th {\n",
       "        vertical-align: top;\n",
       "    }\n",
       "\n",
       "    .dataframe thead th {\n",
       "        text-align: right;\n",
       "    }\n",
       "</style>\n",
       "<table border=\"1\" class=\"dataframe\">\n",
       "  <thead>\n",
       "    <tr style=\"text-align: right;\">\n",
       "      <th></th>\n",
       "      <th>Order No</th>\n",
       "      <th>Platform Type</th>\n",
       "      <th>Personal or Business</th>\n",
       "      <th>Placement - Day of Month</th>\n",
       "      <th>Placement - Weekday (Mo = 1)</th>\n",
       "      <th>Placement - Time</th>\n",
       "      <th>Confirmation - Day of Month</th>\n",
       "      <th>Confirmation - Weekday (Mo = 1)</th>\n",
       "      <th>Confirmation - Time</th>\n",
       "      <th>Arrival at Pickup - Day of Month</th>\n",
       "      <th>...</th>\n",
       "      <th>Precipitation in millimeters</th>\n",
       "      <th>Pickup Lat</th>\n",
       "      <th>Pickup Long</th>\n",
       "      <th>Destination Lat</th>\n",
       "      <th>Destination Long</th>\n",
       "      <th>Rider Id</th>\n",
       "      <th>No_Of_Orders</th>\n",
       "      <th>Age</th>\n",
       "      <th>Average_Rating</th>\n",
       "      <th>No_of_Ratings</th>\n",
       "    </tr>\n",
       "  </thead>\n",
       "  <tbody>\n",
       "    <tr>\n",
       "      <th>0</th>\n",
       "      <td>Order_No_19248</td>\n",
       "      <td>3</td>\n",
       "      <td>Business</td>\n",
       "      <td>27</td>\n",
       "      <td>3</td>\n",
       "      <td>2020-05-18 16:44:10</td>\n",
       "      <td>27</td>\n",
       "      <td>3</td>\n",
       "      <td>2020-05-18 16:44:29</td>\n",
       "      <td>27</td>\n",
       "      <td>...</td>\n",
       "      <td>0.0</td>\n",
       "      <td>-1.333275</td>\n",
       "      <td>36.870815</td>\n",
       "      <td>-1.305249</td>\n",
       "      <td>36.822390</td>\n",
       "      <td>Rider_Id_192</td>\n",
       "      <td>439</td>\n",
       "      <td>1511</td>\n",
       "      <td>13.3</td>\n",
       "      <td>171</td>\n",
       "    </tr>\n",
       "    <tr>\n",
       "      <th>1</th>\n",
       "      <td>Order_No_12736</td>\n",
       "      <td>3</td>\n",
       "      <td>Business</td>\n",
       "      <td>17</td>\n",
       "      <td>5</td>\n",
       "      <td>2020-05-18 12:57:35</td>\n",
       "      <td>17</td>\n",
       "      <td>5</td>\n",
       "      <td>2020-05-18 12:59:17</td>\n",
       "      <td>17</td>\n",
       "      <td>...</td>\n",
       "      <td>0.0</td>\n",
       "      <td>-1.272639</td>\n",
       "      <td>36.794723</td>\n",
       "      <td>-1.277007</td>\n",
       "      <td>36.823907</td>\n",
       "      <td>Rider_Id_868</td>\n",
       "      <td>488</td>\n",
       "      <td>273</td>\n",
       "      <td>14.4</td>\n",
       "      <td>45</td>\n",
       "    </tr>\n",
       "  </tbody>\n",
       "</table>\n",
       "<p>2 rows × 27 columns</p>\n",
       "</div>"
      ],
      "text/plain": [
       "         Order No  Platform Type Personal or Business  \\\n",
       "0  Order_No_19248              3             Business   \n",
       "1  Order_No_12736              3             Business   \n",
       "\n",
       "   Placement - Day of Month  Placement - Weekday (Mo = 1)    Placement - Time  \\\n",
       "0                        27                             3 2020-05-18 16:44:10   \n",
       "1                        17                             5 2020-05-18 12:57:35   \n",
       "\n",
       "   Confirmation - Day of Month  Confirmation - Weekday (Mo = 1)  \\\n",
       "0                           27                                3   \n",
       "1                           17                                5   \n",
       "\n",
       "  Confirmation - Time  Arrival at Pickup - Day of Month  ...  \\\n",
       "0 2020-05-18 16:44:29                                27  ...   \n",
       "1 2020-05-18 12:59:17                                17  ...   \n",
       "\n",
       "   Precipitation in millimeters Pickup Lat  Pickup Long  Destination Lat  \\\n",
       "0                           0.0  -1.333275    36.870815        -1.305249   \n",
       "1                           0.0  -1.272639    36.794723        -1.277007   \n",
       "\n",
       "  Destination Long      Rider Id  No_Of_Orders   Age  Average_Rating  \\\n",
       "0        36.822390  Rider_Id_192           439  1511            13.3   \n",
       "1        36.823907  Rider_Id_868           488   273            14.4   \n",
       "\n",
       "   No_of_Ratings  \n",
       "0            171  \n",
       "1             45  \n",
       "\n",
       "[2 rows x 27 columns]"
      ]
     },
     "execution_count": 84,
     "metadata": {},
     "output_type": "execute_result"
    }
   ],
   "source": [
    "testing.head(2)"
   ]
  },
  {
   "cell_type": "code",
   "execution_count": 85,
   "metadata": {},
   "outputs": [
    {
     "data": {
      "text/html": [
       "<div>\n",
       "<style scoped>\n",
       "    .dataframe tbody tr th:only-of-type {\n",
       "        vertical-align: middle;\n",
       "    }\n",
       "\n",
       "    .dataframe tbody tr th {\n",
       "        vertical-align: top;\n",
       "    }\n",
       "\n",
       "    .dataframe thead th {\n",
       "        text-align: right;\n",
       "    }\n",
       "</style>\n",
       "<table border=\"1\" class=\"dataframe\">\n",
       "  <thead>\n",
       "    <tr style=\"text-align: right;\">\n",
       "      <th></th>\n",
       "      <th>Time from Pickup to Arrival</th>\n",
       "    </tr>\n",
       "  </thead>\n",
       "  <tbody>\n",
       "    <tr>\n",
       "      <th>0</th>\n",
       "      <td>1513.867433</td>\n",
       "    </tr>\n",
       "    <tr>\n",
       "      <th>1</th>\n",
       "      <td>1114.251836</td>\n",
       "    </tr>\n",
       "    <tr>\n",
       "      <th>2</th>\n",
       "      <td>1137.056454</td>\n",
       "    </tr>\n",
       "    <tr>\n",
       "      <th>3</th>\n",
       "      <td>1149.909348</td>\n",
       "    </tr>\n",
       "    <tr>\n",
       "      <th>4</th>\n",
       "      <td>1071.405675</td>\n",
       "    </tr>\n",
       "  </tbody>\n",
       "</table>\n",
       "</div>"
      ],
      "text/plain": [
       "   Time from Pickup to Arrival\n",
       "0                  1513.867433\n",
       "1                  1114.251836\n",
       "2                  1137.056454\n",
       "3                  1149.909348\n",
       "4                  1071.405675"
      ]
     },
     "execution_count": 85,
     "metadata": {},
     "output_type": "execute_result"
    }
   ],
   "source": [
    "#TESTING MODEL ON TEST DATA(CSV)\n",
    "\n",
    "#factors that will predict Time from Pickup to Arrival\n",
    "desired_factors = ['Distance (KM)','Temperature','Precipitation in millimeters'\n",
    "                   ,'No_Of_Orders','Age', 'Average_Rating','No_of_Ratings']\n",
    "\n",
    "#set my model to DecisionTree\n",
    "model = LinearRegression()\n",
    "#model = RandomForestRegressor\n",
    "#model = DecisionTreeRegressor\n",
    "\n",
    "#set prediction data to factors that will predict, and set target to (time Arrival from Pick up to Arrival)\n",
    "train_data = total[desired_factors]\n",
    "test_data = testing[desired_factors]\n",
    "target = total['Time from Pickup to Arrival']\n",
    "\n",
    "#fitting model with prediction data and telling it my target\n",
    "model.fit(train_data, target)\n",
    "\n",
    "results = model.predict(test_data)\n",
    "df = pd.DataFrame (results, columns = ['Time from Pickup to Arrival'])\n",
    "df.head()"
   ]
  }
 ],
 "metadata": {
  "colab": {
   "authorship_tag": "ABX9TyPhYhte6t7H4wEK4xPpDWT7",
   "name": "Multiple Linear Regression",
   "provenance": [],
   "toc_visible": true
  },
  "kernelspec": {
   "display_name": "Python 3",
   "language": "python",
   "name": "python3"
  },
  "language_info": {
   "codemirror_mode": {
    "name": "ipython",
    "version": 3
   },
   "file_extension": ".py",
   "mimetype": "text/x-python",
   "name": "python",
   "nbconvert_exporter": "python",
   "pygments_lexer": "ipython3",
   "version": "3.7.6"
  }
 },
 "nbformat": 4,
 "nbformat_minor": 1
}