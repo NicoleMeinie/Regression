{
  "nbformat": 4,
  "nbformat_minor": 0,
  "metadata": {
    "colab": {
      "name": "Untitled",
      "provenance": [],
      "authorship_tag": "ABX9TyNcCgTHJ85w9Vnqx9sze4vi",
      "include_colab_link": true
    },
    "kernelspec": {
      "name": "python3",
      "display_name": "Python 3"
    }
  },
  "cells": [
    {
      "cell_type": "markdown",
      "metadata": {
        "id": "view-in-github",
        "colab_type": "text"
      },
      "source": [
        "<a href=\"https://colab.research.google.com/github/NicoleMeinie/Regression/blob/master/Untitled.ipynb\" target=\"_parent\"><img src=\"https://colab.research.google.com/assets/colab-badge.svg\" alt=\"Open In Colab\"/></a>"
      ]
    },
    {
      "cell_type": "code",
      "metadata": {
        "id": "VDC00Zs2BBvX",
        "colab_type": "code",
        "colab": {}
      },
      "source": [
        "# Importing libraries \n",
        "import numpy as np\n",
        "import pandas as pd\n",
        "import matplotlib.pyplot as plt\n",
        "import seaborn as sns\n",
        "import scipy.stats as stats\n",
        "%matplotlib inline\n",
        "\n",
        "# should these be here or in the body of the code? - PEP8\n",
        "from sklearn.impute import SimpleImputer\n",
        "from sklearn.model_selection import train_test_split\n",
        "from sklearn.linear_model import LinearRegression\n",
        "from sklearn.tree import DecisionTreeRegressor\n",
        "from sklearn.ensemble import RandomForestRegressor\n",
        "\n",
        "# avoid pd warnings \n",
        "import warnings\n",
        "warnings.filterwarnings(\"ignore\")\n",
        "\n",
        "# upload data\n",
        "Test = pd.read_csv('Test.csv')\n",
        "Train = pd.read_csv('Train.csv')\n",
        "Riders = pd.read_csv('Riders.csv')\n",
        "#Sub = pd.read_csv('SampleSubmission.csv')\n",
        "\n",
        "# merge drivers's informations with the train and test datasets\n",
        "Train = Train.merge(Riders, on='Rider Id', how='left')\n",
        "Test = Test.merge(Riders, on='Rider Id', how='left')\n",
        "\n",
        "Tests = Test.copy()"
      ],
      "execution_count": 0,
      "outputs": []
    },
    {
      "cell_type": "code",
      "metadata": {
        "id": "Hwk4stTtBDpO",
        "colab_type": "code",
        "outputId": "b1cf60b3-fe1e-4a60-d6df-7fd98134c7c4",
        "colab": {
          "base_uri": "https://localhost:8080/",
          "height": 697
        }
      },
      "source": [
        "from sklearn.impute import SimpleImputer\n",
        "\n",
        "# Replacing Null values in the temperature column with the average value - train and test set\n",
        "imputer_temp = SimpleImputer(missing_values = np.NaN, strategy = 'mean')\n",
        "imputer_temp_1 = SimpleImputer(missing_values = np.NaN, strategy = 'mean')\n",
        "\n",
        "imputer_temp.fit(Train.iloc[:,20:22])\n",
        "Train.iloc[:,20:22] = imputer_temp.transform(Train.iloc[:,20:22])\n",
        "\n",
        "imputer_temp_1.fit(Train.iloc[:,17:19])\n",
        "Test.iloc[:,17:19] = imputer_temp_1.transform(Test.iloc[:,17:19])\n",
        "\n",
        "# Replacing the Null values in the precipitation column with 0 - train and test set \n",
        "imputer_prec = SimpleImputer(missing_values = np.NaN, strategy = 'constant', fill_value = 0)\n",
        "imputer_prec_1 = SimpleImputer(missing_values = np.NaN, strategy = 'constant', fill_value = 0)\n",
        "\n",
        "imputer_prec.fit(Train.iloc[:,22:])\n",
        "Train.iloc[:,22:] = imputer_prec.transform(Train.iloc[:,22:])\n",
        "\n",
        "imputer_prec_1.fit(Test.iloc[:,19:22])\n",
        "Test.iloc[:,19:22] = imputer_prec_1.transform(Test.iloc[:,19:22])  \n",
        "Train.info()"
      ],
      "execution_count": 120,
      "outputs": [
        {
          "output_type": "stream",
          "text": [
            "<class 'pandas.core.frame.DataFrame'>\n",
            "Int64Index: 21201 entries, 0 to 21200\n",
            "Data columns (total 33 columns):\n",
            " #   Column                                     Non-Null Count  Dtype  \n",
            "---  ------                                     --------------  -----  \n",
            " 0   Order No                                   21201 non-null  object \n",
            " 1   User Id                                    21201 non-null  object \n",
            " 2   Vehicle Type                               21201 non-null  object \n",
            " 3   Platform Type                              21201 non-null  int64  \n",
            " 4   Personal or Business                       21201 non-null  object \n",
            " 5   Placement - Day of Month                   21201 non-null  int64  \n",
            " 6   Placement - Weekday (Mo = 1)               21201 non-null  int64  \n",
            " 7   Placement - Time                           21201 non-null  object \n",
            " 8   Confirmation - Day of Month                21201 non-null  int64  \n",
            " 9   Confirmation - Weekday (Mo = 1)            21201 non-null  int64  \n",
            " 10  Confirmation - Time                        21201 non-null  object \n",
            " 11  Arrival at Pickup - Day of Month           21201 non-null  int64  \n",
            " 12  Arrival at Pickup - Weekday (Mo = 1)       21201 non-null  int64  \n",
            " 13  Arrival at Pickup - Time                   21201 non-null  object \n",
            " 14  Pickup - Day of Month                      21201 non-null  int64  \n",
            " 15  Pickup - Weekday (Mo = 1)                  21201 non-null  int64  \n",
            " 16  Pickup - Time                              21201 non-null  object \n",
            " 17  Arrival at Destination - Day of Month      21201 non-null  int64  \n",
            " 18  Arrival at Destination - Weekday (Mo = 1)  21201 non-null  int64  \n",
            " 19  Arrival at Destination - Time              21201 non-null  object \n",
            " 20  Distance (KM)                              21201 non-null  float64\n",
            " 21  Temperature                                21201 non-null  float64\n",
            " 22  Precipitation in millimeters               21201 non-null  float64\n",
            " 23  Pickup Lat                                 21201 non-null  float64\n",
            " 24  Pickup Long                                21201 non-null  float64\n",
            " 25  Destination Lat                            21201 non-null  float64\n",
            " 26  Destination Long                           21201 non-null  float64\n",
            " 27  Rider Id                                   21201 non-null  object \n",
            " 28  Time from Pickup to Arrival                21201 non-null  int64  \n",
            " 29  No_Of_Orders                               21201 non-null  int64  \n",
            " 30  Age                                        21201 non-null  int64  \n",
            " 31  Average_Rating                             21201 non-null  float64\n",
            " 32  No_of_Ratings                              21201 non-null  int64  \n",
            "dtypes: float64(8), int64(15), object(10)\n",
            "memory usage: 5.5+ MB\n"
          ],
          "name": "stdout"
        }
      ]
    },
    {
      "cell_type": "code",
      "metadata": {
        "id": "7hDetvs4BKQe",
        "colab_type": "code",
        "colab": {}
      },
      "source": [
        "# Drop the ID and Vehicle type columns in the train and test data\n",
        "to_drop = ['Order No', 'User Id', 'Rider Id', 'Vehicle Type', 'Confirmation - Day of Month', 'Confirmation - Weekday (Mo = 1)', 'Confirmation - Time', \n",
        "           'Arrival at Pickup - Day of Month', 'Arrival at Pickup - Weekday (Mo = 1)', 'Arrival at Pickup - Time', 'Pickup - Day of Month', 'Pickup - Weekday (Mo = 1)',\n",
        "             'No_of_Ratings']\n",
        "Train.drop(to_drop, axis = 1, inplace = True)\n",
        "Test.drop(to_drop, axis = 1, inplace = True)"
      ],
      "execution_count": 0,
      "outputs": []
    },
    {
      "cell_type": "code",
      "metadata": {
        "id": "-JlWb28vYF4L",
        "colab_type": "code",
        "outputId": "0557082c-df48-42e1-b224-63b7fb8e973b",
        "colab": {
          "base_uri": "https://localhost:8080/",
          "height": 476
        }
      },
      "source": [
        "# rename some columns\n",
        "name = {'Placement - Day of Month': 'Day of Month', 'Placement - Weekday (Mo = 1)': 'Weekday'}\n",
        "Train.rename(columns = name, inplace = True) \n",
        "Test.rename(columns = name, inplace = True)\n",
        "Train.info()"
      ],
      "execution_count": 122,
      "outputs": [
        {
          "output_type": "stream",
          "text": [
            "<class 'pandas.core.frame.DataFrame'>\n",
            "Int64Index: 21201 entries, 0 to 21200\n",
            "Data columns (total 20 columns):\n",
            " #   Column                                     Non-Null Count  Dtype  \n",
            "---  ------                                     --------------  -----  \n",
            " 0   Platform Type                              21201 non-null  int64  \n",
            " 1   Personal or Business                       21201 non-null  object \n",
            " 2   Day of Month                               21201 non-null  int64  \n",
            " 3   Weekday                                    21201 non-null  int64  \n",
            " 4   Placement - Time                           21201 non-null  object \n",
            " 5   Pickup - Time                              21201 non-null  object \n",
            " 6   Arrival at Destination - Day of Month      21201 non-null  int64  \n",
            " 7   Arrival at Destination - Weekday (Mo = 1)  21201 non-null  int64  \n",
            " 8   Arrival at Destination - Time              21201 non-null  object \n",
            " 9   Distance (KM)                              21201 non-null  float64\n",
            " 10  Temperature                                21201 non-null  float64\n",
            " 11  Precipitation in millimeters               21201 non-null  float64\n",
            " 12  Pickup Lat                                 21201 non-null  float64\n",
            " 13  Pickup Long                                21201 non-null  float64\n",
            " 14  Destination Lat                            21201 non-null  float64\n",
            " 15  Destination Long                           21201 non-null  float64\n",
            " 16  Time from Pickup to Arrival                21201 non-null  int64  \n",
            " 17  No_Of_Orders                               21201 non-null  int64  \n",
            " 18  Age                                        21201 non-null  int64  \n",
            " 19  Average_Rating                             21201 non-null  float64\n",
            "dtypes: float64(8), int64(8), object(4)\n",
            "memory usage: 3.4+ MB\n"
          ],
          "name": "stdout"
        }
      ]
    },
    {
      "cell_type": "code",
      "metadata": {
        "id": "qLRZbsFFcUjO",
        "colab_type": "code",
        "colab": {}
      },
      "source": [
        "# convert Times to timestamps\n",
        "\n",
        "# Train data\n",
        "Train['Placement - Time'] = pd.to_datetime(Train['Placement - Time'])\n",
        "Train['Pickup - Time'] = pd.to_datetime(Train['Pickup - Time'])\n",
        "\n",
        "# Test data\n",
        "Test['Placement - Time'] = pd.to_datetime(Test['Placement - Time'])\n",
        "Test['Pickup - Time'] = pd.to_datetime(Test['Pickup - Time'])"
      ],
      "execution_count": 0,
      "outputs": []
    },
    {
      "cell_type": "code",
      "metadata": {
        "id": "SfK3naBMdRyB",
        "colab_type": "code",
        "colab": {}
      },
      "source": [
        "# Create new feature: Waiting time between the time an order was placed and when the order was picked up\n",
        "Train['Waiting time'] = Train['Pickup - Time'] - Train['Placement - Time']\n",
        "Test['Waiting time'] = Test['Pickup - Time'] - Test['Placement - Time']\n",
        "\n",
        "# convert waiting time from time_delta to seconds \n",
        "Train['Waiting time'] = Train['Waiting time'].astype('timedelta64[s]')\n",
        "Test['Waiting time'] = Test['Waiting time'].astype('timedelta64[s]') "
      ],
      "execution_count": 0,
      "outputs": []
    },
    {
      "cell_type": "code",
      "metadata": {
        "id": "y81GET1Ig4iZ",
        "colab_type": "code",
        "outputId": "f824371c-3f4c-4f43-d8f4-4d34837209bb",
        "colab": {
          "base_uri": "https://localhost:8080/",
          "height": 258
        }
      },
      "source": [
        "Train.drop(['Placement - Time'], axis = 1, inplace = True)\n",
        "Test.drop(['Placement - Time'], axis = 1, inplace = True)\n",
        "\n",
        "Train['Pickup - Time'] = Train['Pickup - Time'].dt.hour\n",
        "Test['Pickup - Time'] = Test['Pickup - Time'].dt.hour\n",
        "Test.head()"
      ],
      "execution_count": 126,
      "outputs": [
        {
          "output_type": "execute_result",
          "data": {
            "text/html": [
              "<div>\n",
              "<style scoped>\n",
              "    .dataframe tbody tr th:only-of-type {\n",
              "        vertical-align: middle;\n",
              "    }\n",
              "\n",
              "    .dataframe tbody tr th {\n",
              "        vertical-align: top;\n",
              "    }\n",
              "\n",
              "    .dataframe thead th {\n",
              "        text-align: right;\n",
              "    }\n",
              "</style>\n",
              "<table border=\"1\" class=\"dataframe\">\n",
              "  <thead>\n",
              "    <tr style=\"text-align: right;\">\n",
              "      <th></th>\n",
              "      <th>Platform Type</th>\n",
              "      <th>Personal or Business</th>\n",
              "      <th>Day of Month</th>\n",
              "      <th>Weekday</th>\n",
              "      <th>Pickup - Time</th>\n",
              "      <th>Distance (KM)</th>\n",
              "      <th>Temperature</th>\n",
              "      <th>Precipitation in millimeters</th>\n",
              "      <th>Pickup Lat</th>\n",
              "      <th>Pickup Long</th>\n",
              "      <th>Destination Lat</th>\n",
              "      <th>Destination Long</th>\n",
              "      <th>No_Of_Orders</th>\n",
              "      <th>Age</th>\n",
              "      <th>Average_Rating</th>\n",
              "      <th>Waiting time</th>\n",
              "    </tr>\n",
              "  </thead>\n",
              "  <tbody>\n",
              "    <tr>\n",
              "      <th>0</th>\n",
              "      <td>3</td>\n",
              "      <td>Business</td>\n",
              "      <td>27</td>\n",
              "      <td>3</td>\n",
              "      <td>17</td>\n",
              "      <td>8.0</td>\n",
              "      <td>3.240225</td>\n",
              "      <td>0.0</td>\n",
              "      <td>-1.333275</td>\n",
              "      <td>36.870815</td>\n",
              "      <td>-1.305249</td>\n",
              "      <td>36.822390</td>\n",
              "      <td>439</td>\n",
              "      <td>1511</td>\n",
              "      <td>13.3</td>\n",
              "      <td>1357.0</td>\n",
              "    </tr>\n",
              "    <tr>\n",
              "      <th>1</th>\n",
              "      <td>3</td>\n",
              "      <td>Business</td>\n",
              "      <td>17</td>\n",
              "      <td>5</td>\n",
              "      <td>13</td>\n",
              "      <td>5.0</td>\n",
              "      <td>3.240225</td>\n",
              "      <td>0.0</td>\n",
              "      <td>-1.272639</td>\n",
              "      <td>36.794723</td>\n",
              "      <td>-1.277007</td>\n",
              "      <td>36.823907</td>\n",
              "      <td>488</td>\n",
              "      <td>273</td>\n",
              "      <td>14.4</td>\n",
              "      <td>1682.0</td>\n",
              "    </tr>\n",
              "    <tr>\n",
              "      <th>2</th>\n",
              "      <td>3</td>\n",
              "      <td>Business</td>\n",
              "      <td>27</td>\n",
              "      <td>4</td>\n",
              "      <td>11</td>\n",
              "      <td>5.0</td>\n",
              "      <td>22.800000</td>\n",
              "      <td>0.0</td>\n",
              "      <td>-1.290894</td>\n",
              "      <td>36.822971</td>\n",
              "      <td>-1.276574</td>\n",
              "      <td>36.851365</td>\n",
              "      <td>833</td>\n",
              "      <td>460</td>\n",
              "      <td>13.1</td>\n",
              "      <td>2980.0</td>\n",
              "    </tr>\n",
              "    <tr>\n",
              "      <th>3</th>\n",
              "      <td>3</td>\n",
              "      <td>Business</td>\n",
              "      <td>17</td>\n",
              "      <td>1</td>\n",
              "      <td>14</td>\n",
              "      <td>5.0</td>\n",
              "      <td>24.500000</td>\n",
              "      <td>0.0</td>\n",
              "      <td>-1.290503</td>\n",
              "      <td>36.809646</td>\n",
              "      <td>-1.303382</td>\n",
              "      <td>36.790658</td>\n",
              "      <td>487</td>\n",
              "      <td>560</td>\n",
              "      <td>13.7</td>\n",
              "      <td>1517.0</td>\n",
              "    </tr>\n",
              "    <tr>\n",
              "      <th>4</th>\n",
              "      <td>3</td>\n",
              "      <td>Business</td>\n",
              "      <td>11</td>\n",
              "      <td>2</td>\n",
              "      <td>11</td>\n",
              "      <td>6.0</td>\n",
              "      <td>24.400000</td>\n",
              "      <td>0.0</td>\n",
              "      <td>-1.281081</td>\n",
              "      <td>36.814423</td>\n",
              "      <td>-1.266467</td>\n",
              "      <td>36.792161</td>\n",
              "      <td>4761</td>\n",
              "      <td>1120</td>\n",
              "      <td>14.1</td>\n",
              "      <td>1536.0</td>\n",
              "    </tr>\n",
              "  </tbody>\n",
              "</table>\n",
              "</div>"
            ],
            "text/plain": [
              "   Platform Type Personal or Business  ...  Average_Rating  Waiting time\n",
              "0              3             Business  ...            13.3        1357.0\n",
              "1              3             Business  ...            14.4        1682.0\n",
              "2              3             Business  ...            13.1        2980.0\n",
              "3              3             Business  ...            13.7        1517.0\n",
              "4              3             Business  ...            14.1        1536.0\n",
              "\n",
              "[5 rows x 16 columns]"
            ]
          },
          "metadata": {
            "tags": []
          },
          "execution_count": 126
        }
      ]
    },
    {
      "cell_type": "code",
      "metadata": {
        "id": "n979XDtNk3d5",
        "colab_type": "code",
        "outputId": "e45271a7-d241-4aa2-a8e5-181e572ebba4",
        "colab": {
          "base_uri": "https://localhost:8080/",
          "height": 476
        }
      },
      "source": [
        "Train.info()"
      ],
      "execution_count": 127,
      "outputs": [
        {
          "output_type": "stream",
          "text": [
            "<class 'pandas.core.frame.DataFrame'>\n",
            "Int64Index: 21201 entries, 0 to 21200\n",
            "Data columns (total 20 columns):\n",
            " #   Column                                     Non-Null Count  Dtype  \n",
            "---  ------                                     --------------  -----  \n",
            " 0   Platform Type                              21201 non-null  int64  \n",
            " 1   Personal or Business                       21201 non-null  object \n",
            " 2   Day of Month                               21201 non-null  int64  \n",
            " 3   Weekday                                    21201 non-null  int64  \n",
            " 4   Pickup - Time                              21201 non-null  int64  \n",
            " 5   Arrival at Destination - Day of Month      21201 non-null  int64  \n",
            " 6   Arrival at Destination - Weekday (Mo = 1)  21201 non-null  int64  \n",
            " 7   Arrival at Destination - Time              21201 non-null  object \n",
            " 8   Distance (KM)                              21201 non-null  float64\n",
            " 9   Temperature                                21201 non-null  float64\n",
            " 10  Precipitation in millimeters               21201 non-null  float64\n",
            " 11  Pickup Lat                                 21201 non-null  float64\n",
            " 12  Pickup Long                                21201 non-null  float64\n",
            " 13  Destination Lat                            21201 non-null  float64\n",
            " 14  Destination Long                           21201 non-null  float64\n",
            " 15  Time from Pickup to Arrival                21201 non-null  int64  \n",
            " 16  No_Of_Orders                               21201 non-null  int64  \n",
            " 17  Age                                        21201 non-null  int64  \n",
            " 18  Average_Rating                             21201 non-null  float64\n",
            " 19  Waiting time                               21201 non-null  float64\n",
            "dtypes: float64(9), int64(9), object(2)\n",
            "memory usage: 3.4+ MB\n"
          ],
          "name": "stdout"
        }
      ]
    },
    {
      "cell_type": "code",
      "metadata": {
        "id": "d-s4ARSjh-Fd",
        "colab_type": "code",
        "outputId": "2e272898-bbed-472a-9c15-47a800295353",
        "colab": {
          "base_uri": "https://localhost:8080/",
          "height": 292
        }
      },
      "source": [
        "# encode personal/business\n",
        "x_drop = ['Arrival at Destination - Time', 'Arrival at Destination - Weekday (Mo = 1)', 'Arrival at Destination - Day of Month']\n",
        "Train.drop(x_drop, axis = 1, inplace = True)\n",
        "\n",
        "# create dummy variables for the train and test data\n",
        "Train = pd.get_dummies(Train, drop_first=True)\n",
        "Test = pd.get_dummies(Test, drop_first=True)\n",
        "\n",
        "Train.head()"
      ],
      "execution_count": 128,
      "outputs": [
        {
          "output_type": "execute_result",
          "data": {
            "text/html": [
              "<div>\n",
              "<style scoped>\n",
              "    .dataframe tbody tr th:only-of-type {\n",
              "        vertical-align: middle;\n",
              "    }\n",
              "\n",
              "    .dataframe tbody tr th {\n",
              "        vertical-align: top;\n",
              "    }\n",
              "\n",
              "    .dataframe thead th {\n",
              "        text-align: right;\n",
              "    }\n",
              "</style>\n",
              "<table border=\"1\" class=\"dataframe\">\n",
              "  <thead>\n",
              "    <tr style=\"text-align: right;\">\n",
              "      <th></th>\n",
              "      <th>Platform Type</th>\n",
              "      <th>Day of Month</th>\n",
              "      <th>Weekday</th>\n",
              "      <th>Pickup - Time</th>\n",
              "      <th>Distance (KM)</th>\n",
              "      <th>Temperature</th>\n",
              "      <th>Precipitation in millimeters</th>\n",
              "      <th>Pickup Lat</th>\n",
              "      <th>Pickup Long</th>\n",
              "      <th>Destination Lat</th>\n",
              "      <th>Destination Long</th>\n",
              "      <th>Time from Pickup to Arrival</th>\n",
              "      <th>No_Of_Orders</th>\n",
              "      <th>Age</th>\n",
              "      <th>Average_Rating</th>\n",
              "      <th>Waiting time</th>\n",
              "      <th>Personal or Business_Personal</th>\n",
              "    </tr>\n",
              "  </thead>\n",
              "  <tbody>\n",
              "    <tr>\n",
              "      <th>0</th>\n",
              "      <td>3</td>\n",
              "      <td>9</td>\n",
              "      <td>5</td>\n",
              "      <td>10</td>\n",
              "      <td>4.0</td>\n",
              "      <td>20.400000</td>\n",
              "      <td>0.0</td>\n",
              "      <td>-1.317755</td>\n",
              "      <td>36.830370</td>\n",
              "      <td>-1.300406</td>\n",
              "      <td>36.829741</td>\n",
              "      <td>745</td>\n",
              "      <td>1637</td>\n",
              "      <td>1309</td>\n",
              "      <td>13.8</td>\n",
              "      <td>3104.0</td>\n",
              "      <td>0</td>\n",
              "    </tr>\n",
              "    <tr>\n",
              "      <th>1</th>\n",
              "      <td>3</td>\n",
              "      <td>12</td>\n",
              "      <td>5</td>\n",
              "      <td>11</td>\n",
              "      <td>16.0</td>\n",
              "      <td>26.400000</td>\n",
              "      <td>0.0</td>\n",
              "      <td>-1.351453</td>\n",
              "      <td>36.899315</td>\n",
              "      <td>-1.295004</td>\n",
              "      <td>36.814358</td>\n",
              "      <td>1993</td>\n",
              "      <td>396</td>\n",
              "      <td>339</td>\n",
              "      <td>13.6</td>\n",
              "      <td>1673.0</td>\n",
              "      <td>1</td>\n",
              "    </tr>\n",
              "    <tr>\n",
              "      <th>2</th>\n",
              "      <td>3</td>\n",
              "      <td>30</td>\n",
              "      <td>2</td>\n",
              "      <td>12</td>\n",
              "      <td>3.0</td>\n",
              "      <td>23.258889</td>\n",
              "      <td>0.0</td>\n",
              "      <td>-1.308284</td>\n",
              "      <td>36.843419</td>\n",
              "      <td>-1.300921</td>\n",
              "      <td>36.828195</td>\n",
              "      <td>455</td>\n",
              "      <td>1023</td>\n",
              "      <td>242</td>\n",
              "      <td>12.5</td>\n",
              "      <td>818.0</td>\n",
              "      <td>0</td>\n",
              "    </tr>\n",
              "    <tr>\n",
              "      <th>3</th>\n",
              "      <td>3</td>\n",
              "      <td>15</td>\n",
              "      <td>5</td>\n",
              "      <td>9</td>\n",
              "      <td>9.0</td>\n",
              "      <td>19.200000</td>\n",
              "      <td>0.0</td>\n",
              "      <td>-1.281301</td>\n",
              "      <td>36.832396</td>\n",
              "      <td>-1.257147</td>\n",
              "      <td>36.795063</td>\n",
              "      <td>1341</td>\n",
              "      <td>886</td>\n",
              "      <td>283</td>\n",
              "      <td>14.5</td>\n",
              "      <td>1052.0</td>\n",
              "      <td>0</td>\n",
              "    </tr>\n",
              "    <tr>\n",
              "      <th>4</th>\n",
              "      <td>1</td>\n",
              "      <td>13</td>\n",
              "      <td>1</td>\n",
              "      <td>10</td>\n",
              "      <td>9.0</td>\n",
              "      <td>15.400000</td>\n",
              "      <td>0.0</td>\n",
              "      <td>-1.266597</td>\n",
              "      <td>36.792118</td>\n",
              "      <td>-1.295041</td>\n",
              "      <td>36.809817</td>\n",
              "      <td>1214</td>\n",
              "      <td>2311</td>\n",
              "      <td>872</td>\n",
              "      <td>14.1</td>\n",
              "      <td>605.0</td>\n",
              "      <td>1</td>\n",
              "    </tr>\n",
              "  </tbody>\n",
              "</table>\n",
              "</div>"
            ],
            "text/plain": [
              "   Platform Type  Day of Month  ...  Waiting time  Personal or Business_Personal\n",
              "0              3             9  ...        3104.0                              0\n",
              "1              3            12  ...        1673.0                              1\n",
              "2              3            30  ...         818.0                              0\n",
              "3              3            15  ...        1052.0                              0\n",
              "4              1            13  ...         605.0                              1\n",
              "\n",
              "[5 rows x 17 columns]"
            ]
          },
          "metadata": {
            "tags": []
          },
          "execution_count": 128
        }
      ]
    },
    {
      "cell_type": "code",
      "metadata": {
        "id": "lrh1a9cwjekK",
        "colab_type": "code",
        "colab": {}
      },
      "source": [
        "Train.drop(['Personal or Business_Personal', 'Platform Type', 'Precipitation in millimeters', 'Day of Month'], axis = 1, inplace = True)\n",
        "Test.drop(['Personal or Business_Personal', 'Platform Type', 'Precipitation in millimeters', 'Day of Month'], axis = 1, inplace = True)"
      ],
      "execution_count": 0,
      "outputs": []
    },
    {
      "cell_type": "code",
      "metadata": {
        "id": "V-UW1aUTzOVf",
        "colab_type": "code",
        "colab": {}
      },
      "source": [
        "# Scaling data\n",
        "from sklearn.preprocessing import StandardScaler\n",
        "Train_s = Train.copy()\n",
        "Test_s = Test.copy()\n",
        "col_names = ['Distance (KM)', 'Temperature', 'Pickup Lat', 'Pickup Long', 'Destination Lat', 'Destination Long', 'No_Of_Orders', 'Age', 'Average_Rating', 'Waiting time']\n",
        "\n",
        "# Train data\n",
        "train_features = Train_s[col_names]\n",
        "train_scaler = StandardScaler().fit(train_features.values)\n",
        "train_features = train_scaler.transform(train_features.values)\n",
        "Train_s[col_names] = train_features\n",
        "\n",
        "#Test data\n",
        "test_features = Test_s[col_names]\n",
        "test_features = train_scaler.transform(test_features.values)\n",
        "Test_s[col_names] = test_features\n"
      ],
      "execution_count": 0,
      "outputs": []
    },
    {
      "cell_type": "code",
      "metadata": {
        "id": "mqIEMO4lBSmN",
        "colab_type": "code",
        "colab": {}
      },
      "source": [
        "# split train data into predictors and response variables \n",
        "\n",
        "X = Train_s.copy()\n",
        "x_drops = ['Time from Pickup to Arrival']\n",
        "X.drop(x_drops, inplace = True, axis = 1)\n",
        "\n",
        "y = Train['Time from Pickup to Arrival']"
      ],
      "execution_count": 0,
      "outputs": []
    },
    {
      "cell_type": "code",
      "metadata": {
        "id": "UGbn6NBIh8Ci",
        "colab_type": "code",
        "outputId": "2ae1b7cd-cf5c-4b45-e35b-0b4d3da08da7",
        "colab": {
          "base_uri": "https://localhost:8080/",
          "height": 241
        }
      },
      "source": [
        "X.head()\n"
      ],
      "execution_count": 132,
      "outputs": [
        {
          "output_type": "execute_result",
          "data": {
            "text/html": [
              "<div>\n",
              "<style scoped>\n",
              "    .dataframe tbody tr th:only-of-type {\n",
              "        vertical-align: middle;\n",
              "    }\n",
              "\n",
              "    .dataframe tbody tr th {\n",
              "        vertical-align: top;\n",
              "    }\n",
              "\n",
              "    .dataframe thead th {\n",
              "        text-align: right;\n",
              "    }\n",
              "</style>\n",
              "<table border=\"1\" class=\"dataframe\">\n",
              "  <thead>\n",
              "    <tr style=\"text-align: right;\">\n",
              "      <th></th>\n",
              "      <th>Weekday</th>\n",
              "      <th>Pickup - Time</th>\n",
              "      <th>Distance (KM)</th>\n",
              "      <th>Temperature</th>\n",
              "      <th>Pickup Lat</th>\n",
              "      <th>Pickup Long</th>\n",
              "      <th>Destination Lat</th>\n",
              "      <th>Destination Long</th>\n",
              "      <th>No_Of_Orders</th>\n",
              "      <th>Age</th>\n",
              "      <th>Average_Rating</th>\n",
              "      <th>Waiting time</th>\n",
              "    </tr>\n",
              "  </thead>\n",
              "  <tbody>\n",
              "    <tr>\n",
              "      <th>0</th>\n",
              "      <td>5</td>\n",
              "      <td>10</td>\n",
              "      <td>-0.971370</td>\n",
              "      <td>-8.873220e-01</td>\n",
              "      <td>-1.189424</td>\n",
              "      <td>0.509897</td>\n",
              "      <td>-0.511888</td>\n",
              "      <td>0.414159</td>\n",
              "      <td>-0.035206</td>\n",
              "      <td>0.501451</td>\n",
              "      <td>-0.090082</td>\n",
              "      <td>0.792547</td>\n",
              "    </tr>\n",
              "    <tr>\n",
              "      <th>1</th>\n",
              "      <td>5</td>\n",
              "      <td>11</td>\n",
              "      <td>1.145469</td>\n",
              "      <td>9.749159e-01</td>\n",
              "      <td>-2.294056</td>\n",
              "      <td>2.349813</td>\n",
              "      <td>-0.356757</td>\n",
              "      <td>0.070177</td>\n",
              "      <td>-0.823507</td>\n",
              "      <td>-0.998616</td>\n",
              "      <td>-0.308411</td>\n",
              "      <td>-0.193605</td>\n",
              "    </tr>\n",
              "    <tr>\n",
              "      <th>2</th>\n",
              "      <td>2</td>\n",
              "      <td>12</td>\n",
              "      <td>-1.147774</td>\n",
              "      <td>1.102666e-15</td>\n",
              "      <td>-0.878981</td>\n",
              "      <td>0.858136</td>\n",
              "      <td>-0.526672</td>\n",
              "      <td>0.379588</td>\n",
              "      <td>-0.425228</td>\n",
              "      <td>-1.148623</td>\n",
              "      <td>-1.509220</td>\n",
              "      <td>-0.782815</td>\n",
              "    </tr>\n",
              "    <tr>\n",
              "      <th>3</th>\n",
              "      <td>5</td>\n",
              "      <td>9</td>\n",
              "      <td>-0.089354</td>\n",
              "      <td>-1.259770e+00</td>\n",
              "      <td>0.005523</td>\n",
              "      <td>0.563962</td>\n",
              "      <td>0.730374</td>\n",
              "      <td>-0.361289</td>\n",
              "      <td>-0.512252</td>\n",
              "      <td>-1.085218</td>\n",
              "      <td>0.674069</td>\n",
              "      <td>-0.621558</td>\n",
              "    </tr>\n",
              "    <tr>\n",
              "      <th>4</th>\n",
              "      <td>1</td>\n",
              "      <td>10</td>\n",
              "      <td>-0.089354</td>\n",
              "      <td>-2.439187e+00</td>\n",
              "      <td>0.487515</td>\n",
              "      <td>-0.510932</td>\n",
              "      <td>-0.357811</td>\n",
              "      <td>-0.031369</td>\n",
              "      <td>0.392929</td>\n",
              "      <td>-0.174352</td>\n",
              "      <td>0.237411</td>\n",
              "      <td>-0.929601</td>\n",
              "    </tr>\n",
              "  </tbody>\n",
              "</table>\n",
              "</div>"
            ],
            "text/plain": [
              "   Weekday  Pickup - Time  ...  Average_Rating  Waiting time\n",
              "0        5             10  ...       -0.090082      0.792547\n",
              "1        5             11  ...       -0.308411     -0.193605\n",
              "2        2             12  ...       -1.509220     -0.782815\n",
              "3        5              9  ...        0.674069     -0.621558\n",
              "4        1             10  ...        0.237411     -0.929601\n",
              "\n",
              "[5 rows x 12 columns]"
            ]
          },
          "metadata": {
            "tags": []
          },
          "execution_count": 132
        }
      ]
    },
    {
      "cell_type": "code",
      "metadata": {
        "id": "-kZ2MSwmXd7Z",
        "colab_type": "code",
        "colab": {}
      },
      "source": [
        "# splitting the data in a test and train set\n",
        "from sklearn.model_selection import train_test_split\n",
        "X_train, X_test, y_train, y_test = train_test_split(X, y, test_size = 0.2)\n"
      ],
      "execution_count": 0,
      "outputs": []
    },
    {
      "cell_type": "code",
      "metadata": {
        "id": "wSPm1lPjoyEq",
        "colab_type": "code",
        "outputId": "2bd2917b-f290-4fab-96bf-4bf5476abbe9",
        "colab": {
          "base_uri": "https://localhost:8080/",
          "height": 68
        }
      },
      "source": [
        "# Building a linear regression model \n",
        "from sklearn.linear_model import LinearRegression\n",
        "lm = LinearRegression()\n",
        "lm.fit(X_train,y_train)\n",
        "\n",
        "# Building a decision tree regression model \n",
        "from sklearn.tree import DecisionTreeRegressor\n",
        "tree = DecisionTreeRegressor()\n",
        "tree.fit(X_train, y_train)\n",
        "\n",
        "# Building a random forest regression model \n",
        "from sklearn.ensemble import RandomForestRegressor\n",
        "forest = RandomForestRegressor(n_estimators = 200)\n",
        "forest.fit(X_train, y_train)\n",
        "\n",
        "# Building Laaso Regularisation regression model \n",
        "from sklearn.linear_model import Lasso\n",
        "lasso = Lasso(alpha = 0.1)\n",
        "lasso.fit(X_train, y_train)"
      ],
      "execution_count": 134,
      "outputs": [
        {
          "output_type": "execute_result",
          "data": {
            "text/plain": [
              "Lasso(alpha=0.1, copy_X=True, fit_intercept=True, max_iter=1000,\n",
              "      normalize=False, positive=False, precompute=False, random_state=None,\n",
              "      selection='cyclic', tol=0.0001, warm_start=False)"
            ]
          },
          "metadata": {
            "tags": []
          },
          "execution_count": 134
        }
      ]
    },
    {
      "cell_type": "code",
      "metadata": {
        "id": "XnC8TvmwmJX6",
        "colab_type": "code",
        "outputId": "0ca30786-818d-420f-c56b-de1b3214f5ce",
        "colab": {
          "base_uri": "https://localhost:8080/",
          "height": 173
        }
      },
      "source": [
        "from sklearn.metrics import mean_squared_error\n",
        "\n",
        "# Multiple linear regression\n",
        "y_pred_test = lm.predict(X_test)\n",
        "y_pred_train = lm.predict(X_train)\n",
        "rmse_test = round(np.sqrt(mean_squared_error(y_test, y_pred_test)),2)\n",
        "rmse_train = round(np.sqrt(mean_squared_error(y_train, y_pred_train)),2)\n",
        "\n",
        "# Decision Tree regression\n",
        "y_pred_test_tree = tree.predict(X_test)\n",
        "y_pred_train_tree = tree.predict(X_train)\n",
        "rmse_test_tree = round(np.sqrt(mean_squared_error(y_test, y_pred_test_tree)),2)\n",
        "rmse_train_tree = round(np.sqrt(mean_squared_error(y_train, y_pred_train_tree)),2)\n",
        "\n",
        "# Random forrest regression \n",
        "y_pred_test_forest = forest.predict(X_test)\n",
        "y_pred_train_forest = forest.predict(X_train)\n",
        "rmse_test_forest = round(np.sqrt(mean_squared_error(y_test, y_pred_test_forest)),2)\n",
        "rmse_train_forest = round(np.sqrt(mean_squared_error(y_train, y_pred_train_forest)),2)\n",
        "\n",
        "# Lasso regression\n",
        "y_pred_lasso_test = lasso.predict(X_test)\n",
        "y_pred_lasso_train = lasso.predict(X_train)\n",
        "rmse_test_lasso =  round(np.sqrt(mean_squared_error(y_test, y_pred_lasso_test)),2)\n",
        "rmse_train_lasso =  round(np.sqrt(mean_squared_error(y_train, y_pred_lasso_train)),2)\n",
        "\n",
        "data = {'Regression model':  ['Mulitiple linear', 'Decision Tree', 'Random Forest', 'Lasso'],\n",
        "        'RMSE Training': [rmse_train, rmse_train_tree, rmse_train_forest, rmse_train_lasso],\n",
        "        'RMSE Testing' : [rmse_test, rmse_test_tree, rmse_test_forest, rmse_test_lasso]\n",
        "        }\n",
        "\n",
        "df = pd.DataFrame (data, columns = ['Regression model', 'RMSE Training', 'RMSE Testing'])\n",
        "df.head()\n"
      ],
      "execution_count": 135,
      "outputs": [
        {
          "output_type": "execute_result",
          "data": {
            "text/html": [
              "<div>\n",
              "<style scoped>\n",
              "    .dataframe tbody tr th:only-of-type {\n",
              "        vertical-align: middle;\n",
              "    }\n",
              "\n",
              "    .dataframe tbody tr th {\n",
              "        vertical-align: top;\n",
              "    }\n",
              "\n",
              "    .dataframe thead th {\n",
              "        text-align: right;\n",
              "    }\n",
              "</style>\n",
              "<table border=\"1\" class=\"dataframe\">\n",
              "  <thead>\n",
              "    <tr style=\"text-align: right;\">\n",
              "      <th></th>\n",
              "      <th>Regression model</th>\n",
              "      <th>RMSE Training</th>\n",
              "      <th>RMSE Testing</th>\n",
              "    </tr>\n",
              "  </thead>\n",
              "  <tbody>\n",
              "    <tr>\n",
              "      <th>0</th>\n",
              "      <td>Mulitiple linear</td>\n",
              "      <td>797.58</td>\n",
              "      <td>800.84</td>\n",
              "    </tr>\n",
              "    <tr>\n",
              "      <th>1</th>\n",
              "      <td>Decision Tree</td>\n",
              "      <td>0.00</td>\n",
              "      <td>1092.83</td>\n",
              "    </tr>\n",
              "    <tr>\n",
              "      <th>2</th>\n",
              "      <td>Random Forest</td>\n",
              "      <td>285.26</td>\n",
              "      <td>768.69</td>\n",
              "    </tr>\n",
              "    <tr>\n",
              "      <th>3</th>\n",
              "      <td>Lasso</td>\n",
              "      <td>797.58</td>\n",
              "      <td>800.85</td>\n",
              "    </tr>\n",
              "  </tbody>\n",
              "</table>\n",
              "</div>"
            ],
            "text/plain": [
              "   Regression model  RMSE Training  RMSE Testing\n",
              "0  Mulitiple linear         797.58        800.84\n",
              "1     Decision Tree           0.00       1092.83\n",
              "2     Random Forest         285.26        768.69\n",
              "3             Lasso         797.58        800.85"
            ]
          },
          "metadata": {
            "tags": []
          },
          "execution_count": 135
        }
      ]
    },
    {
      "cell_type": "code",
      "metadata": {
        "id": "Lme4TIwg6IE_",
        "colab_type": "code",
        "outputId": "bc014c2a-c4b9-4e08-c532-e1c5baaf4118",
        "colab": {
          "base_uri": "https://localhost:8080/",
          "height": 238
        }
      },
      "source": [
        "# lests see the coefficients for the lasso regression\n",
        "coef = pd.DataFrame(lasso.coef_,X.columns, columns = ['coef'])\n",
        "print(coef)"
      ],
      "execution_count": 137,
      "outputs": [
        {
          "output_type": "stream",
          "text": [
            "                        coef\n",
            "Weekday             4.005102\n",
            "Pickup - Time       9.466096\n",
            "Distance (KM)     582.782913\n",
            "Temperature         0.114003\n",
            "Pickup Lat         14.830597\n",
            "Pickup Long       -39.970480\n",
            "Destination Lat   -13.661193\n",
            "Destination Long   -7.407806\n",
            "No_Of_Orders      -65.509160\n",
            "Age                14.314539\n",
            "Average_Rating    -30.435230\n",
            "Waiting time       23.438887\n"
          ],
          "name": "stdout"
        }
      ]
    },
    {
      "cell_type": "code",
      "metadata": {
        "id": "SN1JPub5meMo",
        "colab_type": "code",
        "outputId": "b999ac5a-4716-4ee7-de30-77deace9b1e5",
        "colab": {
          "base_uri": "https://localhost:8080/",
          "height": 255
        }
      },
      "source": [
        "# submission\n",
        "\n",
        "# Multiple linear regression\n",
        "y_pred_lin = lm.predict(Test_s)\n",
        "\n",
        "# Decision Tree regression\n",
        "y_pred_tree = tree.predict(Test_s)\n",
        "\n",
        "# Random forrest regression \n",
        "y_pred_forest = forest.predict(Test_s)\n",
        "\n",
        "\n",
        "# Submission\n",
        "sb_dataframe = Tests.iloc[:,:3]\n",
        "sb_dataframe['Time from pick up to arrival 1'] = lasso.predict(Test_s)\n",
        "sb_dataframe.drop('User Id', inplace = True, axis = 1)\n",
        "sb_dataframe.drop('Vehicle Type', inplace = True, axis = 1)\n",
        "\n",
        "print(sb_dataframe)\n",
        "sb_dataframe.to_csv('submission_lasso.csv', index = False)"
      ],
      "execution_count": 138,
      "outputs": [
        {
          "output_type": "stream",
          "text": [
            "            Order No  Time from pick up to arrival 1\n",
            "0     Order_No_19248                     1433.401488\n",
            "1     Order_No_12736                     1133.704003\n",
            "2       Order_No_768                     1121.675315\n",
            "3     Order_No_15332                     1146.140638\n",
            "4     Order_No_21373                     1030.865713\n",
            "...              ...                             ...\n",
            "7063   Order_No_3612                     1103.185634\n",
            "7064   Order_No_7657                     2722.249291\n",
            "7065   Order_No_1969                     1670.741439\n",
            "7066  Order_No_10591                     2647.337311\n",
            "7067   Order_No_1603                     1487.656665\n",
            "\n",
            "[7068 rows x 2 columns]\n"
          ],
          "name": "stdout"
        }
      ]
    },
    {
      "cell_type": "code",
      "metadata": {
        "id": "08m2EzdPod4b",
        "colab_type": "code",
        "colab": {}
      },
      "source": [
        ""
      ],
      "execution_count": 0,
      "outputs": []
    }
  ]
}
