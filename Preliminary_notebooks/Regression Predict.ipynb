{
 "cells": [
  {
   "cell_type": "markdown",
   "metadata": {
    "colab_type": "text",
    "id": "CazISR8X_HUG"
   },
   "source": [
    "# Multiple Linear Regression"
   ]
  },
  {
   "cell_type": "markdown",
   "metadata": {
    "colab_type": "text",
    "id": "pOyqYHTk_Q57"
   },
   "source": [
    "## Importing the libraries"
   ]
  },
  {
   "cell_type": "code",
   "execution_count": 231,
   "metadata": {
    "colab": {},
    "colab_type": "code",
    "id": "T_YHJjnD_Tja"
   },
   "outputs": [],
   "source": [
    "import numpy as np\n",
    "import matplotlib.pyplot as plt\n",
    "import pandas as pd\n",
    "import scipy.stats as stats"
   ]
  },
  {
   "cell_type": "markdown",
   "metadata": {
    "colab_type": "text",
    "id": "vgC61-ah_WIz"
   },
   "source": [
    "## Importing the dataset"
   ]
  },
  {
   "cell_type": "code",
   "execution_count": 232,
   "metadata": {
    "colab": {},
    "colab_type": "code",
    "id": "UrxyEKGn_ez7"
   },
   "outputs": [],
   "source": [
    "Train = pd.read_csv('Train.csv')\n",
    "Riders = pd.read_csv('Riders.csv')\n",
    "Test = pd.read_csv('Test.csv')"
   ]
  },
  {
   "cell_type": "code",
   "execution_count": 233,
   "metadata": {},
   "outputs": [],
   "source": [
    "#Merging the Train set and Riders information\n",
    "total = Train.merge(Riders, how='left', on='Rider Id')"
   ]
  },
  {
   "cell_type": "code",
   "execution_count": 234,
   "metadata": {},
   "outputs": [],
   "source": [
    "#Creating New Column(I want Dependant variable to be last column of the dataframe)\n",
    "total['Time from Pickup to Arrival New']= total['Time from Pickup to Arrival']\n",
    "\n",
    "#Dropping the Old-duplicate Y column\n",
    "total = total.drop(['Time from Pickup to Arrival'], axis=1)\n",
    "\n",
    "#Renaming the column back to Time from Pickup to Arrival\n",
    "total.rename(columns={'Time from Pickup to Arrival New':'Time from Pickup to Arrival'}, inplace=True)"
   ]
  },
  {
   "cell_type": "code",
   "execution_count": 235,
   "metadata": {},
   "outputs": [],
   "source": [
    "#Dropping other unneeded columns [Vehihle Type(Only Bikes), User Id(Object)]\n",
    "total = total.drop(['Vehicle Type'], axis=1)\n",
    "total = total.drop(['User Id'], axis=1)"
   ]
  },
  {
   "cell_type": "code",
   "execution_count": 236,
   "metadata": {},
   "outputs": [
    {
     "data": {
      "text/html": [
       "<div>\n",
       "<style scoped>\n",
       "    .dataframe tbody tr th:only-of-type {\n",
       "        vertical-align: middle;\n",
       "    }\n",
       "\n",
       "    .dataframe tbody tr th {\n",
       "        vertical-align: top;\n",
       "    }\n",
       "\n",
       "    .dataframe thead th {\n",
       "        text-align: right;\n",
       "    }\n",
       "</style>\n",
       "<table border=\"1\" class=\"dataframe\">\n",
       "  <thead>\n",
       "    <tr style=\"text-align: right;\">\n",
       "      <th></th>\n",
       "      <th>Order No</th>\n",
       "      <th>Platform Type</th>\n",
       "      <th>Personal or Business</th>\n",
       "      <th>Placement - Day of Month</th>\n",
       "      <th>Placement - Weekday (Mo = 1)</th>\n",
       "      <th>Placement - Time</th>\n",
       "      <th>Confirmation - Day of Month</th>\n",
       "      <th>Confirmation - Weekday (Mo = 1)</th>\n",
       "      <th>Confirmation - Time</th>\n",
       "      <th>Arrival at Pickup - Day of Month</th>\n",
       "      <th>...</th>\n",
       "      <th>Pickup Lat</th>\n",
       "      <th>Pickup Long</th>\n",
       "      <th>Destination Lat</th>\n",
       "      <th>Destination Long</th>\n",
       "      <th>Rider Id</th>\n",
       "      <th>No_Of_Orders</th>\n",
       "      <th>Age</th>\n",
       "      <th>Average_Rating</th>\n",
       "      <th>No_of_Ratings</th>\n",
       "      <th>Time from Pickup to Arrival</th>\n",
       "    </tr>\n",
       "  </thead>\n",
       "  <tbody>\n",
       "    <tr>\n",
       "      <th>0</th>\n",
       "      <td>Order_No_4211</td>\n",
       "      <td>3</td>\n",
       "      <td>Business</td>\n",
       "      <td>9</td>\n",
       "      <td>5</td>\n",
       "      <td>9:35:46 AM</td>\n",
       "      <td>9</td>\n",
       "      <td>5</td>\n",
       "      <td>9:40:10 AM</td>\n",
       "      <td>9</td>\n",
       "      <td>...</td>\n",
       "      <td>-1.317755</td>\n",
       "      <td>36.830370</td>\n",
       "      <td>-1.300406</td>\n",
       "      <td>36.829741</td>\n",
       "      <td>Rider_Id_432</td>\n",
       "      <td>1637</td>\n",
       "      <td>1309</td>\n",
       "      <td>13.8</td>\n",
       "      <td>549</td>\n",
       "      <td>745</td>\n",
       "    </tr>\n",
       "    <tr>\n",
       "      <th>1</th>\n",
       "      <td>Order_No_25375</td>\n",
       "      <td>3</td>\n",
       "      <td>Personal</td>\n",
       "      <td>12</td>\n",
       "      <td>5</td>\n",
       "      <td>11:16:16 AM</td>\n",
       "      <td>12</td>\n",
       "      <td>5</td>\n",
       "      <td>11:23:21 AM</td>\n",
       "      <td>12</td>\n",
       "      <td>...</td>\n",
       "      <td>-1.351453</td>\n",
       "      <td>36.899315</td>\n",
       "      <td>-1.295004</td>\n",
       "      <td>36.814358</td>\n",
       "      <td>Rider_Id_856</td>\n",
       "      <td>396</td>\n",
       "      <td>339</td>\n",
       "      <td>13.6</td>\n",
       "      <td>69</td>\n",
       "      <td>1993</td>\n",
       "    </tr>\n",
       "  </tbody>\n",
       "</table>\n",
       "<p>2 rows × 31 columns</p>\n",
       "</div>"
      ],
      "text/plain": [
       "         Order No  Platform Type Personal or Business  \\\n",
       "0   Order_No_4211              3             Business   \n",
       "1  Order_No_25375              3             Personal   \n",
       "\n",
       "   Placement - Day of Month  Placement - Weekday (Mo = 1) Placement - Time  \\\n",
       "0                         9                             5       9:35:46 AM   \n",
       "1                        12                             5      11:16:16 AM   \n",
       "\n",
       "   Confirmation - Day of Month  Confirmation - Weekday (Mo = 1)  \\\n",
       "0                            9                                5   \n",
       "1                           12                                5   \n",
       "\n",
       "  Confirmation - Time  Arrival at Pickup - Day of Month  ...  Pickup Lat  \\\n",
       "0          9:40:10 AM                                 9  ...   -1.317755   \n",
       "1         11:23:21 AM                                12  ...   -1.351453   \n",
       "\n",
       "  Pickup Long  Destination Lat  Destination Long      Rider Id  No_Of_Orders  \\\n",
       "0   36.830370        -1.300406         36.829741  Rider_Id_432          1637   \n",
       "1   36.899315        -1.295004         36.814358  Rider_Id_856           396   \n",
       "\n",
       "    Age Average_Rating  No_of_Ratings  Time from Pickup to Arrival  \n",
       "0  1309           13.8            549                          745  \n",
       "1   339           13.6             69                         1993  \n",
       "\n",
       "[2 rows x 31 columns]"
      ]
     },
     "execution_count": 236,
     "metadata": {},
     "output_type": "execute_result"
    }
   ],
   "source": [
    "total.head(2)"
   ]
  },
  {
   "cell_type": "code",
   "execution_count": 237,
   "metadata": {},
   "outputs": [
    {
     "name": "stdout",
     "output_type": "stream",
     "text": [
      "<class 'pandas.core.frame.DataFrame'>\n",
      "Int64Index: 21201 entries, 0 to 21200\n",
      "Data columns (total 31 columns):\n",
      " #   Column                                     Non-Null Count  Dtype  \n",
      "---  ------                                     --------------  -----  \n",
      " 0   Order No                                   21201 non-null  object \n",
      " 1   Platform Type                              21201 non-null  int64  \n",
      " 2   Personal or Business                       21201 non-null  object \n",
      " 3   Placement - Day of Month                   21201 non-null  int64  \n",
      " 4   Placement - Weekday (Mo = 1)               21201 non-null  int64  \n",
      " 5   Placement - Time                           21201 non-null  object \n",
      " 6   Confirmation - Day of Month                21201 non-null  int64  \n",
      " 7   Confirmation - Weekday (Mo = 1)            21201 non-null  int64  \n",
      " 8   Confirmation - Time                        21201 non-null  object \n",
      " 9   Arrival at Pickup - Day of Month           21201 non-null  int64  \n",
      " 10  Arrival at Pickup - Weekday (Mo = 1)       21201 non-null  int64  \n",
      " 11  Arrival at Pickup - Time                   21201 non-null  object \n",
      " 12  Pickup - Day of Month                      21201 non-null  int64  \n",
      " 13  Pickup - Weekday (Mo = 1)                  21201 non-null  int64  \n",
      " 14  Pickup - Time                              21201 non-null  object \n",
      " 15  Arrival at Destination - Day of Month      21201 non-null  int64  \n",
      " 16  Arrival at Destination - Weekday (Mo = 1)  21201 non-null  int64  \n",
      " 17  Arrival at Destination - Time              21201 non-null  object \n",
      " 18  Distance (KM)                              21201 non-null  int64  \n",
      " 19  Temperature                                16835 non-null  float64\n",
      " 20  Precipitation in millimeters               552 non-null    float64\n",
      " 21  Pickup Lat                                 21201 non-null  float64\n",
      " 22  Pickup Long                                21201 non-null  float64\n",
      " 23  Destination Lat                            21201 non-null  float64\n",
      " 24  Destination Long                           21201 non-null  float64\n",
      " 25  Rider Id                                   21201 non-null  object \n",
      " 26  No_Of_Orders                               21201 non-null  int64  \n",
      " 27  Age                                        21201 non-null  int64  \n",
      " 28  Average_Rating                             21201 non-null  float64\n",
      " 29  No_of_Ratings                              21201 non-null  int64  \n",
      " 30  Time from Pickup to Arrival                21201 non-null  int64  \n",
      "dtypes: float64(7), int64(16), object(8)\n",
      "memory usage: 5.2+ MB\n"
     ]
    }
   ],
   "source": [
    "total.info()"
   ]
  },
  {
   "cell_type": "code",
   "execution_count": 238,
   "metadata": {},
   "outputs": [],
   "source": [
    "X = total.iloc[:, :-1].values\n",
    "y = total.iloc[:, -1].values"
   ]
  },
  {
   "cell_type": "markdown",
   "metadata": {},
   "source": [
    "# Taking care of missing data"
   ]
  },
  {
   "cell_type": "code",
   "execution_count": 240,
   "metadata": {},
   "outputs": [],
   "source": [
    "#Distance and Temperature -Replace null values with mean of the column\n",
    "from sklearn.impute import SimpleImputer\n",
    "imp_temp = SimpleImputer(missing_values = np.nan, strategy='mean')\n",
    "imp_temp.fit(total.iloc[:, 18:20]) \n",
    "total.iloc[:, 18:20] = imp_temp.transform(total.iloc[:, 18:20])"
   ]
  },
  {
   "cell_type": "code",
   "execution_count": 241,
   "metadata": {},
   "outputs": [],
   "source": [
    "#Precipitation(ml) - Replace null values with Zero(0 ml railfall)\n",
    "from sklearn.impute import SimpleImputer\n",
    "imp_prec = SimpleImputer(missing_values=np.nan, strategy='constant', fill_value = 0)\n",
    "imp_prec.fit(total.iloc[:,20:]) \n",
    "total.iloc[:,20:] = imp_prec.transform(total.iloc[:,20:])"
   ]
  },
  {
   "cell_type": "markdown",
   "metadata": {},
   "source": [
    "# Changing datatype\n"
   ]
  },
  {
   "cell_type": "code",
   "execution_count": 242,
   "metadata": {},
   "outputs": [],
   "source": [
    "#Changing times columns into datetime datatype\n",
    "total['Placement - Time'] = pd.to_datetime(total['Placement - Time'])\n",
    "total['Confirmation - Time'] = pd.to_datetime(total['Confirmation - Time'])\n",
    "total['Arrival at Pickup - Time'] = pd.to_datetime(total['Arrival at Pickup - Time'])\n",
    "total['Pickup - Time'] = pd.to_datetime(total['Pickup - Time'])\n",
    "total['Arrival at Destination - Time'] = pd.to_datetime(total['Arrival at Destination - Time'])"
   ]
  },
  {
   "cell_type": "markdown",
   "metadata": {
    "colab_type": "text",
    "id": "VadrvE7s_lS9"
   },
   "source": [
    "## Encoding categorical data"
   ]
  },
  {
   "cell_type": "code",
   "execution_count": 243,
   "metadata": {},
   "outputs": [],
   "source": [
    "#1 Hot Encode the Personal or Business column - Business=1 and Personal=0\n",
    "from sklearn.compose import ColumnTransformer\n",
    "from sklearn.preprocessing import OneHotEncoder\n",
    "ct = ColumnTransformer(transformers=[('encoder', OneHotEncoder(), [2])], remainder='passthrough')\n",
    "X = np.array(ct.fit_transform(X))"
   ]
  },
  {
   "cell_type": "markdown",
   "metadata": {},
   "source": [
    "# Correlation Coefficients and P-values "
   ]
  },
  {
   "cell_type": "code",
   "execution_count": 290,
   "metadata": {},
   "outputs": [],
   "source": [
    "#Trying to see how variables contribute to the Y_predicts. P_value<0.05 is decent important\n",
    "corrs = total.corr()['Time from Pickup to Arrival'].sort_values(ascending=False)"
   ]
  },
  {
   "cell_type": "code",
   "execution_count": 301,
   "metadata": {
    "scrolled": false
   },
   "outputs": [
    {
     "data": {
      "text/html": [
       "<div>\n",
       "<style scoped>\n",
       "    .dataframe tbody tr th:only-of-type {\n",
       "        vertical-align: middle;\n",
       "    }\n",
       "\n",
       "    .dataframe tbody tr th {\n",
       "        vertical-align: top;\n",
       "    }\n",
       "\n",
       "    .dataframe thead th {\n",
       "        text-align: right;\n",
       "    }\n",
       "</style>\n",
       "<table border=\"1\" class=\"dataframe\">\n",
       "  <thead>\n",
       "    <tr style=\"text-align: right;\">\n",
       "      <th></th>\n",
       "      <th>Correlation_Coefficient</th>\n",
       "      <th>P_Value</th>\n",
       "    </tr>\n",
       "  </thead>\n",
       "  <tbody>\n",
       "    <tr>\n",
       "      <th>Destination Lat</th>\n",
       "      <td>-0.061872</td>\n",
       "      <td>-0.061872</td>\n",
       "    </tr>\n",
       "    <tr>\n",
       "      <th>Pickup Lat</th>\n",
       "      <td>-0.053823</td>\n",
       "      <td>-0.053823</td>\n",
       "    </tr>\n",
       "    <tr>\n",
       "      <th>Average_Rating</th>\n",
       "      <td>-0.042559</td>\n",
       "      <td>-0.042559</td>\n",
       "    </tr>\n",
       "    <tr>\n",
       "      <th>No_Of_Orders</th>\n",
       "      <td>-0.041608</td>\n",
       "      <td>-0.041608</td>\n",
       "    </tr>\n",
       "    <tr>\n",
       "      <th>Placement - Day of Month</th>\n",
       "      <td>-0.014710</td>\n",
       "      <td>-0.014710</td>\n",
       "    </tr>\n",
       "    <tr>\n",
       "      <th>Confirmation - Day of Month</th>\n",
       "      <td>-0.014701</td>\n",
       "      <td>-0.014701</td>\n",
       "    </tr>\n",
       "    <tr>\n",
       "      <th>Arrival at Pickup - Day of Month</th>\n",
       "      <td>-0.014701</td>\n",
       "      <td>-0.014701</td>\n",
       "    </tr>\n",
       "    <tr>\n",
       "      <th>Pickup - Day of Month</th>\n",
       "      <td>-0.014701</td>\n",
       "      <td>-0.014701</td>\n",
       "    </tr>\n",
       "    <tr>\n",
       "      <th>Arrival at Destination - Day of Month</th>\n",
       "      <td>-0.014701</td>\n",
       "      <td>-0.014701</td>\n",
       "    </tr>\n",
       "    <tr>\n",
       "      <th>Age</th>\n",
       "      <td>-0.007969</td>\n",
       "      <td>-0.007969</td>\n",
       "    </tr>\n",
       "    <tr>\n",
       "      <th>Platform Type</th>\n",
       "      <td>-0.003827</td>\n",
       "      <td>-0.003827</td>\n",
       "    </tr>\n",
       "    <tr>\n",
       "      <th>Precipitation in millimeters</th>\n",
       "      <td>0.005495</td>\n",
       "      <td>0.005495</td>\n",
       "    </tr>\n",
       "    <tr>\n",
       "      <th>No_of_Ratings</th>\n",
       "      <td>0.005609</td>\n",
       "      <td>0.005609</td>\n",
       "    </tr>\n",
       "    <tr>\n",
       "      <th>Temperature</th>\n",
       "      <td>0.005772</td>\n",
       "      <td>0.005772</td>\n",
       "    </tr>\n",
       "    <tr>\n",
       "      <th>Placement - Weekday (Mo = 1)</th>\n",
       "      <td>0.009693</td>\n",
       "      <td>0.009693</td>\n",
       "    </tr>\n",
       "    <tr>\n",
       "      <th>Arrival at Pickup - Weekday (Mo = 1)</th>\n",
       "      <td>0.009744</td>\n",
       "      <td>0.009744</td>\n",
       "    </tr>\n",
       "    <tr>\n",
       "      <th>Confirmation - Weekday (Mo = 1)</th>\n",
       "      <td>0.009744</td>\n",
       "      <td>0.009744</td>\n",
       "    </tr>\n",
       "    <tr>\n",
       "      <th>Pickup - Weekday (Mo = 1)</th>\n",
       "      <td>0.009744</td>\n",
       "      <td>0.009744</td>\n",
       "    </tr>\n",
       "    <tr>\n",
       "      <th>Arrival at Destination - Weekday (Mo = 1)</th>\n",
       "      <td>0.009744</td>\n",
       "      <td>0.009744</td>\n",
       "    </tr>\n",
       "    <tr>\n",
       "      <th>Pickup Long</th>\n",
       "      <td>0.060285</td>\n",
       "      <td>0.060285</td>\n",
       "    </tr>\n",
       "    <tr>\n",
       "      <th>Destination Long</th>\n",
       "      <td>0.070425</td>\n",
       "      <td>0.070425</td>\n",
       "    </tr>\n",
       "  </tbody>\n",
       "</table>\n",
       "</div>"
      ],
      "text/plain": [
       "                                           Correlation_Coefficient   P_Value\n",
       "Destination Lat                                          -0.061872 -0.061872\n",
       "Pickup Lat                                               -0.053823 -0.053823\n",
       "Average_Rating                                           -0.042559 -0.042559\n",
       "No_Of_Orders                                             -0.041608 -0.041608\n",
       "Placement - Day of Month                                 -0.014710 -0.014710\n",
       "Confirmation - Day of Month                              -0.014701 -0.014701\n",
       "Arrival at Pickup - Day of Month                         -0.014701 -0.014701\n",
       "Pickup - Day of Month                                    -0.014701 -0.014701\n",
       "Arrival at Destination - Day of Month                    -0.014701 -0.014701\n",
       "Age                                                      -0.007969 -0.007969\n",
       "Platform Type                                            -0.003827 -0.003827\n",
       "Precipitation in millimeters                              0.005495  0.005495\n",
       "No_of_Ratings                                             0.005609  0.005609\n",
       "Temperature                                               0.005772  0.005772\n",
       "Placement - Weekday (Mo = 1)                              0.009693  0.009693\n",
       "Arrival at Pickup - Weekday (Mo = 1)                      0.009744  0.009744\n",
       "Confirmation - Weekday (Mo = 1)                           0.009744  0.009744\n",
       "Pickup - Weekday (Mo = 1)                                 0.009744  0.009744\n",
       "Arrival at Destination - Weekday (Mo = 1)                 0.009744  0.009744\n",
       "Pickup Long                                               0.060285  0.060285\n",
       "Destination Long                                          0.070425  0.070425"
      ]
     },
     "execution_count": 301,
     "metadata": {},
     "output_type": "execute_result"
    }
   ],
   "source": [
    "from scipy.stats import pearsonr\n",
    "\n",
    "# Build a dictionary of correlation coefficients and p-values\n",
    "dict_cp = {}\n",
    "\n",
    "column_titles = [col for col in corrs.index if col!= 'Time from Pickup to Arrival']\n",
    "for col in column_titles:\n",
    "    p_val = round(pearsonr(total[col], total['Time from Pickup to Arrival'])[0],6)\n",
    "    dict_cp[col] = {'Correlation_Coefficient':corrs[col],\n",
    "                    'P_Value':p_val}\n",
    "    \n",
    "df_cp = pd.DataFrame(dict_cp).T\n",
    "df_cp_sorted = df_cp.sort_values('P_Value')\n",
    "df_cp_sorted[df_cp_sorted['P_Value']<0.1]"
   ]
  },
  {
   "cell_type": "markdown",
   "metadata": {},
   "source": [
    "# Drop columns not to be trained with the model"
   ]
  },
  {
   "cell_type": "code",
   "execution_count": 270,
   "metadata": {},
   "outputs": [
    {
     "name": "stdout",
     "output_type": "stream",
     "text": [
      "<class 'pandas.core.frame.DataFrame'>\n",
      "Int64Index: 21201 entries, 0 to 21200\n",
      "Data columns (total 14 columns):\n",
      " #   Column                                     Non-Null Count  Dtype  \n",
      "---  ------                                     --------------  -----  \n",
      " 0   Pickup - Day of Month                      21201 non-null  int64  \n",
      " 1   Pickup - Weekday (Mo = 1)                  21201 non-null  int64  \n",
      " 2   Arrival at Destination - Day of Month      21201 non-null  int64  \n",
      " 3   Arrival at Destination - Weekday (Mo = 1)  21201 non-null  int64  \n",
      " 4   Distance (KM)                              21201 non-null  float64\n",
      " 5   Temperature                                21201 non-null  float64\n",
      " 6   Precipitation in millimeters               21201 non-null  float64\n",
      " 7   Pickup Lat                                 21201 non-null  float64\n",
      " 8   Pickup Long                                21201 non-null  float64\n",
      " 9   Destination Lat                            21201 non-null  float64\n",
      " 10  Destination Long                           21201 non-null  float64\n",
      " 11  No_Of_Orders                               21201 non-null  int64  \n",
      " 12  Average_Rating                             21201 non-null  float64\n",
      " 13  Time from Pickup to Arrival                21201 non-null  int64  \n",
      "dtypes: float64(8), int64(6)\n",
      "memory usage: 2.4 MB\n"
     ]
    }
   ],
   "source": [
    "#Drop columns/variables not wanted to be part of the model training\n",
    "total_model = total.iloc[:, 12:]\n",
    "total_model.drop('Rider Id', axis=1, inplace=True)\n",
    "total_model.drop('Arrival at Destination - Time', axis=1, inplace=True)\n",
    "total_model.drop('Pickup - Time', axis=1, inplace=True)\n",
    "#total_model.drop('Pickup Long', axis=1, inplace=True)\n",
    "#total_model.drop('Pickup Lat', axis=1, inplace=True)\n",
    "#total_model.drop('Destination Lat', axis=1, inplace=True)\n",
    "#total_model.drop('Destination Long', axis=1, inplace=True)\n",
    "#total_model.drop('No_Of_Orders', axis=1, inplace=True)\n",
    "total_model.drop('Age', axis=1, inplace=True)\n",
    "#total_model.drop('Average_Rating', axis=1, inplace=True)\n",
    "total_model.drop('No_of_Ratings', axis=1, inplace=True)\n",
    "\n",
    "#Create Metrics of features(Independant Variables- X) and Dependant Variable(y)\n",
    "X = total_model.iloc[:,:-1]\n",
    "y = total_model.iloc[:,-1]\n",
    "\n",
    "total_model.info()"
   ]
  },
  {
   "cell_type": "markdown",
   "metadata": {},
   "source": [
    "# Feature scaling for the whole dataset "
   ]
  },
  {
   "cell_type": "code",
   "execution_count": 297,
   "metadata": {},
   "outputs": [],
   "source": [
    "#feature scaling\n",
    "from sklearn.preprocessing import StandardScaler\n",
    "sc = StandardScaler()\n",
    "X = sc.fit_transform(X[:])"
   ]
  },
  {
   "cell_type": "markdown",
   "metadata": {
    "colab_type": "text",
    "id": "k-McZVsQBINc"
   },
   "source": [
    "## Training the Regression model on the WHOLE TRAIN DATASET"
   ]
  },
  {
   "cell_type": "code",
   "execution_count": 298,
   "metadata": {
    "colab": {
     "base_uri": "https://localhost:8080/",
     "height": 34
    },
    "colab_type": "code",
    "executionInfo": {
     "elapsed": 757,
     "status": "ok",
     "timestamp": 1586353664008,
     "user": {
      "displayName": "Hadelin de Ponteves",
      "photoUrl": "https://lh3.googleusercontent.com/a-/AOh14GhEuXdT7eQweUmRPW8_laJuPggSK6hfvpl5a6WBaA=s64",
      "userId": "15047218817161520419"
     },
     "user_tz": -240
    },
    "id": "ywPjx0L1BMiD",
    "outputId": "099836bc-4d85-4b4f-a488-093faf02e8cb"
   },
   "outputs": [],
   "source": [
    "# Multiple Linear regression model \n",
    "from sklearn.linear_model import LinearRegression\n",
    "mlr = LinearRegression()\n",
    "mlr = mlr.fit(X, y)"
   ]
  },
  {
   "cell_type": "code",
   "execution_count": 299,
   "metadata": {},
   "outputs": [],
   "source": [
    "#Decision tree regression model \n",
    "from sklearn.tree import DecisionTreeRegressor\n",
    "tree = DecisionTreeRegressor()\n",
    "tree = tree.fit(X, y)\n"
   ]
  },
  {
   "cell_type": "code",
   "execution_count": 274,
   "metadata": {},
   "outputs": [],
   "source": [
    "#Random forest regression model \n",
    "from sklearn.ensemble import RandomForestRegressor\n",
    "forest = RandomForestRegressor(n_estimators = 25)\n",
    "forest = forest.fit(X, y)"
   ]
  },
  {
   "cell_type": "markdown",
   "metadata": {
    "colab_type": "text",
    "id": "xNkXL1YQBiBT"
   },
   "source": [
    "## Predicting the dataset results"
   ]
  },
  {
   "cell_type": "code",
   "execution_count": 275,
   "metadata": {},
   "outputs": [],
   "source": [
    "from sklearn import metrics\n",
    "import math\n",
    "\n",
    "#Multiple Linear Regression\n",
    "y_pred_mlr = mlr.predict(X)\n",
    "rmse_mlr = round(math.sqrt(metrics.mean_squared_error(y, mlr.predict(X))),2)\n"
   ]
  },
  {
   "cell_type": "code",
   "execution_count": 276,
   "metadata": {},
   "outputs": [],
   "source": [
    "# Decision Tree regression\n",
    "y_pred_tree = tree.predict(X)\n",
    "rmse_tree = round(math.sqrt(metrics.mean_squared_error(y, tree.predict(X))),2)\n"
   ]
  },
  {
   "cell_type": "code",
   "execution_count": 277,
   "metadata": {},
   "outputs": [],
   "source": [
    "# Random forrest regression \n",
    "y_pred_forest = forest.predict(X)\n",
    "rmse_forest = round(math.sqrt(metrics.mean_squared_error(y, forest.predict(X))),2)\n"
   ]
  },
  {
   "cell_type": "code",
   "execution_count": 279,
   "metadata": {
    "scrolled": true
   },
   "outputs": [
    {
     "name": "stdout",
     "output_type": "stream",
     "text": [
      "  Regression model    RMSE\n",
      "0              MLR  799.04\n",
      "1           D.Tree    7.20\n",
      "2         R.Forest  306.63\n"
     ]
    }
   ],
   "source": [
    "data = {'Regression model':  ['MLR', 'D.Tree', 'R.Forest']\n",
    "        ,'RMSE' : [rmse_mlr, rmse_tree, rmse_forest],\n",
    "       }\n",
    "\n",
    "df = pd.DataFrame (data, columns = ['Regression model', 'RMSE'])\n",
    "print(df)"
   ]
  },
  {
   "cell_type": "code",
   "execution_count": 253,
   "metadata": {},
   "outputs": [],
   "source": [
    "#from sklearn.metrics import accuracy_score\n",
    "#accuracy_score([rmse_test])"
   ]
  },
  {
   "cell_type": "markdown",
   "metadata": {},
   "source": [
    "# Testing model on whole test set\n"
   ]
  },
  {
   "cell_type": "code",
   "execution_count": null,
   "metadata": {},
   "outputs": [],
   "source": [
    "#Make changes to the test dataset as was done with the training dataset."
   ]
  },
  {
   "cell_type": "code",
   "execution_count": 281,
   "metadata": {},
   "outputs": [],
   "source": [
    "#Prepare Test Data to be tested- Merge with Riders information\n",
    "testing = Test.merge(Riders, how='left', on='Rider Id')\n",
    "\n",
    "#Drop unneeded columns\n",
    "testing = testing.drop(['Vehicle Type'], axis=1)\n",
    "testing = testing.drop(['User Id'], axis=1)\n",
    "\n",
    "#Set All columns as independant variables, Test Dataset has no Y-VAlues.\n",
    "X2 = testing.iloc[:, :].values\n",
    "\n",
    "# Distance/Temperature - Replace Null values with Column Mean\n",
    "from sklearn.impute import SimpleImputer\n",
    "imp_temp1 = SimpleImputer(missing_values = np.nan, strategy='mean')\n",
    "imp_temp1.fit(testing.iloc[:, 15:17]) \n",
    "testing.iloc[:, 15:17] = imp_temp1.transform(testing.iloc[:, 15:17])\n",
    "\n",
    "#Precipitation(ml) -replace null with ZERO\n",
    "from sklearn.impute import SimpleImputer\n",
    "imp_prec1 = SimpleImputer(missing_values=np.nan, strategy='constant', fill_value = 0)\n",
    "imp_prec1.fit(testing.iloc[:,17:]) \n",
    "testing.iloc[:,17:] = imp_prec1.transform(testing.iloc[:,17:])\n",
    "\n",
    "#Change datatypes\n",
    "testing['Placement - Time'] = pd.to_datetime(testing['Placement - Time'])\n",
    "testing['Confirmation - Time'] = pd.to_datetime(testing['Confirmation - Time'])\n",
    "testing['Arrival at Pickup - Time'] = pd.to_datetime(testing['Arrival at Pickup - Time'])\n",
    "testing['Pickup - Time'] = pd.to_datetime(testing['Pickup - Time'])\n",
    "\n",
    "# 1 HOT Encode - Personal or Business\n",
    "from sklearn.compose import ColumnTransformer\n",
    "from sklearn.preprocessing import OneHotEncoder\n",
    "ct1 = ColumnTransformer(transformers=[('encoder', OneHotEncoder(), [2])], remainder='passthrough')\n",
    "X2 = np.array(ct1.fit_transform(X2))"
   ]
  },
  {
   "cell_type": "code",
   "execution_count": 282,
   "metadata": {},
   "outputs": [],
   "source": [
    "#testing.head(2)"
   ]
  },
  {
   "cell_type": "code",
   "execution_count": 286,
   "metadata": {},
   "outputs": [
    {
     "data": {
      "text/html": [
       "<div>\n",
       "<style scoped>\n",
       "    .dataframe tbody tr th:only-of-type {\n",
       "        vertical-align: middle;\n",
       "    }\n",
       "\n",
       "    .dataframe tbody tr th {\n",
       "        vertical-align: top;\n",
       "    }\n",
       "\n",
       "    .dataframe thead th {\n",
       "        text-align: right;\n",
       "    }\n",
       "</style>\n",
       "<table border=\"1\" class=\"dataframe\">\n",
       "  <thead>\n",
       "    <tr style=\"text-align: right;\">\n",
       "      <th></th>\n",
       "      <th>Time from Pickup to Arrival</th>\n",
       "    </tr>\n",
       "  </thead>\n",
       "  <tbody>\n",
       "    <tr>\n",
       "      <th>0</th>\n",
       "      <td>1473.68</td>\n",
       "    </tr>\n",
       "    <tr>\n",
       "      <th>1</th>\n",
       "      <td>1126.61</td>\n",
       "    </tr>\n",
       "    <tr>\n",
       "      <th>2</th>\n",
       "      <td>1160.15</td>\n",
       "    </tr>\n",
       "    <tr>\n",
       "      <th>3</th>\n",
       "      <td>1156.03</td>\n",
       "    </tr>\n",
       "    <tr>\n",
       "      <th>4</th>\n",
       "      <td>1076.54</td>\n",
       "    </tr>\n",
       "  </tbody>\n",
       "</table>\n",
       "</div>"
      ],
      "text/plain": [
       "   Time from Pickup to Arrival\n",
       "0                      1473.68\n",
       "1                      1126.61\n",
       "2                      1160.15\n",
       "3                      1156.03\n",
       "4                      1076.54"
      ]
     },
     "execution_count": 286,
     "metadata": {},
     "output_type": "execute_result"
    }
   ],
   "source": [
    "#TESTING MODEL ON TEST DATA(CSV)\n",
    "\n",
    "#factors that will help predict Time from Pickup to Arrival\n",
    "desired_factors = ['Distance (KM)','Temperature','Precipitation in millimeters'\n",
    "                   ,'No_Of_Orders', 'Average_Rating']\n",
    "\n",
    "#set my model to MLR/DecisionTree/R.Forest\n",
    "model = mlr\n",
    "\n",
    "\n",
    "#set prediction data to factors that will predict, and set target to (time Arrival from Pick up to Arrival)\n",
    "train_data = total_model[desired_factors]\n",
    "test_data = testing[desired_factors]\n",
    "target = total_model['Time from Pickup to Arrival']\n",
    "\n",
    "#fitting model with prediction data and telling it my target\n",
    "model.fit(train_data, target)\n",
    "\n",
    "results = model.predict(test_data)\n",
    "df = pd.DataFrame (results, columns = ['Time from Pickup to Arrival'])\n",
    "df = df['Time from Pickup to Arrival'].round(decimals=2)\n",
    "df = pd.DataFrame(df)\n",
    "df.head()"
   ]
  },
  {
   "cell_type": "code",
   "execution_count": 287,
   "metadata": {},
   "outputs": [
    {
     "data": {
      "text/html": [
       "<div>\n",
       "<style scoped>\n",
       "    .dataframe tbody tr th:only-of-type {\n",
       "        vertical-align: middle;\n",
       "    }\n",
       "\n",
       "    .dataframe tbody tr th {\n",
       "        vertical-align: top;\n",
       "    }\n",
       "\n",
       "    .dataframe thead th {\n",
       "        text-align: right;\n",
       "    }\n",
       "</style>\n",
       "<table border=\"1\" class=\"dataframe\">\n",
       "  <thead>\n",
       "    <tr style=\"text-align: right;\">\n",
       "      <th></th>\n",
       "      <th>Order No</th>\n",
       "      <th>Time from Pickup to Arrival</th>\n",
       "    </tr>\n",
       "  </thead>\n",
       "  <tbody>\n",
       "    <tr>\n",
       "      <th>0</th>\n",
       "      <td>Order_No_19248</td>\n",
       "      <td>1473.68</td>\n",
       "    </tr>\n",
       "    <tr>\n",
       "      <th>1</th>\n",
       "      <td>Order_No_12736</td>\n",
       "      <td>1126.61</td>\n",
       "    </tr>\n",
       "    <tr>\n",
       "      <th>2</th>\n",
       "      <td>Order_No_768</td>\n",
       "      <td>1160.15</td>\n",
       "    </tr>\n",
       "    <tr>\n",
       "      <th>3</th>\n",
       "      <td>Order_No_15332</td>\n",
       "      <td>1156.03</td>\n",
       "    </tr>\n",
       "    <tr>\n",
       "      <th>4</th>\n",
       "      <td>Order_No_21373</td>\n",
       "      <td>1076.54</td>\n",
       "    </tr>\n",
       "    <tr>\n",
       "      <th>...</th>\n",
       "      <td>...</td>\n",
       "      <td>...</td>\n",
       "    </tr>\n",
       "    <tr>\n",
       "      <th>7063</th>\n",
       "      <td>Order_No_3612</td>\n",
       "      <td>1158.47</td>\n",
       "    </tr>\n",
       "    <tr>\n",
       "      <th>7064</th>\n",
       "      <td>Order_No_7657</td>\n",
       "      <td>2648.49</td>\n",
       "    </tr>\n",
       "    <tr>\n",
       "      <th>7065</th>\n",
       "      <td>Order_No_1969</td>\n",
       "      <td>1621.81</td>\n",
       "    </tr>\n",
       "    <tr>\n",
       "      <th>7066</th>\n",
       "      <td>Order_No_10591</td>\n",
       "      <td>2468.04</td>\n",
       "    </tr>\n",
       "    <tr>\n",
       "      <th>7067</th>\n",
       "      <td>Order_No_1603</td>\n",
       "      <td>1429.31</td>\n",
       "    </tr>\n",
       "  </tbody>\n",
       "</table>\n",
       "<p>7068 rows × 2 columns</p>\n",
       "</div>"
      ],
      "text/plain": [
       "            Order No Time from Pickup to Arrival\n",
       "0     Order_No_19248                     1473.68\n",
       "1     Order_No_12736                     1126.61\n",
       "2       Order_No_768                     1160.15\n",
       "3     Order_No_15332                     1156.03\n",
       "4     Order_No_21373                     1076.54\n",
       "...              ...                         ...\n",
       "7063   Order_No_3612                     1158.47\n",
       "7064   Order_No_7657                     2648.49\n",
       "7065   Order_No_1969                     1621.81\n",
       "7066  Order_No_10591                     2468.04\n",
       "7067   Order_No_1603                     1429.31\n",
       "\n",
       "[7068 rows x 2 columns]"
      ]
     },
     "execution_count": 287,
     "metadata": {},
     "output_type": "execute_result"
    }
   ],
   "source": [
    "new = pd.DataFrame([testing['Order No'], df['Time from Pickup to Arrival']]).transpose()\n",
    "new"
   ]
  },
  {
   "cell_type": "code",
   "execution_count": 267,
   "metadata": {},
   "outputs": [],
   "source": [
    "new.to_csv(r'C:\\Users\\confi\\Documents\\Submissions.csv', index=None)"
   ]
  }
 ],
 "metadata": {
  "colab": {
   "authorship_tag": "ABX9TyPhYhte6t7H4wEK4xPpDWT7",
   "name": "Multiple Linear Regression",
   "provenance": [],
   "toc_visible": true
  },
  "kernelspec": {
   "display_name": "Python 3",
   "language": "python",
   "name": "python3"
  },
  "language_info": {
   "codemirror_mode": {
    "name": "ipython",
    "version": 3
   },
   "file_extension": ".py",
   "mimetype": "text/x-python",
   "name": "python",
   "nbconvert_exporter": "python",
   "pygments_lexer": "ipython3",
   "version": "3.7.6"
  }
 },
 "nbformat": 4,
 "nbformat_minor": 1
}
