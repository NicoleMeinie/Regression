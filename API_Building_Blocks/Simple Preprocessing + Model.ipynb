{
 "cells": [
  {
   "cell_type": "code",
   "execution_count": 1,
   "metadata": {},
   "outputs": [],
   "source": [
    "# Import libraries \n",
    "import numpy as np\n",
    "import pandas as pd\n",
    "import matplotlib.pyplot as plt\n",
    "import matplotlib.style as style\n",
    "import seaborn as sns\n",
    "import scipy.stats as stats\n",
    "import plotly.express as px\n",
    "%matplotlib inline\n",
    "\n",
    "# machine learning \n",
    "from sklearn.impute import SimpleImputer\n",
    "from sklearn.model_selection import train_test_split\n",
    "from sklearn.preprocessing import StandardScaler\n",
    "from sklearn.linear_model import LinearRegression\n",
    "from sklearn.tree import DecisionTreeRegressor\n",
    "from sklearn.ensemble import RandomForestRegressor\n",
    "from sklearn.linear_model import Ridge\n",
    "from sklearn.linear_model import Lasso\n",
    "from sklearn.metrics import mean_squared_error"
   ]
  },
  {
   "cell_type": "code",
   "execution_count": 2,
   "metadata": {},
   "outputs": [],
   "source": [
    "# import each csv file\n",
    "test_raw = pd.read_csv('Test.csv')\n",
    "train_raw = pd.read_csv('Train.csv')\n",
    "riders_raw = pd.read_csv('Riders.csv')\n",
    "\n",
    "# Join riders to test & train data and initialise working dataframes\n",
    "train = pd.merge(train_raw, riders_raw, on = \"Rider Id\", how=\"left\") \n",
    "test = pd.merge(test_raw, riders_raw, how=\"left\", on = \"Rider Id\")"
   ]
  },
  {
   "cell_type": "code",
   "execution_count": 3,
   "metadata": {},
   "outputs": [
    {
     "name": "stdout",
     "output_type": "stream",
     "text": [
      "<class 'pandas.core.frame.DataFrame'>\n",
      "Int64Index: 7068 entries, 0 to 7067\n",
      "Data columns (total 29 columns):\n",
      "Order No                                7068 non-null object\n",
      "User Id                                 7068 non-null object\n",
      "Vehicle Type                            7068 non-null object\n",
      "Platform Type                           7068 non-null int64\n",
      "Personal or Business                    7068 non-null object\n",
      "Placement - Day of Month                7068 non-null int64\n",
      "Placement - Weekday (Mo = 1)            7068 non-null int64\n",
      "Placement - Time                        7068 non-null object\n",
      "Confirmation - Day of Month             7068 non-null int64\n",
      "Confirmation - Weekday (Mo = 1)         7068 non-null int64\n",
      "Confirmation - Time                     7068 non-null object\n",
      "Arrival at Pickup - Day of Month        7068 non-null int64\n",
      "Arrival at Pickup - Weekday (Mo = 1)    7068 non-null int64\n",
      "Arrival at Pickup - Time                7068 non-null object\n",
      "Pickup - Day of Month                   7068 non-null int64\n",
      "Pickup - Weekday (Mo = 1)               7068 non-null int64\n",
      "Pickup - Time                           7068 non-null object\n",
      "Distance (KM)                           7068 non-null int64\n",
      "Temperature                             5631 non-null float64\n",
      "Precipitation in millimeters            199 non-null float64\n",
      "Pickup Lat                              7068 non-null float64\n",
      "Pickup Long                             7068 non-null float64\n",
      "Destination Lat                         7068 non-null float64\n",
      "Destination Long                        7068 non-null float64\n",
      "Rider Id                                7068 non-null object\n",
      "No_Of_Orders                            7068 non-null int64\n",
      "Age                                     7068 non-null int64\n",
      "Average_Rating                          7068 non-null float64\n",
      "No_of_Ratings                           7068 non-null int64\n",
      "dtypes: float64(7), int64(13), object(9)\n",
      "memory usage: 1.6+ MB\n"
     ]
    }
   ],
   "source": [
    "test.info()"
   ]
  },
  {
   "cell_type": "code",
   "execution_count": 4,
   "metadata": {},
   "outputs": [
    {
     "data": {
      "text/plain": [
       "Index(['Order No', 'User Id', 'Vehicle Type', 'Platform Type',\n",
       "       'Personal or Business', 'Placement - Day of Month',\n",
       "       'Placement - Weekday (Mo = 1)', 'Placement - Time',\n",
       "       'Confirmation - Day of Month', 'Confirmation - Weekday (Mo = 1)',\n",
       "       'Confirmation - Time', 'Arrival at Pickup - Day of Month',\n",
       "       'Arrival at Pickup - Weekday (Mo = 1)', 'Arrival at Pickup - Time',\n",
       "       'Pickup - Day of Month', 'Pickup - Weekday (Mo = 1)', 'Pickup - Time',\n",
       "       'Distance (KM)', 'Temperature', 'Precipitation in millimeters',\n",
       "       'Pickup Lat', 'Pickup Long', 'Destination Lat', 'Destination Long',\n",
       "       'Rider Id', 'No_Of_Orders', 'Age', 'Average_Rating', 'No_of_Ratings'],\n",
       "      dtype='object')"
      ]
     },
     "execution_count": 4,
     "metadata": {},
     "output_type": "execute_result"
    }
   ],
   "source": [
    "test.columns"
   ]
  },
  {
   "cell_type": "code",
   "execution_count": 5,
   "metadata": {},
   "outputs": [],
   "source": [
    "# drop 14 unnecessary variables\n",
    "to_drop = ['Order No', \n",
    "           'User Id', \n",
    "           'Vehicle Type', \n",
    "           'Platform Type',\n",
    "           'Placement - Day of Month',\n",
    "           'Placement - Weekday (Mo = 1)', \n",
    "           'Placement - Time',\n",
    "           'Confirmation - Day of Month', \n",
    "           'Confirmation - Weekday (Mo = 1)',\n",
    "           'Confirmation - Time', \n",
    "           'Arrival at Pickup - Day of Month',\n",
    "           'Arrival at Pickup - Weekday (Mo = 1)', \n",
    "           'Arrival at Pickup - Time',\n",
    "           'Rider Id']\n",
    "\n",
    "test.drop(to_drop, axis = 1, inplace = True)\n",
    "train.drop(to_drop, axis = 1, inplace = True)"
   ]
  },
  {
   "cell_type": "code",
   "execution_count": 6,
   "metadata": {},
   "outputs": [],
   "source": [
    "# columns that should be dropped from the train data only\n",
    "train_drop = ['Arrival at Destination - Time', \n",
    "              'Arrival at Destination - Weekday (Mo = 1)', \n",
    "              'Arrival at Destination - Day of Month']\n",
    "\n",
    "train.drop(train_drop, axis = 1, inplace = True)"
   ]
  },
  {
   "cell_type": "code",
   "execution_count": 7,
   "metadata": {},
   "outputs": [
    {
     "name": "stdout",
     "output_type": "stream",
     "text": [
      "<class 'pandas.core.frame.DataFrame'>\n",
      "Int64Index: 21201 entries, 0 to 21200\n",
      "Data columns (total 16 columns):\n",
      "Personal or Business            21201 non-null object\n",
      "Pickup - Day of Month           21201 non-null int64\n",
      "Pickup - Weekday (Mo = 1)       21201 non-null int64\n",
      "Pickup - Time                   21201 non-null object\n",
      "Distance (KM)                   21201 non-null int64\n",
      "Temperature                     16835 non-null float64\n",
      "Precipitation in millimeters    552 non-null float64\n",
      "Pickup Lat                      21201 non-null float64\n",
      "Pickup Long                     21201 non-null float64\n",
      "Destination Lat                 21201 non-null float64\n",
      "Destination Long                21201 non-null float64\n",
      "Time from Pickup to Arrival     21201 non-null int64\n",
      "No_Of_Orders                    21201 non-null int64\n",
      "Age                             21201 non-null int64\n",
      "Average_Rating                  21201 non-null float64\n",
      "No_of_Ratings                   21201 non-null int64\n",
      "dtypes: float64(7), int64(7), object(2)\n",
      "memory usage: 2.7+ MB\n"
     ]
    }
   ],
   "source": [
    "train.info()"
   ]
  },
  {
   "cell_type": "code",
   "execution_count": 8,
   "metadata": {},
   "outputs": [
    {
     "name": "stdout",
     "output_type": "stream",
     "text": [
      "<class 'pandas.core.frame.DataFrame'>\n",
      "Int64Index: 7068 entries, 0 to 7067\n",
      "Data columns (total 15 columns):\n",
      "Personal or Business            7068 non-null object\n",
      "Pickup - Day of Month           7068 non-null int64\n",
      "Pickup - Weekday (Mo = 1)       7068 non-null int64\n",
      "Pickup - Time                   7068 non-null object\n",
      "Distance (KM)                   7068 non-null int64\n",
      "Temperature                     5631 non-null float64\n",
      "Precipitation in millimeters    199 non-null float64\n",
      "Pickup Lat                      7068 non-null float64\n",
      "Pickup Long                     7068 non-null float64\n",
      "Destination Lat                 7068 non-null float64\n",
      "Destination Long                7068 non-null float64\n",
      "No_Of_Orders                    7068 non-null int64\n",
      "Age                             7068 non-null int64\n",
      "Average_Rating                  7068 non-null float64\n",
      "No_of_Ratings                   7068 non-null int64\n",
      "dtypes: float64(7), int64(6), object(2)\n",
      "memory usage: 883.5+ KB\n"
     ]
    }
   ],
   "source": [
    "test.info()"
   ]
  },
  {
   "cell_type": "code",
   "execution_count": 9,
   "metadata": {},
   "outputs": [],
   "source": [
    "train.loc[train['Personal or Business'] == 'Personal', 'Personal or Business'] = 1\n",
    "train.loc[train['Personal or Business'] == 'Business', 'Personal or Business'] = 0"
   ]
  },
  {
   "cell_type": "code",
   "execution_count": 10,
   "metadata": {},
   "outputs": [],
   "source": [
    "test.loc[test['Personal or Business'] == 'Personal', 'Personal or Business'] = 1\n",
    "test.loc[test['Personal or Business'] == 'Business', 'Personal or Business'] = 0"
   ]
  },
  {
   "cell_type": "code",
   "execution_count": 11,
   "metadata": {},
   "outputs": [
    {
     "name": "stdout",
     "output_type": "stream",
     "text": [
      "<class 'pandas.core.frame.DataFrame'>\n",
      "Int64Index: 7068 entries, 0 to 7067\n",
      "Data columns (total 15 columns):\n",
      "Personal or Business            7068 non-null int64\n",
      "Pickup - Day of Month           7068 non-null int64\n",
      "Pickup - Weekday (Mo = 1)       7068 non-null int64\n",
      "Pickup - Time                   7068 non-null object\n",
      "Distance (KM)                   7068 non-null int64\n",
      "Temperature                     5631 non-null float64\n",
      "Precipitation in millimeters    199 non-null float64\n",
      "Pickup Lat                      7068 non-null float64\n",
      "Pickup Long                     7068 non-null float64\n",
      "Destination Lat                 7068 non-null float64\n",
      "Destination Long                7068 non-null float64\n",
      "No_Of_Orders                    7068 non-null int64\n",
      "Age                             7068 non-null int64\n",
      "Average_Rating                  7068 non-null float64\n",
      "No_of_Ratings                   7068 non-null int64\n",
      "dtypes: float64(7), int64(7), object(1)\n",
      "memory usage: 883.5+ KB\n"
     ]
    }
   ],
   "source": [
    "test.info()"
   ]
  },
  {
   "cell_type": "code",
   "execution_count": 12,
   "metadata": {},
   "outputs": [],
   "source": [
    "# converting object data types for Pickup Times to date_time \n",
    "train['Pickup - Time'] = pd.to_datetime(train['Pickup - Time'])\n",
    "test['Pickup - Time'] = pd.to_datetime(test['Pickup - Time'])\n",
    "\n",
    "train['Pickup - Time'] = train['Pickup - Time'].apply(lambda time: time.hour)\n",
    "test['Pickup - Time'] = test['Pickup - Time'].apply(lambda time: time.hour)"
   ]
  },
  {
   "cell_type": "code",
   "execution_count": 13,
   "metadata": {},
   "outputs": [],
   "source": [
    "# fill precipitation null values with 0\n",
    "train['Precipitation in millimeters'].fillna(0,inplace=True)\n",
    "test['Precipitation in millimeters'].fillna(0,inplace=True)"
   ]
  },
  {
   "cell_type": "code",
   "execution_count": 14,
   "metadata": {},
   "outputs": [],
   "source": [
    "# impute temperature values by mean\n",
    "train.Temperature.fillna(23.25,inplace=True)\n",
    "test.Temperature.fillna(23.25,inplace=True)"
   ]
  },
  {
   "cell_type": "code",
   "execution_count": 15,
   "metadata": {},
   "outputs": [
    {
     "name": "stdout",
     "output_type": "stream",
     "text": [
      "<class 'pandas.core.frame.DataFrame'>\n",
      "Int64Index: 7068 entries, 0 to 7067\n",
      "Data columns (total 15 columns):\n",
      "Personal or Business            7068 non-null int64\n",
      "Pickup - Day of Month           7068 non-null int64\n",
      "Pickup - Weekday (Mo = 1)       7068 non-null int64\n",
      "Pickup - Time                   7068 non-null int64\n",
      "Distance (KM)                   7068 non-null int64\n",
      "Temperature                     7068 non-null float64\n",
      "Precipitation in millimeters    7068 non-null float64\n",
      "Pickup Lat                      7068 non-null float64\n",
      "Pickup Long                     7068 non-null float64\n",
      "Destination Lat                 7068 non-null float64\n",
      "Destination Long                7068 non-null float64\n",
      "No_Of_Orders                    7068 non-null int64\n",
      "Age                             7068 non-null int64\n",
      "Average_Rating                  7068 non-null float64\n",
      "No_of_Ratings                   7068 non-null int64\n",
      "dtypes: float64(7), int64(8)\n",
      "memory usage: 883.5 KB\n"
     ]
    }
   ],
   "source": [
    "test.info()"
   ]
  },
  {
   "cell_type": "code",
   "execution_count": null,
   "metadata": {},
   "outputs": [],
   "source": []
  },
  {
   "cell_type": "code",
   "execution_count": null,
   "metadata": {},
   "outputs": [],
   "source": []
  },
  {
   "cell_type": "code",
   "execution_count": null,
   "metadata": {},
   "outputs": [],
   "source": []
  },
  {
   "cell_type": "code",
   "execution_count": null,
   "metadata": {},
   "outputs": [],
   "source": []
  },
  {
   "cell_type": "code",
   "execution_count": null,
   "metadata": {},
   "outputs": [],
   "source": []
  },
  {
   "cell_type": "code",
   "execution_count": 16,
   "metadata": {},
   "outputs": [],
   "source": [
    "# Seperating the features and target variables\n",
    "X = train.copy()\n",
    "X.drop('Time from Pickup to Arrival', axis = 1, inplace = True)\n",
    "y = train['Time from Pickup to Arrival'].ravel()\n",
    "\n",
    "# Splitting the data in a test and train set\n",
    "X_train, X_test, y_train, y_test = train_test_split(X, y, test_size = 0.2, random_state = 101 )"
   ]
  },
  {
   "cell_type": "code",
   "execution_count": 18,
   "metadata": {},
   "outputs": [
    {
     "name": "stdout",
     "output_type": "stream",
     "text": [
      "Index(['Personal or Business', 'Pickup - Day of Month',\n",
      "       'Pickup - Weekday (Mo = 1)', 'Pickup - Time', 'Distance (KM)',\n",
      "       'Temperature', 'Precipitation in millimeters', 'Pickup Lat',\n",
      "       'Pickup Long', 'Destination Lat', 'Destination Long', 'No_Of_Orders',\n",
      "       'Age', 'Average_Rating', 'No_of_Ratings'],\n",
      "      dtype='object')\n"
     ]
    }
   ],
   "source": [
    "# Initialise variables to be scaled \n",
    "X_Train_s = X_train.copy()\n",
    "X_Test_s = X_test.copy()\n",
    "Test_s = test.copy()\n",
    "\n",
    "print(Test_s.columns)"
   ]
  },
  {
   "cell_type": "code",
   "execution_count": 19,
   "metadata": {},
   "outputs": [],
   "source": [
    "# extract the column names of all the variables that should be scaled\n",
    "col_names = ['Pickup - Day of Month',\n",
    "       'Pickup - Weekday (Mo = 1)', 'Pickup - Time', 'Distance (KM)',\n",
    "       'Temperature', 'Precipitation in millimeters', 'Pickup Lat',\n",
    "       'Pickup Long', 'Destination Lat', 'Destination Long', 'No_Of_Orders',\n",
    "       'Age', 'Average_Rating', 'No_of_Ratings']\n",
    "\n",
    "# X_Train data\n",
    "train_features = X_Train_s[col_names]\n",
    "train_scaler = StandardScaler().fit(train_features.values)\n",
    "train_features = train_scaler.transform(train_features.values)\n",
    "X_Train_s[col_names] = train_features\n",
    "\n",
    "# X_Test data\n",
    "X_test_features = X_Test_s[col_names]\n",
    "X_test_features = train_scaler.fit_transform(X_test_features.values)\n",
    "X_Test_s[col_names] = X_test_features\n",
    "\n",
    "#Test data\n",
    "test_features = Test_s[col_names]\n",
    "test_features = train_scaler.fit_transform(test_features.values)\n",
    "Test_s[col_names] = test_features"
   ]
  },
  {
   "cell_type": "code",
   "execution_count": 25,
   "metadata": {},
   "outputs": [
    {
     "data": {
      "text/html": [
       "<div>\n",
       "<style scoped>\n",
       "    .dataframe tbody tr th:only-of-type {\n",
       "        vertical-align: middle;\n",
       "    }\n",
       "\n",
       "    .dataframe tbody tr th {\n",
       "        vertical-align: top;\n",
       "    }\n",
       "\n",
       "    .dataframe thead th {\n",
       "        text-align: right;\n",
       "    }\n",
       "</style>\n",
       "<table border=\"1\" class=\"dataframe\">\n",
       "  <thead>\n",
       "    <tr style=\"text-align: right;\">\n",
       "      <th></th>\n",
       "      <th>Personal or Business</th>\n",
       "      <th>Pickup - Day of Month</th>\n",
       "      <th>Pickup - Weekday (Mo = 1)</th>\n",
       "      <th>Pickup - Time</th>\n",
       "      <th>Distance (KM)</th>\n",
       "      <th>Temperature</th>\n",
       "      <th>Precipitation in millimeters</th>\n",
       "      <th>Pickup Lat</th>\n",
       "      <th>Pickup Long</th>\n",
       "      <th>Destination Lat</th>\n",
       "      <th>Destination Long</th>\n",
       "      <th>No_Of_Orders</th>\n",
       "      <th>Age</th>\n",
       "      <th>Average_Rating</th>\n",
       "      <th>No_of_Ratings</th>\n",
       "    </tr>\n",
       "  </thead>\n",
       "  <tbody>\n",
       "    <tr>\n",
       "      <th>0</th>\n",
       "      <td>0</td>\n",
       "      <td>1.296507</td>\n",
       "      <td>-0.158057</td>\n",
       "      <td>1.632092</td>\n",
       "      <td>-0.261685</td>\n",
       "      <td>0.000965</td>\n",
       "      <td>-0.071986</td>\n",
       "      <td>-1.705347</td>\n",
       "      <td>1.571875</td>\n",
       "      <td>-0.671685</td>\n",
       "      <td>0.254311</td>\n",
       "      <td>-0.784681</td>\n",
       "      <td>0.762630</td>\n",
       "      <td>-0.689113</td>\n",
       "      <td>-0.419027</td>\n",
       "    </tr>\n",
       "    <tr>\n",
       "      <th>1</th>\n",
       "      <td>0</td>\n",
       "      <td>0.157040</td>\n",
       "      <td>1.107114</td>\n",
       "      <td>0.063793</td>\n",
       "      <td>-0.799773</td>\n",
       "      <td>0.000965</td>\n",
       "      <td>-0.071986</td>\n",
       "      <td>0.313017</td>\n",
       "      <td>-0.432695</td>\n",
       "      <td>0.153311</td>\n",
       "      <td>0.289179</td>\n",
       "      <td>-0.754597</td>\n",
       "      <td>-1.079228</td>\n",
       "      <td>0.610704</td>\n",
       "      <td>-0.726317</td>\n",
       "    </tr>\n",
       "    <tr>\n",
       "      <th>2</th>\n",
       "      <td>0</td>\n",
       "      <td>1.296507</td>\n",
       "      <td>0.474528</td>\n",
       "      <td>-0.720357</td>\n",
       "      <td>-0.799773</td>\n",
       "      <td>-0.139437</td>\n",
       "      <td>-0.071986</td>\n",
       "      <td>-0.294630</td>\n",
       "      <td>0.311474</td>\n",
       "      <td>0.165960</td>\n",
       "      <td>0.920333</td>\n",
       "      <td>-0.542775</td>\n",
       "      <td>-0.801015</td>\n",
       "      <td>-0.925443</td>\n",
       "      <td>-0.672663</td>\n",
       "    </tr>\n",
       "    <tr>\n",
       "      <th>3</th>\n",
       "      <td>0</td>\n",
       "      <td>0.157040</td>\n",
       "      <td>-1.423227</td>\n",
       "      <td>0.455867</td>\n",
       "      <td>-0.799773</td>\n",
       "      <td>0.390969</td>\n",
       "      <td>-0.071986</td>\n",
       "      <td>-0.281625</td>\n",
       "      <td>-0.039556</td>\n",
       "      <td>-0.617144</td>\n",
       "      <td>-0.475089</td>\n",
       "      <td>-0.755211</td>\n",
       "      <td>-0.652238</td>\n",
       "      <td>-0.216452</td>\n",
       "      <td>-0.728756</td>\n",
       "    </tr>\n",
       "    <tr>\n",
       "      <th>4</th>\n",
       "      <td>0</td>\n",
       "      <td>-0.526641</td>\n",
       "      <td>-0.790642</td>\n",
       "      <td>-0.720357</td>\n",
       "      <td>-0.620410</td>\n",
       "      <td>0.359768</td>\n",
       "      <td>-0.071986</td>\n",
       "      <td>0.032021</td>\n",
       "      <td>0.086282</td>\n",
       "      <td>0.461188</td>\n",
       "      <td>-0.440536</td>\n",
       "      <td>1.868924</td>\n",
       "      <td>0.180913</td>\n",
       "      <td>0.256208</td>\n",
       "      <td>1.627138</td>\n",
       "    </tr>\n",
       "  </tbody>\n",
       "</table>\n",
       "</div>"
      ],
      "text/plain": [
       "   Personal or Business  Pickup - Day of Month  Pickup - Weekday (Mo = 1)  \\\n",
       "0                     0               1.296507                  -0.158057   \n",
       "1                     0               0.157040                   1.107114   \n",
       "2                     0               1.296507                   0.474528   \n",
       "3                     0               0.157040                  -1.423227   \n",
       "4                     0              -0.526641                  -0.790642   \n",
       "\n",
       "   Pickup - Time  Distance (KM)  Temperature  Precipitation in millimeters  \\\n",
       "0       1.632092      -0.261685     0.000965                     -0.071986   \n",
       "1       0.063793      -0.799773     0.000965                     -0.071986   \n",
       "2      -0.720357      -0.799773    -0.139437                     -0.071986   \n",
       "3       0.455867      -0.799773     0.390969                     -0.071986   \n",
       "4      -0.720357      -0.620410     0.359768                     -0.071986   \n",
       "\n",
       "   Pickup Lat  Pickup Long  Destination Lat  Destination Long  No_Of_Orders  \\\n",
       "0   -1.705347     1.571875        -0.671685          0.254311     -0.784681   \n",
       "1    0.313017    -0.432695         0.153311          0.289179     -0.754597   \n",
       "2   -0.294630     0.311474         0.165960          0.920333     -0.542775   \n",
       "3   -0.281625    -0.039556        -0.617144         -0.475089     -0.755211   \n",
       "4    0.032021     0.086282         0.461188         -0.440536      1.868924   \n",
       "\n",
       "        Age  Average_Rating  No_of_Ratings  \n",
       "0  0.762630       -0.689113      -0.419027  \n",
       "1 -1.079228        0.610704      -0.726317  \n",
       "2 -0.801015       -0.925443      -0.672663  \n",
       "3 -0.652238       -0.216452      -0.728756  \n",
       "4  0.180913        0.256208       1.627138  "
      ]
     },
     "execution_count": 25,
     "metadata": {},
     "output_type": "execute_result"
    }
   ],
   "source": [
    "Test_s.head()"
   ]
  },
  {
   "cell_type": "markdown",
   "metadata": {},
   "source": [
    "# Building a random forest regression model \n",
    "forest = RandomForestRegressor(n_estimators=500, random_state=101, max_depth=10, max_leaf_nodes=200)\n",
    "forest.fit(X_train, y_train)"
   ]
  },
  {
   "cell_type": "markdown",
   "metadata": {},
   "source": [
    "# Random forest regression \n",
    "y_pred_test_forest = forest.predict(X_test)\n",
    "y_pred_train_forest = forest.predict(X_train)\n",
    "rmse_test_forest = round(np.sqrt(mean_squared_error(y_test, y_pred_test_forest)),2)\n",
    "rmse_train_forest = round(np.sqrt(mean_squared_error(y_train, y_pred_train_forest)),2)"
   ]
  },
  {
   "cell_type": "code",
   "execution_count": 20,
   "metadata": {},
   "outputs": [
    {
     "data": {
      "text/plain": [
       "Lasso(alpha=0.1, copy_X=True, fit_intercept=True, max_iter=1000,\n",
       "      normalize=False, positive=False, precompute=False, random_state=None,\n",
       "      selection='cyclic', tol=0.0001, warm_start=False)"
      ]
     },
     "execution_count": 20,
     "metadata": {},
     "output_type": "execute_result"
    }
   ],
   "source": [
    "# Building Lasso regression model\n",
    "lasso = Lasso(alpha = 0.1)\n",
    "lasso.fit(X_Train_s, y_train)"
   ]
  },
  {
   "cell_type": "code",
   "execution_count": 21,
   "metadata": {},
   "outputs": [],
   "source": [
    "# Lasso regression\n",
    "y_pred_lasso_train= lasso.predict(X_Train_s)\n",
    "y_pred_lasso_test= lasso.predict(X_Test_s)\n",
    "rmse_test_lasso = round(np.sqrt(mean_squared_error(y_test, y_pred_lasso_test)),2)\n",
    "rmse_train_lasso = round(np.sqrt(mean_squared_error(y_train, y_pred_lasso_train)),2)"
   ]
  },
  {
   "cell_type": "code",
   "execution_count": 22,
   "metadata": {},
   "outputs": [
    {
     "data": {
      "text/plain": [
       "799.77"
      ]
     },
     "execution_count": 22,
     "metadata": {},
     "output_type": "execute_result"
    }
   ],
   "source": [
    "rmse_train_lasso"
   ]
  },
  {
   "cell_type": "code",
   "execution_count": 23,
   "metadata": {},
   "outputs": [
    {
     "data": {
      "text/plain": [
       "782.71"
      ]
     },
     "execution_count": 23,
     "metadata": {},
     "output_type": "execute_result"
    }
   ],
   "source": [
    "rmse_test_lasso"
   ]
  },
  {
   "cell_type": "code",
   "execution_count": null,
   "metadata": {},
   "outputs": [],
   "source": []
  },
  {
   "cell_type": "code",
   "execution_count": 24,
   "metadata": {},
   "outputs": [],
   "source": [
    "import pickle\n",
    "\n",
    "model_save_path = \"lasso.pkl\"\n",
    "with open(model_save_path,'wb') as file:\n",
    "    pickle.dump(lasso,file)"
   ]
  },
  {
   "cell_type": "code",
   "execution_count": 68,
   "metadata": {},
   "outputs": [
    {
     "name": "stdout",
     "output_type": "stream",
     "text": [
      "Collecting flask\n",
      "  Downloading https://files.pythonhosted.org/packages/f2/28/2a03252dfb9ebf377f40fba6a7841b47083260bf8bd8e737b0c6952df83f/Flask-1.1.2-py2.py3-none-any.whl (94kB)\n",
      "Requirement already satisfied, skipping upgrade: itsdangerous>=0.24 in c:\\users\\user-pc\\documents\\anaconda\\lib\\site-packages (from flask) (1.1.0)\n",
      "Requirement already satisfied, skipping upgrade: Jinja2>=2.10.1 in c:\\users\\user-pc\\documents\\anaconda\\lib\\site-packages (from flask) (2.10.1)\n",
      "Requirement already satisfied, skipping upgrade: Werkzeug>=0.15 in c:\\users\\user-pc\\documents\\anaconda\\lib\\site-packages (from flask) (0.15.4)\n",
      "Requirement already satisfied, skipping upgrade: click>=5.1 in c:\\users\\user-pc\\documents\\anaconda\\lib\\site-packages (from flask) (7.0)\n",
      "Requirement already satisfied, skipping upgrade: MarkupSafe>=0.23 in c:\\users\\user-pc\\documents\\anaconda\\lib\\site-packages (from Jinja2>=2.10.1->flask) (1.1.1)\n",
      "Installing collected packages: flask\n",
      "  Found existing installation: Flask 1.1.1\n",
      "    Uninstalling Flask-1.1.1:\n",
      "      Successfully uninstalled Flask-1.1.1\n",
      "Successfully installed flask-1.1.2\n",
      "Note: you may need to restart the kernel to use updated packages.\n"
     ]
    }
   ],
   "source": [
    "pip install -U flask "
   ]
  },
  {
   "cell_type": "code",
   "execution_count": null,
   "metadata": {},
   "outputs": [],
   "source": []
  }
 ],
 "metadata": {
  "kernelspec": {
   "display_name": "Python 3",
   "language": "python",
   "name": "python3"
  },
  "language_info": {
   "codemirror_mode": {
    "name": "ipython",
    "version": 3
   },
   "file_extension": ".py",
   "mimetype": "text/x-python",
   "name": "python",
   "nbconvert_exporter": "python",
   "pygments_lexer": "ipython3",
   "version": "3.7.3"
  }
 },
 "nbformat": 4,
 "nbformat_minor": 2
}
